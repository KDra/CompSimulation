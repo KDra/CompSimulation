{
 "cells": [
  {
   "cell_type": "markdown",
   "metadata": {},
   "source": [
    "# Stochastic Differential Equations: Lab 1"
   ]
  },
  {
   "cell_type": "code",
   "execution_count": null,
   "metadata": {
    "collapsed": false
   },
   "outputs": [],
   "source": [
    "from IPython.core.display import HTML\n",
    "css_file = 'https://raw.githubusercontent.com/ngcm/training-public/master/ipython_notebook_styles/ngcmstyle.css'\n",
    "HTML(url=css_file)"
   ]
  },
  {
   "cell_type": "markdown",
   "metadata": {},
   "source": [
    "This background for these exercises is article of D Higham, [*An Algorithmic Introduction to Numerical Simulation of Stochastic Differential Equations*, SIAM Review 43:525-546 (2001)](http://epubs.siam.org/doi/abs/10.1137/S0036144500378302).\n",
    "Higham provides Matlab codes illustrating the basic ideas at <http://personal.strath.ac.uk/d.j.higham/algfiles.html>, which are also given in the paper."
   ]
  },
  {
   "cell_type": "markdown",
   "metadata": {},
   "source": [
    "For random processes in `python` you should look at the `numpy.random` module. To set the initial seed (which you should *not* do in a real simulation, but allows for reproducible testing), see `numpy.random.seed`."
   ]
  },
  {
   "cell_type": "markdown",
   "metadata": {},
   "source": [
    "## Brownian processes"
   ]
  },
  {
   "cell_type": "markdown",
   "metadata": {},
   "source": [
    "Simulate a Brownian process over $[0, 1]$ using a step length $\\delta t = 1/N$ for $N = 500, 1000, 2000$. Use a fixed seed of `100`. Compare the results."
   ]
  },
  {
   "cell_type": "code",
   "execution_count": null,
   "metadata": {
    "collapsed": false
   },
   "outputs": [],
   "source": [
    "%matplotlib inline\n",
    "import numpy\n",
    "from matplotlib import pyplot\n",
    "from matplotlib import rcParams\n",
    "rcParams['font.family'] = 'serif'\n",
    "rcParams['font.size'] = 16\n",
    "rcParams['figure.figsize'] = (12,6)\n",
    "from scipy.integrate import quad"
   ]
  },
  {
   "cell_type": "markdown",
   "metadata": {},
   "source": [
    "Evaluate the function $u(W(t)) = \\sin^2(t + W(t))$, where $W(t)$ is a Brownian process, on $M$ Brownian paths for $M = 500, 1000, 2000$. Compare the *average* path for each $M$."
   ]
  },
  {
   "cell_type": "markdown",
   "metadata": {},
   "source": [
    "Analytic solution to integral is\n",
    "\n",
    "$$\n",
    "\\begin{equation}\n",
    "  \\int_{-\\infty}^{\\infty} \\frac{\\sin(t+x)^2 \\exp(-x^2 / 2t)}{\\sqrt{2 \\pi t}} dx\n",
    "\\end{equation}\n",
    "$$"
   ]
  },
  {
   "cell_type": "code",
   "execution_count": null,
   "metadata": {
    "collapsed": false
   },
   "outputs": [],
   "source": [
    "#This computes the exact solution!\n",
    "\n",
    "tint = numpy.linspace(0.005, numpy.pi, 1000)\n",
    "def integrand(x,t):\n",
    "    return numpy.sin(t+x)**2*numpy.exp(-x**2/(2.0*t))/numpy.sqrt(2.0*numpy.pi*t)\n",
    "intexact = numpy.zeros_like(tint)\n",
    "for i, t in enumerate(tint):\n",
    "    intexact[i], err = quad(integrand, -numpy.inf, numpy.inf, args=(t,))"
   ]
  },
  {
   "cell_type": "markdown",
   "metadata": {},
   "source": [
    "## Stochastic integrals"
   ]
  },
  {
   "cell_type": "markdown",
   "metadata": {},
   "source": [
    "Write functions to compute the Itô and Stratonovich integrals of a function $h(t, W(t))$ of a *given* Brownian process $W(t)$ over the interval $[0, 1]$."
   ]
  },
  {
   "cell_type": "code",
   "execution_count": null,
   "metadata": {
    "collapsed": false
   },
   "outputs": [],
   "source": [
    "def ito(h, trange, dW):\n",
    "    \"\"\"Compute the Ito stochastic integral given the range of t.\n",
    "    \n",
    "    Parameters\n",
    "    ----------\n",
    "    \n",
    "    h : function\n",
    "        integrand\n",
    "    trange : list of float\n",
    "        the range of integration\n",
    "    dW : array of float\n",
    "        Brownian increments\n",
    "    seed : integer\n",
    "        optional seed for the Brownian path\n",
    "    Returns\n",
    "    -------\n",
    "    \n",
    "    ito : float\n",
    "        the integral\n",
    "    \"\"\"\n",
    "    \n",
    "    return ito"
   ]
  },
  {
   "cell_type": "code",
   "execution_count": null,
   "metadata": {
    "collapsed": false
   },
   "outputs": [],
   "source": [
    "def stratonovich(h, trange, dW):\n",
    "    \"\"\"Compute the Stratonovich stochastic integral given the range of t.\n",
    "    \n",
    "    Parameters\n",
    "    ----------\n",
    "    \n",
    "    h : function\n",
    "        integrand\n",
    "    trange : list of float\n",
    "        the range of integration\n",
    "    dW : array of float\n",
    "        the Brownian increments\n",
    "        \n",
    "    Returns\n",
    "    -------\n",
    "    \n",
    "    stratonovich : float\n",
    "        the integral\n",
    "    \"\"\"\n",
    "    \n",
    "    return stratonovich"
   ]
  },
  {
   "cell_type": "markdown",
   "metadata": {},
   "source": [
    "Test the functions on $h = W(t)$ for various $N$. Compare the limiting values of the integrals."
   ]
  },
  {
   "cell_type": "markdown",
   "metadata": {},
   "source": [
    "## Euler-Maruyama's method"
   ]
  },
  {
   "cell_type": "markdown",
   "metadata": {},
   "source": [
    "Apply the Euler-Maruyama method to the stochastic differential equation\n",
    "\n",
    "$$\n",
    "\\begin{equation}\n",
    "  dX(t) = \\lambda X(t) + \\mu X(t) dW(t), \\qquad X(0) = X_0.\n",
    "\\end{equation}\n",
    "$$\n",
    "\n",
    "Choose any reasonable values of the free parameters $\\lambda, \\mu, X_0$.\n",
    "\n",
    "The exact solution to this equation is $X(t) = X(0) \\exp \\left[ \\left( \\lambda - \\tfrac{1}{2} \\mu^2 \\right) t + \\mu W(t) \\right]$. Fix the timetstep and compare your solution to the exact solution."
   ]
  },
  {
   "cell_type": "markdown",
   "metadata": {},
   "source": [
    "Vary the timestep of the Brownian path and check how the numerical solution compares to the exact solution."
   ]
  },
  {
   "cell_type": "markdown",
   "metadata": {},
   "source": [
    "## Convergence"
   ]
  },
  {
   "cell_type": "markdown",
   "metadata": {},
   "source": [
    "Investigate the weak and strong convergence of your method, applied to the problem above."
   ]
  },
  {
   "cell_type": "markdown",
   "metadata": {},
   "source": [
    "## Milstein's method"
   ]
  },
  {
   "cell_type": "markdown",
   "metadata": {},
   "source": [
    "Implement Milstein's method, applied to the problem above."
   ]
  },
  {
   "cell_type": "markdown",
   "metadata": {},
   "source": [
    "Check the convergence again."
   ]
  },
  {
   "cell_type": "markdown",
   "metadata": {},
   "source": [
    "Compare the *performance* of the Euler-Maruyama and Milstein method using eg `timeit`. At what point is one method better than the other?"
   ]
  },
  {
   "cell_type": "markdown",
   "metadata": {},
   "source": [
    "## Population problem"
   ]
  },
  {
   "cell_type": "markdown",
   "metadata": {},
   "source": [
    "Apply the algorithms, convergence and performance tests to the SDE\n",
    "\n",
    "$$\n",
    "\\begin{equation}\n",
    "  dX(t) = r X(t) (K - X(t)) dt + \\beta X(t) dW(t), \\qquad X(0) = X_0.\n",
    "\\end{equation}\n",
    "$$\n",
    "\n",
    "Use the parameters $r = 2, K = 1, \\beta = 0.25, X_0 = 0.5$."
   ]
  },
  {
   "cell_type": "markdown",
   "metadata": {},
   "source": [
    "Investigate how the behaviour varies as you change the parameters $r, K, \\beta$."
   ]
  }
 ],
 "metadata": {
  "kernelspec": {
   "display_name": "Python 3",
   "language": "python",
   "name": "python3"
  },
  "language_info": {
   "codemirror_mode": {
    "name": "ipython",
    "version": 3
   },
   "file_extension": ".py",
   "mimetype": "text/x-python",
   "name": "python",
   "nbconvert_exporter": "python",
   "pygments_lexer": "ipython3",
   "version": "3.4.3"
  }
 },
 "nbformat": 4,
 "nbformat_minor": 0
}
