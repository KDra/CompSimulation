{
 "cells": [
  {
   "cell_type": "markdown",
   "metadata": {},
   "source": [
    "# Coursework 1: Stochastic Differential Equations"
   ]
  },
  {
   "cell_type": "code",
   "execution_count": 1,
   "metadata": {
    "collapsed": false
   },
   "outputs": [
    {
     "data": {
      "text/html": [
       "<link href='http://fonts.googleapis.com/css?family=Open+Sans:100,300,400,500,700,800,900,100italic,300italic,400italic,500italic,700italic,800italic,900italic' rel='stylesheet' type='text/css'>\n",
       "<link href='http://fonts.googleapis.com/css?family=Arvo:400,700,400italic' rel='stylesheet' type='text/css'>\n",
       "<link href='http://fonts.googleapis.com/css?family=PT+Mono' rel='stylesheet' type='text/css'>\n",
       "<link href='http://fonts.googleapis.com/css?family=Shadows+Into+Light' rel='stylesheet' type='text/css'>\n",
       "<link href='http://fonts.googleapis.com/css?family=Nixie+One' rel='stylesheet' type='text/css'>\n",
       "<style>\n",
       "\n",
       "@font-face {\n",
       "    font-family: \"Computer Modern\";\n",
       "    src: url('http://mirrors.ctan.org/fonts/cm-unicode/fonts/otf/cmunss.otf');\n",
       "}\n",
       "\n",
       "#notebook_panel { /* main background */\n",
       "    background: rgb(245,245,245);\n",
       "}\n",
       "\n",
       "div.cell { /* set cell width */\n",
       "    width: 1000px;\n",
       "}\n",
       "\n",
       "div #notebook { /* centre the content */\n",
       "    background: #fff; /* white background for content */\n",
       "    width: 1200px;\n",
       "    margin: auto;\n",
       "    padding-left: 0em;\n",
       "}\n",
       "\n",
       "#notebook li { /* More space between bullet points */\n",
       "margin-top:0.8em;\n",
       "}\n",
       "\n",
       "/* draw border around running cells */\n",
       "div.cell.border-box-sizing.code_cell.running { \n",
       "    border: 1px solid #111;\n",
       "}\n",
       "\n",
       "/* Put a solid color box around each cell and its output, visually linking them*/\n",
       "div.cell.code_cell {\n",
       "    background-color: rgb(256,256,256); \n",
       "    border-radius: 0px; \n",
       "    padding: 0.5em;\n",
       "    margin-left:1em;\n",
       "    margin-top: 1em;\n",
       "}\n",
       "\n",
       "div.text_cell_render{\n",
       "    font-family: 'Open Sans' sans-serif;\n",
       "    line-height: 140%;\n",
       "    font-size: 125%;\n",
       "    font-weight: 400;\n",
       "    width:900px;\n",
       "    margin-left:auto;\n",
       "    margin-right:auto;\n",
       "}\n",
       "\n",
       "\n",
       "/* Formatting for header cells */\n",
       ".text_cell_render h1 {\n",
       "    font-family: 'Arvo', serif;\n",
       "    font-style:regular;\n",
       "    font-weight: 400;    \n",
       "    font-size: 45pt;\n",
       "    line-height: 100%;\n",
       "    color: rgb(0,51,102);\n",
       "    margin-bottom: 0.5em;\n",
       "    margin-top: 0.5em;\n",
       "    display: block;\n",
       "}\t\n",
       ".text_cell_render h2 {\n",
       "    font-family: 'Arvo', serif;\n",
       "    font-weight: 400;\n",
       "    font-size: 30pt;\n",
       "    line-height: 100%;\n",
       "    color: rgb(0,51,102);\n",
       "    margin-bottom: 0.1em;\n",
       "    margin-top: 0.3em;\n",
       "    display: block;\n",
       "}\t\n",
       "\n",
       ".text_cell_render h3 {\n",
       "    font-family: 'Arvo', serif;\n",
       "    margin-top:16px;\n",
       "\tfont-size: 22pt;\n",
       "    font-weight: 600;\n",
       "    margin-bottom: 3px;\n",
       "    font-style: regular;\n",
       "    color: rgb(102,102,0);\n",
       "}\n",
       "\n",
       ".text_cell_render h4 {    /*Use this for captions*/\n",
       "    font-family: 'Arvo', serif;\n",
       "    font-size: 14pt;\n",
       "    text-align: center;\n",
       "    margin-top: 0em;\n",
       "    margin-bottom: 2em;\n",
       "    font-style: regular;\n",
       "}\n",
       "\n",
       ".text_cell_render h5 {  /*Use this for small titles*/\n",
       "    font-family: 'Arvo', sans-serif;\n",
       "    font-weight: 400;\n",
       "    font-size: 16pt;\n",
       "    color: rgb(163,0,0);\n",
       "    font-style: italic;\n",
       "    margin-bottom: .1em;\n",
       "    margin-top: 0.8em;\n",
       "    display: block;\n",
       "}\n",
       "\n",
       ".text_cell_render h6 { /*use this for copyright note*/\n",
       "    font-family: 'PT Mono', sans-serif;\n",
       "    font-weight: 300;\n",
       "    font-size: 9pt;\n",
       "    line-height: 100%;\n",
       "    color: grey;\n",
       "    margin-bottom: 1px;\n",
       "    margin-top: 1px;\n",
       "}\n",
       "\n",
       ".CodeMirror{\n",
       "        font-family: \"PT Mono\";\n",
       "        font-size: 90%;\n",
       "}\n",
       "\n",
       "</style>\n",
       "<script>\n",
       "    MathJax.Hub.Config({\n",
       "                        TeX: {\n",
       "                           extensions: [\"AMSmath.js\"],\n",
       "                           equationNumbers: { autoNumber: \"AMS\", useLabelIds: true}\n",
       "                           },\n",
       "                tex2jax: {\n",
       "                    inlineMath: [ ['$','$'], [\"\\\\(\",\"\\\\)\"] ],\n",
       "                    displayMath: [ ['$$','$$'], [\"\\\\[\",\"\\\\]\"] ]\n",
       "                },\n",
       "                displayAlign: 'center', // Change this to 'center' to center equations.\n",
       "                \"HTML-CSS\": {\n",
       "                    styles: {'.MathJax_Display': {\"margin\": 4}}\n",
       "                }\n",
       "        });\n",
       "</script>\n"
      ],
      "text/plain": [
       "<IPython.core.display.HTML object>"
      ]
     },
     "execution_count": 1,
     "metadata": {},
     "output_type": "execute_result"
    }
   ],
   "source": [
    "from IPython.core.display import HTML\n",
    "css_file = 'https://raw.githubusercontent.com/ngcm/training-public/master/ipython_notebook_styles/ngcmstyle.css'\n",
    "HTML(url=css_file)"
   ]
  },
  {
   "cell_type": "code",
   "execution_count": 1,
   "metadata": {
    "collapsed": false
   },
   "outputs": [],
   "source": [
    "%matplotlib inline\n",
    "import numpy as np\n",
    "from matplotlib import pyplot as plt\n",
    "from matplotlib import rcParams\n",
    "rcParams['font.family'] = 'serif'\n",
    "rcParams['font.size'] = 16\n",
    "rcParams['figure.figsize'] = (12, 6)"
   ]
  },
  {
   "cell_type": "markdown",
   "metadata": {},
   "source": [
    "Consider the Ornstein-Uhlenbeck problem\n",
    "\n",
    "$$\n",
    "\\begin{equation}\n",
    "  dX_t = -\\lambda X_t \\, dt + \\mu \\, dW_t.\n",
    "\\end{equation}\n",
    "$$"
   ]
  },
  {
   "cell_type": "markdown",
   "metadata": {},
   "source": [
    "## Setup"
   ]
  },
  {
   "cell_type": "markdown",
   "metadata": {},
   "source": [
    "Using standard ODE techniques such as variation of parameters we can show that its solution is\n",
    "\n",
    "\\begin{equation}\n",
    "  X_t = e^{-\\lambda t} X_0 + \\mu \\int_0^t e^{-\\lambda (t - s)} \\, dW_s.\n",
    "\\end{equation}"
   ]
  },
  {
   "cell_type": "markdown",
   "metadata": {},
   "source": [
    "In addition, if we assume that $g$ is a deterministic function, then using the two identities\n",
    "\n",
    "\\begin{align}\n",
    "  \\mathbb{E} \\left\\{ \\int_0^t g(s) \\, dW_s \\right\\} & = 0, \\\\\n",
    "  \\mathbb{E} \\left( \\left\\{ \\int_0^t g(s) \\, dW_s \\right\\}^2 \\right) & = \\int_0^t g^2(s) \\, ds,\n",
    "\\end{align}\n",
    "\n",
    "we can calculate $\\mathbb{E}(X_t)$ and $\\mathbb{E}(X_t^2)$ as\n",
    "\n",
    "\n",
    "\\begin{align}\n",
    "  \\mathbb{E}(X_t) & = e^{-\\lambda t} X_0, \\\\\n",
    "  \\mathbb{E}(X_t^2) & = e^{-2\\lambda t} X_0^2 + \\frac{\\mu^2}{2 \\lambda} \\left( 1 - e^{-2 \\lambda t} \\right).\n",
    "\\end{align}\n",
    "\n",
    "In particular we can show that\n",
    "\n",
    "\\begin{equation}\n",
    "  \\lim_{t \\to \\infty} X_t \\sim N \\left( 0, \\frac{\\mu^2}{2 \\lambda} \\right).\n",
    "\\end{equation}"
   ]
  },
  {
   "cell_type": "markdown",
   "metadata": {},
   "source": [
    "## Question 1"
   ]
  },
  {
   "cell_type": "markdown",
   "metadata": {},
   "source": [
    "Solve the Ornstein-Uhlenbeck problem using the Euler-Maruyama method for $X_0 = 1, T=1, \\lambda=1, \\mu=1$ and different timesteps (suggest using $2^{4, \\dots 10}$). What is the weak order of convergence? (Use $p(X) = X^2$)."
   ]
  },
  {
   "cell_type": "code",
   "execution_count": 2,
   "metadata": {
    "collapsed": true
   },
   "outputs": [],
   "source": [
    "def euler_maruyama(trange, l=3.0, mu=1.0, X0=1.0, R=2, dw=None, seed=100):\n",
    "    \"\"\"Compute the Stratonovich stochastic integral given the range of t.\n",
    "    \n",
    "    Parameters\n",
    "    ----------\n",
    "    \n",
    "    h : function\n",
    "        integrand\n",
    "    trange : vector of float\n",
    "        the range of integration\n",
    "    dW : array of float\n",
    "        the Brownian increments\n",
    "        \n",
    "    Returns\n",
    "    -------\n",
    "    \n",
    "    em : float\n",
    "        the integral\n",
    "    \"\"\"\n",
    "    N = len(trange)\n",
    "    R = int(R)\n",
    "    DT = R * (trange[1] - trange[0])\n",
    "    L = int(N/R)\n",
    "    np.random.seed(seed=seed)\n",
    "    if dw==None:\n",
    "        dw = (np.random.rand(N-2) - 0.5)*np.sqrt(1/float(N))\n",
    "    xt = X0\n",
    "    em = np.zeros(L)\n",
    "    for i in np.arange(L):\n",
    "        Winc = np.sum(dw[R * (i-1) + 1 : R * i])\n",
    "        xt = xt + l*DT*xt + mu*Winc\n",
    "        em[i] = xt\n",
    "    T = np.linspace(trange[0], trange[-1], L)\n",
    "    return T, em"
   ]
  },
  {
   "cell_type": "code",
   "execution_count": 6,
   "metadata": {
    "collapsed": false
   },
   "outputs": [],
   "source": [
    "# Parameters\n",
    "\n",
    "T = 1.0\n",
    "lamda = 1.0\n",
    "mu = 1.0\n",
    "\n",
    "X0 = 1.0\n",
    "for i in np.arange(2, 11):\n",
    "    trange = np.linspace(0.0, T, num=2**i)\n",
    "    t, em = euler_maruyama(trange, l=lamda, mu=mu, X0=X0, R=4)\n"
   ]
  },
  {
   "cell_type": "markdown",
   "metadata": {},
   "source": [
    "## Question 2"
   ]
  },
  {
   "cell_type": "markdown",
   "metadata": {},
   "source": [
    "Now consider $T=10$ and perform $10^5$ realizations for each time step $h$ (your choice of timestep). Plot a histogram of $X^{(h)}(T)$ for one given $h$. How is it distributed?"
   ]
  },
  {
   "cell_type": "code",
   "execution_count": 7,
   "metadata": {
    "collapsed": false
   },
   "outputs": [],
   "source": []
  },
  {
   "cell_type": "markdown",
   "metadata": {},
   "source": [
    "You should be able to show (numerically, by varying $h$ and computing the mean of your result) that\n",
    "\n",
    "$$\n",
    "\\begin{equation}\n",
    "  X^{(h)}(T) \\sim N \\left( 0, \\frac{\\mu^2}{2 \\lambda - \\lambda^2 h} \\right) \\qquad \\text{for large } T.\n",
    "\\end{equation}\n",
    "$$"
   ]
  },
  {
   "cell_type": "code",
   "execution_count": 9,
   "metadata": {
    "collapsed": false
   },
   "outputs": [],
   "source": []
  },
  {
   "cell_type": "markdown",
   "metadata": {},
   "source": [
    "## Question 3"
   ]
  },
  {
   "cell_type": "markdown",
   "metadata": {},
   "source": [
    "Now consider the following discretization of the Ornstein-Uhlenbeck problem:\n",
    "\n",
    "$$\n",
    "\\begin{equation}\n",
    "  X_{n+1} = X_n - \\lambda h \\theta X_{n+1} - \\lambda h (1 - \\theta) X_n + \\mu \\Delta W_n\n",
    "\\end{equation}\n",
    "$$\n",
    "\n",
    "with $\\theta = 1/2$.\n",
    "\n",
    "Use the parameters $T=1, \\lambda=1, \\mu=1$. What is the order of weak convergence? (Again use $p(X) = X^2$; going above $10^5$ realizations is probably too costly, which will limit the ability to get a reliable answer)."
   ]
  },
  {
   "cell_type": "code",
   "execution_count": 11,
   "metadata": {
    "collapsed": false
   },
   "outputs": [],
   "source": [
    "# Parameters\n",
    "T = 0.1\n",
    "lamda = 1.0\n",
    "mu = 1.0"
   ]
  },
  {
   "cell_type": "code",
   "execution_count": 12,
   "metadata": {
    "collapsed": false
   },
   "outputs": [],
   "source": []
  },
  {
   "cell_type": "markdown",
   "metadata": {},
   "source": [
    "## Question 4\n",
    "\n",
    "Consider now $T \\gg 1$ (essentially $T=10$) and repeat the procedure in question 2. Suggest why the behaviour of the distribution of the results with $h$ is different from question 2."
   ]
  },
  {
   "cell_type": "code",
   "execution_count": 15,
   "metadata": {
    "collapsed": false
   },
   "outputs": [],
   "source": []
  }
 ],
 "metadata": {
  "kernelspec": {
   "display_name": "Python 3",
   "language": "python",
   "name": "python3"
  },
  "language_info": {
   "codemirror_mode": {
    "name": "ipython",
    "version": 3
   },
   "file_extension": ".py",
   "mimetype": "text/x-python",
   "name": "python",
   "nbconvert_exporter": "python",
   "pygments_lexer": "ipython3",
   "version": "3.5.1"
  }
 },
 "nbformat": 4,
 "nbformat_minor": 0
}
