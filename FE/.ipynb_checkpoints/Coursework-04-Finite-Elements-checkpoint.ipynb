{
 "cells": [
  {
   "cell_type": "markdown",
   "metadata": {},
   "source": [
    "# Finite Elements Coursework"
   ]
  },
  {
   "cell_type": "code",
   "execution_count": 1,
   "metadata": {
    "collapsed": false
   },
   "outputs": [
    {
     "data": {
      "text/html": [
       "<link href='http://fonts.googleapis.com/css?family=Open+Sans:100,300,400,500,700,800,900,100italic,300italic,400italic,500italic,700italic,800italic,900italic' rel='stylesheet' type='text/css'>\n",
       "<link href='http://fonts.googleapis.com/css?family=Arvo:400,700,400italic' rel='stylesheet' type='text/css'>\n",
       "<link href='http://fonts.googleapis.com/css?family=PT+Mono' rel='stylesheet' type='text/css'>\n",
       "<link href='http://fonts.googleapis.com/css?family=Shadows+Into+Light' rel='stylesheet' type='text/css'>\n",
       "<link href='http://fonts.googleapis.com/css?family=Nixie+One' rel='stylesheet' type='text/css'>\n",
       "<style>\n",
       "\n",
       "@font-face {\n",
       "    font-family: \"Computer Modern\";\n",
       "    src: url('http://mirrors.ctan.org/fonts/cm-unicode/fonts/otf/cmunss.otf');\n",
       "}\n",
       "\n",
       "#notebook_panel { /* main background */\n",
       "    background: rgb(245,245,245);\n",
       "}\n",
       "\n",
       "div.cell { /* set cell width */\n",
       "    width: 1000px;\n",
       "}\n",
       "\n",
       "div #notebook { /* centre the content */\n",
       "    background: #fff; /* white background for content */\n",
       "    width: 1200px;\n",
       "    margin: auto;\n",
       "    padding-left: 0em;\n",
       "}\n",
       "\n",
       "#notebook li { /* More space between bullet points */\n",
       "margin-top:0.8em;\n",
       "}\n",
       "\n",
       "/* draw border around running cells */\n",
       "div.cell.border-box-sizing.code_cell.running { \n",
       "    border: 1px solid #111;\n",
       "}\n",
       "\n",
       "/* Put a solid color box around each cell and its output, visually linking them*/\n",
       "div.cell.code_cell {\n",
       "    background-color: rgb(256,256,256); \n",
       "    border-radius: 0px; \n",
       "    padding: 0.5em;\n",
       "    margin-left:1em;\n",
       "    margin-top: 1em;\n",
       "}\n",
       "\n",
       "div.text_cell_render{\n",
       "    font-family: 'Open Sans' sans-serif;\n",
       "    line-height: 140%;\n",
       "    font-size: 125%;\n",
       "    font-weight: 400;\n",
       "    width:900px;\n",
       "    margin-left:auto;\n",
       "    margin-right:auto;\n",
       "}\n",
       "\n",
       "\n",
       "/* Formatting for header cells */\n",
       ".text_cell_render h1 {\n",
       "    font-family: 'Arvo', serif;\n",
       "    font-style:regular;\n",
       "    font-weight: 400;    \n",
       "    font-size: 45pt;\n",
       "    line-height: 100%;\n",
       "    color: rgb(0,51,102);\n",
       "    margin-bottom: 0.5em;\n",
       "    margin-top: 0.5em;\n",
       "    display: block;\n",
       "}\t\n",
       ".text_cell_render h2 {\n",
       "    font-family: 'Arvo', serif;\n",
       "    font-weight: 400;\n",
       "    font-size: 30pt;\n",
       "    line-height: 100%;\n",
       "    color: rgb(0,51,102);\n",
       "    margin-bottom: 0.1em;\n",
       "    margin-top: 0.3em;\n",
       "    display: block;\n",
       "}\t\n",
       "\n",
       ".text_cell_render h3 {\n",
       "    font-family: 'Arvo', serif;\n",
       "    margin-top:16px;\n",
       "\tfont-size: 22pt;\n",
       "    font-weight: 600;\n",
       "    margin-bottom: 3px;\n",
       "    font-style: regular;\n",
       "    color: rgb(102,102,0);\n",
       "}\n",
       "\n",
       ".text_cell_render h4 {    /*Use this for captions*/\n",
       "    font-family: 'Arvo', serif;\n",
       "    font-size: 14pt;\n",
       "    text-align: center;\n",
       "    margin-top: 0em;\n",
       "    margin-bottom: 2em;\n",
       "    font-style: regular;\n",
       "}\n",
       "\n",
       ".text_cell_render h5 {  /*Use this for small titles*/\n",
       "    font-family: 'Arvo', sans-serif;\n",
       "    font-weight: 400;\n",
       "    font-size: 16pt;\n",
       "    color: rgb(163,0,0);\n",
       "    font-style: italic;\n",
       "    margin-bottom: .1em;\n",
       "    margin-top: 0.8em;\n",
       "    display: block;\n",
       "}\n",
       "\n",
       ".text_cell_render h6 { /*use this for copyright note*/\n",
       "    font-family: 'PT Mono', sans-serif;\n",
       "    font-weight: 300;\n",
       "    font-size: 9pt;\n",
       "    line-height: 100%;\n",
       "    color: grey;\n",
       "    margin-bottom: 1px;\n",
       "    margin-top: 1px;\n",
       "}\n",
       "\n",
       ".CodeMirror{\n",
       "        font-family: \"PT Mono\";\n",
       "        font-size: 90%;\n",
       "}\n",
       "\n",
       "</style>\n",
       "<script>\n",
       "    MathJax.Hub.Config({\n",
       "                        TeX: {\n",
       "                           extensions: [\"AMSmath.js\"],\n",
       "                           equationNumbers: { autoNumber: \"AMS\", useLabelIds: true}\n",
       "                           },\n",
       "                tex2jax: {\n",
       "                    inlineMath: [ ['$','$'], [\"\\\\(\",\"\\\\)\"] ],\n",
       "                    displayMath: [ ['$$','$$'], [\"\\\\[\",\"\\\\]\"] ]\n",
       "                },\n",
       "                displayAlign: 'center', // Change this to 'center' to center equations.\n",
       "                \"HTML-CSS\": {\n",
       "                    styles: {'.MathJax_Display': {\"margin\": 4}}\n",
       "                }\n",
       "        });\n",
       "</script>\n"
      ],
      "text/plain": [
       "<IPython.core.display.HTML object>"
      ]
     },
     "execution_count": 1,
     "metadata": {},
     "output_type": "execute_result"
    }
   ],
   "source": [
    "from IPython.core.display import HTML\n",
    "css_file = 'https://raw.githubusercontent.com/ngcm/training-public/master/ipython_notebook_styles/ngcmstyle.css'\n",
    "HTML(url=css_file)"
   ]
  },
  {
   "cell_type": "markdown",
   "metadata": {},
   "source": [
    "## Problem setup"
   ]
  },
  {
   "cell_type": "markdown",
   "metadata": {},
   "source": [
    "Consider a two dimensional solid body modelled by a linear, isotropic material (as in lab 2). We will use a model for concrete with Young's modulus $E = 40$GPa, Poisson's ratio $\\nu = 0.15$, and density $2400$kg m${}^{-2}$ (obviously the density should really be per volume; here we factor out the $y$ direction, assuming everything is symmetric and $1$m long in that direction)."
   ]
  },
  {
   "cell_type": "markdown",
   "metadata": {},
   "source": [
    "The body will be a stylized \"N\" shape: assuming the bottom left corner is at the origin of the coordinates, the body will be $3$m high and $4$m wide."
   ]
  },
  {
   "cell_type": "code",
   "execution_count": 2,
   "metadata": {
    "collapsed": false
   },
   "outputs": [],
   "source": [
    "%matplotlib inline\n",
    "from matplotlib import pyplot\n",
    "import numpy as np\n",
    "from matplotlib import rcParams\n",
    "rcParams['font.family'] = 'serif'\n",
    "rcParams['font.size'] = 16\n",
    "rcParams['figure.figsize'] = (12, 6)"
   ]
  },
  {
   "cell_type": "code",
   "execution_count": 3,
   "metadata": {
    "collapsed": false
   },
   "outputs": [
    {
     "data": {
      "image/png": "[encoded data removed]",
      "text/plain": [
       "<matplotlib.figure.Figure at 0x10ded6ad0>"
      ]
     },
     "metadata": {},
     "output_type": "display_data"
    }
   ],
   "source": [
    "corners = np.array([[0,0],[0,3],[1,3],[3,1],[3,3],[4,3],[4,0],[3,0],[1,2],[1,0],[0,0]])\n",
    "pyplot.plot(corners[:,0],corners[:,1],linewidth=2)\n",
    "pyplot.xlabel(r\"$x$\")\n",
    "pyplot.ylabel(r\"$z$\")\n",
    "pyplot.axis('equal')\n",
    "pyplot.ylim(-0.1,3.1);"
   ]
  },
  {
   "cell_type": "markdown",
   "metadata": {},
   "source": [
    "Set the displacements along the $y=0$ boundary to be zero. All other boundaries are free. Write a finite element method using **triangular** elements to compute the displacement of the body satisfying the equation\n",
    "\n",
    "$$\n",
    "  \\nabla \\sigma + {\\bf b} = {\\bf 0}\n",
    "$$\n",
    "\n",
    "where the body force is given by gravity, ${\\bf b} = (0, -m g)^T$ where $g = 9.8$m s${}^{-2}$ and $m$ is the mass of the block, $m = 12000$kg."
   ]
  },
  {
   "cell_type": "markdown",
   "metadata": {},
   "source": [
    "First use the obvious sixteen elements with triangles one metre to a side. Then split each element into two triangles that are half a metre to a side."
   ]
  },
  {
   "cell_type": "markdown",
   "metadata": {},
   "source": [
    "The standard triangle in $(\\xi, \\eta)$ coordinates is:"
   ]
  },
  {
   "cell_type": "code",
   "execution_count": 4,
   "metadata": {
    "collapsed": false
   },
   "outputs": [
    {
     "data": {
      "image/png": "[encoded data removed]",
      "text/plain": [
       "<matplotlib.figure.Figure at 0x10ded6810>"
      ]
     },
     "metadata": {},
     "output_type": "display_data"
    }
   ],
   "source": [
    "corners = np.array([[0.0, 0.0], [1.0, 0.0], [0.0, 1.0], [0.0, 0.0]])\n",
    "pyplot.plot(corners[:,0],corners[:,1],linewidth=2)\n",
    "pyplot.xlabel(r\"$\\xi$\")\n",
    "pyplot.ylabel(r\"$\\eta$\")\n",
    "pyplot.axis('equal')\n",
    "pyplot.ylim(-0.1,1.1);"
   ]
  },
  {
   "cell_type": "markdown",
   "metadata": {},
   "source": [
    "The shape functions for a triangle are\n",
    "\n",
    "\\begin{align}\n",
    "  N_1(\\xi, \\eta) &= 1 - \\eta - \\xi, \\\\\n",
    "  N_2(\\xi, \\eta) &= \\eta, \\\\\n",
    "  N_3(\\xi, \\eta) &= \\xi.\n",
    "\\end{align}"
   ]
  },
  {
   "cell_type": "code",
   "execution_count": 5,
   "metadata": {
    "collapsed": true
   },
   "outputs": [],
   "source": [
    "def shape_functions(coords):\n",
    "    \"\"\"\n",
    "    Value of the shape functions at given parametric coordinates\n",
    "    \n",
    "    Parameters\n",
    "    ----------\n",
    "    \n",
    "    coords : vector of float\n",
    "        Parametric coordinates (xi, eta)\n",
    "    \n",
    "    Returns\n",
    "    -------\n",
    "    \n",
    "    N_i : vector of float\n",
    "        The four shape functions at this point\n",
    "        \n",
    "    Notes\n",
    "    -----\n",
    "    \n",
    "    It is **essential** that the order of the shape functions matches the order of the nodes in the element. \n",
    "    That is, in parametric coordinates we have \n",
    "    0 : bottom left\n",
    "    1 : bottom right\n",
    "    2 : top\n",
    "    \"\"\"\n",
    "    N = np.zeros((3,))\n",
    "    N[0] = 1.0-coords[0] - coords[1]\n",
    "    N[1] = coords[0]\n",
    "    N[2] = coords[1]\n",
    "    \n",
    "    return N"
   ]
  },
  {
   "cell_type": "code",
   "execution_count": 6,
   "metadata": {
    "collapsed": true
   },
   "outputs": [],
   "source": [
    "def deriv_shape_functions():\n",
    "    \"\"\"\n",
    "    Value of the derivatives of the shape functions wrt parametric coordinates at given parametric coordinates\n",
    "    \n",
    "    Returns\n",
    "    -------\n",
    "    \n",
    "    d_N_i : array of float\n",
    "        The three shape functions derivatives wrt (xi, eta)\n",
    "    \"\"\"\n",
    "    dN = np.zeros((2,3))\n",
    "    dN[0,0] = -1.0\n",
    "    dN[0,1] = 0.0\n",
    "    dN[0,2] = 1.0\n",
    "    dN[1,0] = -1.0\n",
    "    dN[1,1] = 1.0\n",
    "    dN[1,2] = 0.0\n",
    "    \n",
    "    return dN"
   ]
  },
  {
   "cell_type": "markdown",
   "metadata": {},
   "source": [
    "The two-point Gauss quadrature formula within the standard triangular element is\n",
    "\n",
    "\\begin{equation}\n",
    "  \\int \\text{d} \\xi \\, \\text{d} \\eta \\, f(\\eta, \\xi) = \\frac{1}{6} \\left[ f \\left( \\frac{1}{6}, \\frac{1}{6} \\right) +  f \\left( \\frac{2}{3}, \\frac{1}{6} \\right) +  f \\left( \\frac{1}{6}, \\frac{2}{3} \\right) \\right].\n",
    "\\end{equation}"
   ]
  },
  {
   "cell_type": "code",
   "execution_count": 7,
   "metadata": {
    "collapsed": true
   },
   "outputs": [],
   "source": [
    "def Jacobian(node_coords):\n",
    "    \"\"\"\n",
    "    Jacobian matrix at given parametric coordinates\n",
    "    \n",
    "    Parameters\n",
    "    ----------\n",
    "    \n",
    "    coords : vector of float\n",
    "        Parametric coordinates (xi, eta)\n",
    "    node_coords : array of float\n",
    "        Physical coordinates of the nodes defining this element\n",
    "    \n",
    "    Returns\n",
    "    -------\n",
    "    \n",
    "    J : array of float\n",
    "        The Jacobian (d{x,y} / d{xi,eta})\n",
    "    \"\"\"\n",
    "    \n",
    "    dN = deriv_shape_functions()\n",
    "    J = np.dot(dN, node_coords)\n",
    "    return J"
   ]
  },
  {
   "cell_type": "code",
   "execution_count": 8,
   "metadata": {
    "collapsed": true
   },
   "outputs": [],
   "source": [
    "def GaussTri_Volume(field, node_coords):\n",
    "    \"\"\"\n",
    "    Use two point Gauss quadrature to evaluate the integral of a field over an element\n",
    "    \n",
    "    Parameters\n",
    "    ----------\n",
    "    \n",
    "    field : function\n",
    "        A way of evaluating the field variable at given parametric coordinates within the element.\n",
    "    node_coords : array of float\n",
    "        Physical coordinates of the nodes defining this element\n",
    "    \n",
    "    Returns\n",
    "    -------\n",
    "    \n",
    "    I : float\n",
    "        The integral over the element\n",
    "    \"\"\"\n",
    "    \n",
    "    point1 = 1/float(6)\n",
    "    point2 = 2/float(3)\n",
    "    I = 0\n",
    "    I += np.linalg.det(Jacobian(node_coords))*field([point1, point1])\n",
    "    I += np.linalg.det(Jacobian(node_coords))*field([point2, point1])\n",
    "    I += np.linalg.det(Jacobian(node_coords))*field([point1, point2])\n",
    "    I /= 6.0\n",
    "    return I"
   ]
  },
  {
   "cell_type": "code",
   "execution_count": 9,
   "metadata": {
    "collapsed": true
   },
   "outputs": [],
   "source": [
    "def Bmatrix(coords, node_coords):\n",
    "    \"\"\"\n",
    "    Strain-displacement B matrix (dN/dx = J^{-1} dN/dxi) at given parametric coordinates\n",
    "    \n",
    "    Parameters\n",
    "    ----------\n",
    "    \n",
    "    coords : vector of float\n",
    "        Parametric coordinates (xi, eta)\n",
    "    node_coords : array of float\n",
    "        Physical coordinates of the nodes defining this element\n",
    "    \n",
    "    Returns\n",
    "    -------\n",
    "    \n",
    "    B : array of float\n",
    "        The Strain-displacement matrix \n",
    "    \"\"\"\n",
    "    \n",
    "    dN = deriv_shape_functions()\n",
    "    J = Jacobian(node_coords)\n",
    "    B = np.dot(np.linalg.inv(J), dN)\n",
    "    return B"
   ]
  },
  {
   "cell_type": "code",
   "execution_count": 10,
   "metadata": {
    "collapsed": true
   },
   "outputs": [],
   "source": [
    "def KD(i,j):\n",
    "    \"\"\"\n",
    "    Kronecker delta\n",
    "    \"\"\"\n",
    "    \n",
    "    return int(i==j)"
   ]
  },
  {
   "cell_type": "code",
   "execution_count": 11,
   "metadata": {
    "collapsed": true
   },
   "outputs": [],
   "source": [
    "def generate_constituitive_relation(E, nu):\n",
    "    \"\"\"\n",
    "    Return function giving the consituitive relation C_{ijkl}\n",
    "    \"\"\"\n",
    "    \n",
    "    lam = E * nu / (1.0 + nu) / (1.0 - 2.0 * nu)\n",
    "    mu = E / 2.0 / (1.0 + nu)\n",
    "    \n",
    "    C = lambda i, j, k, l: lam*KD(i,j)*KD(k,l) + mu*(KD(i,k)*KD(j,l)+KD(i,l)*KD(j,k))\n",
    "\n",
    "    return C"
   ]
  },
  {
   "cell_type": "code",
   "execution_count": 12,
   "metadata": {
    "collapsed": true
   },
   "outputs": [],
   "source": [
    "def stiffness_integrand(A, B, j, l, C, node_coords):\n",
    "    \"\"\"\n",
    "    Return function giving the integrand for the stiffness matrix calculation\n",
    "    \"\"\"\n",
    "    \n",
    "    integrand = lambda coords : \\\n",
    "    C[0,j,0,l]*Bmatrix(coords, node_coords)[0,A]*Bmatrix(coords, node_coords)[0,B] + \\\n",
    "    C[1,j,0,l]*Bmatrix(coords, node_coords)[1,A]*Bmatrix(coords, node_coords)[0,B] + \\\n",
    "    C[0,j,1,l]*Bmatrix(coords, node_coords)[0,A]*Bmatrix(coords, node_coords)[1,B] + \\\n",
    "    C[1,j,1,l]*Bmatrix(coords, node_coords)[1,A]*Bmatrix(coords, node_coords)[1,B]\n",
    "    \n",
    "    return integrand"
   ]
  },
  {
   "cell_type": "code",
   "execution_count": 13,
   "metadata": {
    "collapsed": true
   },
   "outputs": [],
   "source": [
    "def element_stiffness(node_coords, C):\n",
    "    \"\"\"\n",
    "    Compute the element stiffness matrix for a given element defined by its node locations\n",
    "    \"\"\"\n",
    "    \n",
    "    K = np.zeros((6, 6))\n",
    "    Ndims = 2\n",
    "    Nnodes = 3\n",
    "    for A in range(Nnodes):\n",
    "        for j in range(Ndims):\n",
    "            for B in range(Nnodes):\n",
    "                for l in range(Ndims):\n",
    "                    K[2*A+j, 2*B+l] = GaussTri_Volume(stiffness_integrand(A,B,j,l,C,node_coords), node_coords)\n",
    "    return K"
   ]
  },
  {
   "cell_type": "code",
   "execution_count": 14,
   "metadata": {
    "collapsed": true
   },
   "outputs": [],
   "source": [
    "def force_integrand(A, j):\n",
    "    \"\"\"\n",
    "    A hand-hack for a single element here.\n",
    "    \"\"\"\n",
    "    \n",
    "    traction = [1.0e6, 0]\n",
    "    \n",
    "    integrand = lambda coords : traction[j]*shape_functions(coords)[A]\n",
    "    \n",
    "    return integrand"
   ]
  },
  {
   "cell_type": "markdown",
   "metadata": {},
   "source": [
    "Plot the displacement vector at each node."
   ]
  },
  {
   "cell_type": "markdown",
   "metadata": {},
   "source": [
    "To save time setting up the mesh, here are hand-written lists of node positions and their links to elements. Also given is the list of fixed nodes (where the displacement vanishes)."
   ]
  },
  {
   "cell_type": "code",
   "execution_count": 15,
   "metadata": {
    "collapsed": false
   },
   "outputs": [],
   "source": [
    "nodes_1m = np.array([\n",
    "        [0.0, 0.0],\n",
    "        [1.0, 0.0],\n",
    "        [0.0, 1.0],\n",
    "        [1.0, 1.0],\n",
    "        [0.0, 2.0],\n",
    "        [1.0, 2.0],\n",
    "        [0.0, 3.0],\n",
    "        [1.0, 3.0],\n",
    "        [2.0, 1.0],\n",
    "        [2.0, 2.0],\n",
    "        [3.0, 0.0],\n",
    "        [4.0, 0.0],\n",
    "        [3.0, 1.0],\n",
    "        [4.0, 1.0],\n",
    "        [3.0, 2.0],\n",
    "        [4.0, 2.0],\n",
    "        [3.0, 3.0],\n",
    "        [4.0, 3.0]\n",
    "    ])\n",
    "IEN_1m = np.array([\n",
    "        [0, 1, 2],\n",
    "        [1, 3, 2],\n",
    "        [2, 3, 4],\n",
    "        [3, 5, 4],\n",
    "        [4, 5, 6],\n",
    "        [5, 7, 6],\n",
    "        [5, 9, 7],\n",
    "        [8, 9, 5],\n",
    "        [8, 12, 9],\n",
    "        [10, 12, 8],\n",
    "        [10, 11, 12],\n",
    "        [11, 13, 12],\n",
    "        [12, 13, 14],\n",
    "        [13, 15, 14],\n",
    "        [14, 15, 16],\n",
    "        [15, 17, 16]\n",
    "    ], dtype = np.int)\n",
    "fixed_nodes_1m = np.array([0, 1, 10, 11], dtype = np.int)\n",
    "free_nodes_1m = np.array([2, 3, 4, 5, 6, 7, 8, 9, 12, 13, 14, 15, 16, 17], dtype = np.int)\n",
    "\n",
    "nodes_0_5m = np.array([\n",
    "        [0.0, 0.0],\n",
    "        [0.5, 0.0],\n",
    "        [1.0, 0.0],\n",
    "        [0.0, 0.5],\n",
    "        [0.5, 0.5],\n",
    "        [1.0, 0.5],\n",
    "        [0.0, 1.0],\n",
    "        [0.5, 1.0],\n",
    "        [1.0, 1.0],\n",
    "        [0.0, 1.5],\n",
    "        [0.5, 1.5],\n",
    "        [1.0, 1.5],\n",
    "        [0.0, 2.0],\n",
    "        [0.5, 2.0],\n",
    "        [1.0, 2.0],\n",
    "        [0.0, 2.5],\n",
    "        [0.5, 2.5],\n",
    "        [1.0, 2.5],\n",
    "        [0.0, 3.0],\n",
    "        [0.5, 3.0],\n",
    "        [1.0, 3.0],\n",
    "        [1.5, 1.5],\n",
    "        [1.5, 2.0],\n",
    "        [1.5, 2.5],\n",
    "        [2.0, 1.0],\n",
    "        [2.0, 1.5],\n",
    "        [2.0, 2.0],\n",
    "        [2.5, 0.5],\n",
    "        [2.5, 1.0],\n",
    "        [2.5, 1.5],\n",
    "        [3.0, 0.0],\n",
    "        [3.5, 0.0],\n",
    "        [4.0, 0.0],\n",
    "        [3.0, 0.5],\n",
    "        [3.5, 0.5],\n",
    "        [4.0, 0.5],\n",
    "        [3.0, 1.0],\n",
    "        [3.5, 1.0],\n",
    "        [4.0, 1.0],\n",
    "        [3.0, 1.5],\n",
    "        [3.5, 1.5],\n",
    "        [4.0, 1.5],\n",
    "        [3.0, 2.0],\n",
    "        [3.5, 2.0],\n",
    "        [4.0, 2.0],\n",
    "        [3.0, 2.5],\n",
    "        [3.5, 2.5],\n",
    "        [4.0, 2.5],\n",
    "        [3.0, 3.0],\n",
    "        [3.5, 3.0],\n",
    "        [4.0, 3.0]\n",
    "    ])\n",
    "IEN_0_5m = np.array([\n",
    "        [0, 1, 3],\n",
    "        [1, 4, 3],\n",
    "        [1, 2, 4],\n",
    "        [2, 5, 4],\n",
    "        [3, 4, 6],\n",
    "        [4, 7, 6],\n",
    "        [4, 5, 7],\n",
    "        [5, 8, 7],\n",
    "        [6, 7, 9],\n",
    "        [7, 10, 9],\n",
    "        [7, 8, 10],\n",
    "        [8, 11, 10],\n",
    "        [9, 10, 12],\n",
    "        [10, 13, 12],\n",
    "        [10, 11, 13],\n",
    "        [11, 14, 13],\n",
    "        [12, 13, 15],\n",
    "        [13, 16, 15],\n",
    "        [13, 14, 16],\n",
    "        [14, 17, 16],\n",
    "        [15, 16, 18],\n",
    "        [16, 19, 18],\n",
    "        [16, 17, 19],\n",
    "        [17, 20, 19],\n",
    "        [17, 23, 20],\n",
    "        [22, 17, 14],\n",
    "        [22, 23, 17],\n",
    "        [21, 22, 14],\n",
    "        [22, 26, 23],\n",
    "        [25, 26, 22],\n",
    "        [21, 25, 22],\n",
    "        [24, 25, 21],\n",
    "        [25, 29, 26],\n",
    "        [28, 29, 25],\n",
    "        [24, 28, 25],\n",
    "        [27, 28, 24],\n",
    "        [28, 36, 29],\n",
    "        [33, 36, 28],\n",
    "        [27, 33, 28],\n",
    "        [30, 33, 27],\n",
    "        [30, 31, 33],\n",
    "        [31, 34, 33],\n",
    "        [31, 32, 34],\n",
    "        [32, 35, 34],\n",
    "        [33, 34, 36],\n",
    "        [34, 37, 36],\n",
    "        [34, 35, 37],\n",
    "        [35, 38, 37],\n",
    "        [36, 37, 39],\n",
    "        [37, 40, 39],\n",
    "        [37, 38, 40],\n",
    "        [38, 41, 40],\n",
    "        [39, 40, 42],\n",
    "        [40, 43, 42],\n",
    "        [40, 41, 43],\n",
    "        [41, 44, 43],\n",
    "        [42, 43, 45],\n",
    "        [43, 46, 45],\n",
    "        [43, 44, 46],\n",
    "        [44, 47, 46],\n",
    "        [45, 46, 48],\n",
    "        [46, 49, 48],\n",
    "        [46, 47, 49],\n",
    "        [47, 50, 49]\n",
    "    ], dtype = np.int)\n",
    "\n",
    "fixed_nodes_0_5m = np.array([0, 1, 2, 30, 31, 32], dtype = np.int)\n",
    "free_nodes_0_5m = np.array([3, 4, 5, 6, 7, 8, 9, \n",
    "                               10, 11, 12, 13, 14, 15, 16, 17, 18, 19,\n",
    "                               20, 21, 22, 23, 24, 25, 26, 27, 28, 29,\n",
    "                               33, 34, 35, 36, 37, 38, 39,\n",
    "                               40, 41, 42, 43, 44, 45, 46, 47, 48, 49,\n",
    "                              50], dtype = np.int)"
   ]
  },
  {
   "cell_type": "code",
   "execution_count": 16,
   "metadata": {
    "collapsed": false
   },
   "outputs": [
    {
     "data": {
      "image/png": "[encoded data removed]",
      "text/plain": [
       "<matplotlib.figure.Figure at 0x10ded6290>"
      ]
     },
     "metadata": {},
     "output_type": "display_data"
    }
   ],
   "source": [
    "fig=pyplot.figure()\n",
    "ax=fig.add_subplot(111)\n",
    "for e in IEN_1m:\n",
    "    coords = np.vstack((nodes_1m[e], nodes_1m[e[0]]))\n",
    "    ax.plot(coords[:,0], coords[:,1],'kx-')\n",
    "pyplot.xlim(-0.1,4.1)\n",
    "pyplot.ylim(-0.1,3.1)\n",
    "pyplot.xlabel(r\"$x$\")\n",
    "pyplot.ylabel(r\"$y$\")\n",
    "pyplot.show();"
   ]
  },
  {
   "cell_type": "code",
   "execution_count": 17,
   "metadata": {
    "collapsed": false
   },
   "outputs": [
    {
     "data": {
      "image/png": "[encoded data removed]",
      "text/plain": [
       "<matplotlib.figure.Figure at 0x1105bd6d0>"
      ]
     },
     "metadata": {},
     "output_type": "display_data"
    }
   ],
   "source": [
    "fig=pyplot.figure()\n",
    "ax=fig.add_subplot(111)\n",
    "for e in IEN_0_5m:\n",
    "    coords = np.vstack((nodes_0_5m[e], nodes_0_5m[e[0]]))\n",
    "    ax.plot(coords[:,0], coords[:,1],'kx-')\n",
    "pyplot.xlim(-0.1,4.1)\n",
    "pyplot.ylim(-0.1,3.1)\n",
    "pyplot.xlabel(r\"$x$\")\n",
    "pyplot.ylabel(r\"$y$\")\n",
    "pyplot.show();"
   ]
  },
  {
   "cell_type": "code",
   "execution_count": 18,
   "metadata": {
    "collapsed": false
   },
   "outputs": [],
   "source": [
    "nodes = nodes_1m\n",
    "IEN = IEN_1m\n",
    "Ndims = 2\n",
    "Nnodes = len(nodes)"
   ]
  },
  {
   "cell_type": "code",
   "execution_count": 19,
   "metadata": {
    "collapsed": false
   },
   "outputs": [],
   "source": [
    "E = 4e10\n",
    "nu = 0.15\n",
    "C = np.zeros((Ndims,Ndims,Ndims,Ndims))\n",
    "Cfn = generate_constituitive_relation(E, nu)\n",
    "for i in range(Ndims):\n",
    "    for j in range(Ndims):\n",
    "        for k in range(Ndims):\n",
    "            for l in range(Ndims):\n",
    "                C[i,j,k,l] = Cfn(i,j,k,l)"
   ]
  },
  {
   "cell_type": "code",
   "execution_count": 20,
   "metadata": {
    "collapsed": false
   },
   "outputs": [],
   "source": [
    "K = np.zeros((2*len(nodes), 2*len(nodes)))\n",
    "for i in IEN:\n",
    "    Ke = element_stiffness(nodes[i], C)\n",
    "    vector = np.array([2*i[0], 2*i[0] + 1, 2*i[1], 2*i[1] + 1, 2*i[2], 2*i[2] + 1])\n",
    "    nodes2 = np.outer(np.ones((6,1), dtype=np.int), vector)\n",
    "    K[nodes2, nodes2.T] += Ke"
   ]
  },
  {
   "cell_type": "code",
   "execution_count": 23,
   "metadata": {
    "collapsed": false
   },
   "outputs": [],
   "source": [
    "F = np.zeros(2*len(nodes))\n",
    "free_rows = np.hstack((2*free_nodes_1m, 2*free_nodes_1m + 1))\n",
    "F[free_rows] = 9.81*12000/len(nodes)\n",
    "F[::2] = 0\n",
    "fixed_rows = np.hstack((2*fixed_nodes_1m, 2*fixed_nodes_1m + 1))\n",
    "#K[2*fixed_nodes_1m] = 0.0\n",
    "#K[2*fixed_nodes_1m + 1] = 0.0\n",
    "#K[:, 2*fixed_nodes_1m] = 0.0\n",
    "#K[:, 2*fixed_nodes_1m + 1] = 0.0\n",
    "#bound = np.hstack((2*fixed_nodes_1m, 2*fixed_nodes_1m + 1))\n",
    "#vec = np.outer(np.ones(len(bound), dtype=np.int), bound)\n",
    "#K[vec, vec.T] = np.eye(len(bound))\n",
    "\n",
    "d = np.linalg.solve(K, F.T)"
   ]
  },
  {
   "cell_type": "code",
   "execution_count": 24,
   "metadata": {
    "collapsed": false
   },
   "outputs": [
    {
     "data": {
      "image/png": "[encoded data removed]",
      "text/plain": [
       "<matplotlib.figure.Figure at 0x11106e590>"
      ]
     },
     "metadata": {},
     "output_type": "display_data"
    }
   ],
   "source": [
    "fig=pyplot.figure()\n",
    "ax=fig.add_subplot(111)\n",
    "eps = d.reshape(len(nodes), 2) *2e5\n",
    "for e in IEN_1m:\n",
    "    coords = np.vstack((nodes_1m[e] + eps[e], nodes_1m[e[0]] + eps[e[0]]))\n",
    "    ax.plot(coords[:,0], coords[:,1],'kx-')\n",
    "pyplot.xlim(-0.1,4.1)\n",
    "pyplot.ylim(-0.1,4.1)\n",
    "pyplot.xlabel(r\"$x$\")\n",
    "pyplot.ylabel(r\"$y$\")\n",
    "pyplot.show();"
   ]
  },
  {
   "cell_type": "code",
   "execution_count": null,
   "metadata": {
    "collapsed": true
   },
   "outputs": [],
   "source": []
  }
 ],
 "metadata": {
  "kernelspec": {
   "display_name": "Python 2",
   "language": "python",
   "name": "python2"
  },
  "language_info": {
   "codemirror_mode": {
    "name": "ipython",
    "version": 2
   },
   "file_extension": ".py",
   "mimetype": "text/x-python",
   "name": "python",
   "nbconvert_exporter": "python",
   "pygments_lexer": "ipython2",
   "version": "2.7.10"
  }
 },
 "nbformat": 4,
 "nbformat_minor": 0
}
