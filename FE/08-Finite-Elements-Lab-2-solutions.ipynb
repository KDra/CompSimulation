{
 "cells": [
  {
   "cell_type": "markdown",
   "metadata": {},
   "source": [
    "# Finite Elements Lab 2 Worksheet"
   ]
  },
  {
   "cell_type": "markdown",
   "metadata": {},
   "source": [
    "##### Georges Limbert"
   ]
  },
  {
   "cell_type": "markdown",
   "metadata": {},
   "source": [
    "###### nCATS, Faculty of Engineering and the Environment, University of Southampton"
   ]
  },
  {
   "cell_type": "code",
   "execution_count": 1,
   "metadata": {
    "collapsed": false
   },
   "outputs": [
    {
     "data": {
      "text/html": [
       "<link href='http://fonts.googleapis.com/css?family=Open+Sans:100,300,400,500,700,800,900,100italic,300italic,400italic,500italic,700italic,800italic,900italic' rel='stylesheet' type='text/css'>\n",
       "<link href='http://fonts.googleapis.com/css?family=Arvo:400,700,400italic' rel='stylesheet' type='text/css'>\n",
       "<link href='http://fonts.googleapis.com/css?family=PT+Mono' rel='stylesheet' type='text/css'>\n",
       "<link href='http://fonts.googleapis.com/css?family=Shadows+Into+Light' rel='stylesheet' type='text/css'>\n",
       "<link href='http://fonts.googleapis.com/css?family=Nixie+One' rel='stylesheet' type='text/css'>\n",
       "<style>\n",
       "\n",
       "@font-face {\n",
       "    font-family: \"Computer Modern\";\n",
       "    src: url('http://mirrors.ctan.org/fonts/cm-unicode/fonts/otf/cmunss.otf');\n",
       "}\n",
       "\n",
       "#notebook_panel { /* main background */\n",
       "    background: rgb(245,245,245);\n",
       "}\n",
       "\n",
       "div.cell { /* set cell width */\n",
       "    width: 1000px;\n",
       "}\n",
       "\n",
       "div #notebook { /* centre the content */\n",
       "    background: #fff; /* white background for content */\n",
       "    width: 1200px;\n",
       "    margin: auto;\n",
       "    padding-left: 0em;\n",
       "}\n",
       "\n",
       "#notebook li { /* More space between bullet points */\n",
       "margin-top:0.8em;\n",
       "}\n",
       "\n",
       "/* draw border around running cells */\n",
       "div.cell.border-box-sizing.code_cell.running { \n",
       "    border: 1px solid #111;\n",
       "}\n",
       "\n",
       "/* Put a solid color box around each cell and its output, visually linking them*/\n",
       "div.cell.code_cell {\n",
       "    background-color: rgb(256,256,256); \n",
       "    border-radius: 0px; \n",
       "    padding: 0.5em;\n",
       "    margin-left:1em;\n",
       "    margin-top: 1em;\n",
       "}\n",
       "\n",
       "div.text_cell_render{\n",
       "    font-family: 'Open Sans' sans-serif;\n",
       "    line-height: 140%;\n",
       "    font-size: 125%;\n",
       "    font-weight: 400;\n",
       "    width:900px;\n",
       "    margin-left:auto;\n",
       "    margin-right:auto;\n",
       "}\n",
       "\n",
       "\n",
       "/* Formatting for header cells */\n",
       ".text_cell_render h1 {\n",
       "    font-family: 'Arvo', serif;\n",
       "    font-style:regular;\n",
       "    font-weight: 400;    \n",
       "    font-size: 45pt;\n",
       "    line-height: 100%;\n",
       "    color: rgb(0,51,102);\n",
       "    margin-bottom: 0.5em;\n",
       "    margin-top: 0.5em;\n",
       "    display: block;\n",
       "}\t\n",
       ".text_cell_render h2 {\n",
       "    font-family: 'Arvo', serif;\n",
       "    font-weight: 400;\n",
       "    font-size: 30pt;\n",
       "    line-height: 100%;\n",
       "    color: rgb(0,51,102);\n",
       "    margin-bottom: 0.1em;\n",
       "    margin-top: 0.3em;\n",
       "    display: block;\n",
       "}\t\n",
       "\n",
       ".text_cell_render h3 {\n",
       "    font-family: 'Arvo', serif;\n",
       "    margin-top:16px;\n",
       "\tfont-size: 22pt;\n",
       "    font-weight: 600;\n",
       "    margin-bottom: 3px;\n",
       "    font-style: regular;\n",
       "    color: rgb(102,102,0);\n",
       "}\n",
       "\n",
       ".text_cell_render h4 {    /*Use this for captions*/\n",
       "    font-family: 'Arvo', serif;\n",
       "    font-size: 14pt;\n",
       "    text-align: center;\n",
       "    margin-top: 0em;\n",
       "    margin-bottom: 2em;\n",
       "    font-style: regular;\n",
       "}\n",
       "\n",
       ".text_cell_render h5 {  /*Use this for small titles*/\n",
       "    font-family: 'Arvo', sans-serif;\n",
       "    font-weight: 400;\n",
       "    font-size: 16pt;\n",
       "    color: rgb(163,0,0);\n",
       "    font-style: italic;\n",
       "    margin-bottom: .1em;\n",
       "    margin-top: 0.8em;\n",
       "    display: block;\n",
       "}\n",
       "\n",
       ".text_cell_render h6 { /*use this for copyright note*/\n",
       "    font-family: 'PT Mono', sans-serif;\n",
       "    font-weight: 300;\n",
       "    font-size: 9pt;\n",
       "    line-height: 100%;\n",
       "    color: grey;\n",
       "    margin-bottom: 1px;\n",
       "    margin-top: 1px;\n",
       "}\n",
       "\n",
       ".CodeMirror{\n",
       "        font-family: \"PT Mono\";\n",
       "        font-size: 90%;\n",
       "}\n",
       "\n",
       "</style>\n",
       "<script>\n",
       "    MathJax.Hub.Config({\n",
       "                        TeX: {\n",
       "                           extensions: [\"AMSmath.js\"],\n",
       "                           equationNumbers: { autoNumber: \"AMS\", useLabelIds: true}\n",
       "                           },\n",
       "                tex2jax: {\n",
       "                    inlineMath: [ ['$','$'], [\"\\\\(\",\"\\\\)\"] ],\n",
       "                    displayMath: [ ['$$','$$'], [\"\\\\[\",\"\\\\]\"] ]\n",
       "                },\n",
       "                displayAlign: 'center', // Change this to 'center' to center equations.\n",
       "                \"HTML-CSS\": {\n",
       "                    styles: {'.MathJax_Display': {\"margin\": 4}}\n",
       "                }\n",
       "        });\n",
       "</script>\n"
      ],
      "text/plain": [
       "<IPython.core.display.HTML object>"
      ]
     },
     "execution_count": 1,
     "metadata": {},
     "output_type": "execute_result"
    }
   ],
   "source": [
    "from IPython.core.display import HTML\n",
    "css_file = 'https://raw.githubusercontent.com/ngcm/training-public/master/ipython_notebook_styles/ngcmstyle.css'\n",
    "HTML(url=css_file)"
   ]
  },
  {
   "cell_type": "markdown",
   "metadata": {},
   "source": [
    "## Aims"
   ]
  },
  {
   "cell_type": "markdown",
   "metadata": {},
   "source": [
    "The aim of this computer laboratory is to gain a practical insight into the fundamental steps required to program a simple finite element code to solve a problem of elasticity. In doing so, you will learn:\n",
    "\n",
    "* How to recast the PDE problem into a variational form\n",
    "* To derive the formulation of a 2D finite element\n",
    "* To create a simple structured mesh generator to mesh a 2D domain\n",
    "* To create an assembly procedure for the stiffness matrix of a 2D structure\n",
    "* How to numerically solve the variational problem for a practical example\n",
    "\n",
    "The numerical environment chosen for this laboratory is [IPython](http://ipython.org).\n"
   ]
  },
  {
   "cell_type": "markdown",
   "metadata": {},
   "source": [
    "## Basic problem: linear elasticity"
   ]
  },
  {
   "cell_type": "markdown",
   "metadata": {},
   "source": [
    "\n",
    "Let's consider a 2D solid body $\\Omega $ at rest, subjected to body forces ${\\bf{b}}$, prescribed displacements ${\\bf{\\bar d}}$ and tractions ${\\bf{\\bar t}}$. The problem of elasticity is defined as follows:\n",
    "\n",
    "$$\n",
    "\\begin{align}\n",
    "{\\text{div}}\\sigma  + {\\bf{b}} & = {\\bf{0}} & {\\bf x}(x,y) &\\text{ in } \\Omega \\\\\n",
    "{\\bf{d}}(u,v) &= {\\bf{\\bar d}}(u,v) & {\\bf x}(x,y) &\\text{ on } \\partial {\\Omega\n",
    "_u} \\\\\n",
    "{\\bf{t}}({\\bf x}) &= {\\bf{\\bar t}}({\\bf x}) & {\\bf x}(x,y) &\\text{ on }\\partial {\\Omega_\\sigma}\n",
    "\\end{align}\n",
    "$$\n",
    "\n",
    "$\\sigma $ is the symmetric Cauchy stress tensor.\n"
   ]
  },
  {
   "cell_type": "markdown",
   "metadata": {},
   "source": [
    "### Question 1"
   ]
  },
  {
   "cell_type": "markdown",
   "metadata": {},
   "source": [
    "\n",
    "Apply integration by parts to the PDE ${\\text{div}}\\sigma  + {\\bf{b}} = {\\bf{0}}$\n",
    "with the divergence theorem (relation between the flow (flux) of a vector field\n",
    "though a surface and the behavior inside the surface) recast it into its\n",
    "variational form. You will also take into account the conditions about the\n",
    "**test function** $\\upsilon$ on the boundary where\n",
    "${\\bf{d}}$ is prescribed."
   ]
  },
  {
   "cell_type": "markdown",
   "metadata": {},
   "source": [
    "#### Answer"
   ]
  },
  {
   "cell_type": "markdown",
   "metadata": {},
   "source": [
    "Multiply by the test function $\\upsilon$ and integrate by parts over the domain to get\n",
    "\n",
    "$$\n",
    " \\int_{\\partial \\Omega} \\upsilon \\sigma +\\int_{\\Omega} -\\sigma \\cdot \\nabla \\upsilon + {\\bf b} \\upsilon = {\\bf 0}.\n",
    "$$\n",
    "\n",
    "Split the boundary piece into two terms: $\\partial \\Omega = \\partial \\Omega_u + \\partial \\Omega_{\\sigma}$, as in the split above. As the test function vanishes on the part of the boundary $\\partial \\Omega_u$ the first term becomes\n",
    "\n",
    "$$\n",
    "  \\int_{\\partial \\Omega_{\\sigma}} \\upsilon \\sigma \\cdot \\hat{\\bf n} =  \\int_{\\partial \\Omega_{\\sigma}} \\upsilon \\bar{\\bf t}.\n",
    "$$\n",
    "\n",
    "I'm going to switch to using index notation here, together with the summation convention (any repeated index is summed over).\n",
    "\n",
    "So, the problem to solve is\n",
    "\n",
    "$$\n",
    "  \\nabla_i \\sigma_{ij} + b_j = 0.\n",
    "$$\n",
    "\n",
    "Pick the test function $\\upsilon$. This will vanish on the part of the boundary where the displacement is given, $\\partial \\Omega_u$. Multiply the equation by the test function and integrate over the domain.\n",
    "\n",
    "$$\n",
    "  \\int_{\\Omega} \\left( \\upsilon \\nabla_i \\sigma_{ij} + \\upsilon b_j \\right) = 0.\n",
    "$$\n",
    "\n",
    "Apply Gauss' theorem to the first term, getting\n",
    "\n",
    "$$\n",
    "  \\int_{\\partial \\Omega_{\\sigma}} \\upsilon \\sigma_{ij} \\hat{n}_i - \\int_{\\Omega} \\left( \\sigma_{ij} \\nabla_i \\upsilon - \\upsilon b_j \\right) = 0.\n",
    "$$\n",
    "\n",
    "In this step we used that the test function vanishes on $\\partial \\Omega_u$.\n",
    "\n",
    "Now use the physical definition ${\\bf t}_j = \\sigma_{ij} \\hat{n}_i$; the traction is the stress in a particular direction. On the boundary $\\Omega_{\\sigma}$ this traction is prescribed. Therefore, after rearranging, we get\n",
    "\n",
    "$$\n",
    "  \\int_{\\Omega} \\sigma_{ij} \\nabla_i \\upsilon = \\int_{\\Omega} \\upsilon b_j - \\int_{\\partial \\Omega_{\\sigma}} \\upsilon \\bar{t}_j.\n",
    "$$"
   ]
  },
  {
   "cell_type": "markdown",
   "metadata": {},
   "source": [
    "We now use the physical relationship that links the stress to the displacements. We have\n",
    "\n",
    "$$\n",
    "  \\sigma_{ij} = C_{ijkl} \\varepsilon_{kl} = C_{ijkl} \\nabla_k d_l\n",
    "$$\n",
    "\n",
    "where ${\\bf d}$ is the displacement, which is the unknown we're trying to solve for. Writing this out in full we have\n",
    "\n",
    "$$\n",
    "  \\int_{\\Omega} C_{ijkl} \\nabla_k d_l \\nabla_i \\upsilon = \\int_{\\Omega} \\upsilon b_j - \\int_{\\partial \\Omega_{\\sigma}} \\upsilon \\bar{t}_j.\n",
    "$$"
   ]
  },
  {
   "cell_type": "markdown",
   "metadata": {},
   "source": [
    "Finally we have to make a choice for our representation of the unknowns: the displacement, and the test function.\n",
    "\n",
    "Restrict to a single element for now. Given the element nodes with physical coordinates ${\\bf x}^A$, where $A = 0, \\dots, 3$ (or equivalently $1, \\dots, 4$ depending on how you count), we can define the shape functions $N^A$ which satisfy\n",
    "\n",
    "$$\n",
    "  {\\bf x} = N^A {\\bf x}^A.\n",
    "$$\n",
    "\n",
    "Note that we are using Einstein summation convention over the node labels $A$ here, in the same way as we did over the coordinate indices above.\n",
    "\n",
    "We also *choose* to write\n",
    "\n",
    "$$\n",
    "\\begin{align}\n",
    "  && \\upsilon &= N^A \\upsilon^A, \\\\ && {\\bf d} & = N^A {\\bf d}^A \\\\ \\implies && d_l & = N^A d^A_l.\n",
    "\\end{align}\n",
    "$$\n",
    "\n",
    "Note that $\\upsilon^A$ and $d^A_l$ are *coefficients*; they depend on the element we're in, but not on the spatial coordinates.\n",
    "\n",
    "Substituting these choices into the problem above we get\n",
    "\n",
    "$$\n",
    "  \\int_{\\Omega} \\upsilon^A d^B_l C_{ijkl} \\nabla_k N^B \\nabla_i N^A = \\int_{\\Omega} \\upsilon^A N^A b_j - \\int_{\\partial \\Omega_{\\sigma}} \\upsilon^A N^A \\bar{t}_j.\n",
    "$$\n",
    "\n",
    "As the test function is arbitrary, and the $\\upsilon^A$ are just coefficients, we can eliminate those coefficients everywhere. Defining the shorthand notation $B^A_i = \\nabla_i N^A$ we thus have the equation\n",
    "\n",
    "$$\n",
    "  \\int_{\\Omega} d^B_l C_{ijkl} B^B_k B^A_i = \\int_{\\Omega} N^A b_j - \\int_{\\partial \\Omega_{\\sigma}} N^A \\bar{t}_j.\n",
    "$$\n",
    "\n",
    "Assuming we can calculate the shape functions and their derivatives at any point, this gives us a *linear* equation for the unknown coefficients $d^B_l$."
   ]
  },
  {
   "cell_type": "markdown",
   "metadata": {},
   "source": [
    "We can now write this explicitly as a matrix problem, identifying the \"physical meaning\" of the terms. We first have to reorganize the unknown coefficents $d^B_l$ into a vector. We do that by defining an ordering. Assume that we're working in $N_{\\text{dim}}$ dimensions ($2$ in what follows), and there are $N_{\\text{nodes}}$ nodes. By numbering the dimensions as $j = 0, \\dots, N_{\\text{dim}}-1$ and the nodes as $A = 0, \\dots, N_{\\text{nodes}}-1$, we define\n",
    "\n",
    "$$\n",
    "  \\alpha = N_{\\text{dim}} A + j\n",
    "$$\n",
    "\n",
    "as the index into the vector of unknowns $d_{\\alpha}$. That is, in 2 dimensions with 4 nodes (one quadrilateral element) we have something like\n",
    "\n",
    "$$\n",
    "  d_{\\alpha} = \\left[ d^0_0, d^0_1, d^1_0, d^1_1, d^2_0, d^2_1, d^3_0, d^3_1 \\right].\n",
    "$$\n",
    "\n",
    "We can then write the problem as\n",
    "\n",
    "$$\n",
    "  K_{\\alpha \\beta} d_{\\beta} =  F^{\\text{(body)}}_{\\alpha} + F^{\\text{(boundary)}}_{\\alpha}\n",
    "$$\n",
    "\n",
    "where\n",
    "\n",
    "$$\n",
    "\\begin{align}\n",
    "  F^{\\text{(body)}}_{2 A + j} & = \\int_{\\Omega} N^A b_j, \\\\\n",
    "  F^{\\text{(boundary)}}_{2 A + j} & = \\int_{\\partial \\Omega_{\\sigma}} N^A \\bar{t}_j, \\\\\n",
    "  K_{2 A + j, 2 B + l} & = \\int_{\\Omega} C_{ijkl} B^A_i B^B_k.\n",
    "\\end{align}\n",
    "$$\n",
    "\n",
    "We have the three terms giving the element stiffness matrix $K$, the load due to body forces ${\\bf F}^{\\text{(body)}}$, and the load due to boundary forces ${\\bf F}^{\\text{(boundary)}}$."
   ]
  },
  {
   "cell_type": "markdown",
   "metadata": {},
   "source": [
    "However, we still have that nasty 4-tensor $\\mathbb{C}$ for the constituitive relationship. It's stated that this can be rewritten as\n",
    "\n",
    "$$\n",
    "  \\sigma_{\\tilde{a}} = C_{\\tilde{a}\\tilde{b}} \\epsilon_{\\tilde{b}}\n",
    "$$\n",
    "\n",
    "where $\\tilde{a} = (xx), (yy), (xy)$. \n",
    "\n",
    "However, I find this a pain to understand. Using the [expression from Wikipedia](http://en.wikiversity.org/wiki/Introduction_to_Elasticity/Constitutive_relations#Isotropic_materials) we get that\n",
    "\n",
    "$$\n",
    "  C_{ijkl} = \\frac{E \\nu}{(1 + \\nu) (1 - 2 \\nu)} \\delta_{ij} \\delta_{kl} + \\frac{E}{2 ( 1 + \\nu )} \\left( \\delta_{ik} \\delta_{jl} + \\delta_{il} \\delta_{jk} \\right)\n",
    "$$\n",
    "\n",
    "where $\\delta_{ij}$ is the standard Kronecker delta function ($1$ when $i = j$, $0$ otherwise). This form is likely less efficient, but keeps the expression in the form above."
   ]
  },
  {
   "cell_type": "markdown",
   "metadata": {},
   "source": [
    "## Constituitive relationship"
   ]
  },
  {
   "cell_type": "markdown",
   "metadata": {},
   "source": [
    "\n",
    "To relate stress and strain one must define what is called a\n",
    "**constitutive relationship**. In other branches of physics other types of\n",
    "relationships would be used (e.g. relation between strain and temperature).\n",
    "\n",
    "In the case of isotropic linear elasticity (Hooke's elasticity) the Cauchy\n",
    "stress tensor is related to the strain tensor $\\varepsilon $ through the\n",
    "following relationship:\n",
    "\n",
    "$$\n",
    "\\begin{equation}\n",
    "\\sigma = \\mathbb{C} : {\\bf \\varepsilon}\n",
    "\\end{equation}\n",
    "$$\n",
    "\n",
    "where $\\mathbb{C}$ is the elasticity tensor.\n",
    "\n",
    "Equation (2) is a **tensor equation** (valid in any coordinate system). If\n",
    "one decides to use a Cartesian coordinate system (2) can be written in index\n",
    "notation as:\n",
    "\n",
    "$$\n",
    "\\begin{equation}\n",
    "{\\left( {\\bf \\sigma}  \\right)_{ij}} = {\\sigma _{ij}} = \\left( \\mathbb{C} : {\\bf \\varepsilon}\n",
    "\\right)_{ij} = \\mathbb{C}_{ijkl} \\varepsilon_{kl} \\quad \\left\\{\n",
    "{{\\text{2D}}:i,j,k,l:1 \\dots 2; \\quad {\\text{3D}}:i,j,k,l:1 \\dots 3} \\right\\}\n",
    "\\end{equation}\n",
    "$$\n",
    "\n",
    "Please note that we use the following convention: bold characters represent\n",
    "vectors, matrices or tensors.\n",
    "\n",
    "Because the Cauchy, strain and elasticity tensors are symmetric and the material\n",
    "isotropic one can simplify the tensorial constitutive equation into a matrix\n",
    "equation involving vectors and a second-order matrix.\n",
    "\n",
    "$$\n",
    "\\begin{equation}\n",
    "\\left\\{ {\\bf \\sigma}  \\right\\} = \\left\\{ \\begin{array}{l}\n",
    "{\\sigma _{xx}}\\\\\n",
    "{\\sigma _{yy}}\\\\\n",
    "{\\sigma _{xy}}\n",
    "\\end{array} \\right\\} = \\underbrace {\\frac{E}{{1 - {\\nu ^2}}}\\left[\n",
    "{\\begin{array}{*{20}{c}}\n",
    "1&\\nu &0\\\\\n",
    "\\nu &1&0\\\\\n",
    "0&0&{\\frac{{1 - \\nu }}{2}}\n",
    "\\end{array}} \\right]}_{\\left[ \\mathbb{C} \\right]}\\underbrace {\\left\\{ \\begin{array}{l}\n",
    "{\\varepsilon _{xx}}\\\\\n",
    "{\\varepsilon _{yy}}\\\\\n",
    "2{\\varepsilon _{xy}}\n",
    "\\end{array} \\right\\}}_{\\left\\{ {\\bf \\varepsilon} \\right\\}}\n",
    "\\end{equation}\n",
    "$$\n",
    "\n",
    "$\\left\\{ {E,\\nu } \\right\\}$ are material properties, respectively the Young's\n",
    "modulus and Poisson's ratio which characterise the stiffness and compressibility\n",
    "of the material."
   ]
  },
  {
   "cell_type": "markdown",
   "metadata": {},
   "source": [
    "Let’s consider a 4-noded bi-linear interpolation element (Figure 1)."
   ]
  },
  {
   "cell_type": "markdown",
   "metadata": {},
   "source": [
    "![Image](./Finite Elements/img-1.svg)"
   ]
  },
  {
   "cell_type": "markdown",
   "metadata": {},
   "source": [
    "\n",
    "The shape functions chosen here are simple linear Lagrange polynomials but other\n",
    "forms could be used (quadratic Lagrange, Hermite, NURBS, etc):\n",
    "\n",
    "\n",
    "\\begin{equation}\n",
    "{N_i} = \\frac{1}{4}(1 + {\\xi_i} \\xi )(1 + {\\eta _i}\\eta )\n",
    "\\quad {\\xi _i},{\\eta _i} =  - 1,1 \n",
    "\\end{equation}\n",
    "\n",
    "\n",
    "There are as many shape functions as nodes in the element, i.e. 4:\n",
    "\n",
    "\n",
    "\\begin{equation}\n",
    "\\left\\{\n",
    "\\begin{array}{rl}\n",
    "N_1 &= \\frac{1}{4}\\left( {1 - \\xi } \\right)\\left( {1 - \\eta } \\right)\\\\\n",
    "N_2 &= \\frac{1}{4}\\left( {1 + \\xi } \\right)\\left( {1 - \\eta } \\right)\\\\\n",
    "N_3 &= \\frac{1}{4}\\left( {1 + \\xi } \\right)\\left( {1 + \\eta } \\right)\\\\\n",
    "N_4 &= \\frac{1}{4}\\left( {1 - \\xi } \\right)\\left( {1 + \\eta } \\right)\n",
    "\\end{array}\n",
    "\\right\\}\n",
    "\\end{equation}\n",
    "\n",
    "\n",
    "We are using an **isoparametric formulation** which means that the\n",
    "**position vector** and **displacement vector** are interpolated using\n",
    "the same order of shape (or interpolation) functions.\n"
   ]
  },
  {
   "cell_type": "markdown",
   "metadata": {},
   "source": [
    "#### Interpolation of the position vector (discretisation)"
   ]
  },
  {
   "cell_type": "markdown",
   "metadata": {},
   "source": [
    "$$\n",
    "\\begin{equation}\n",
    "{\\bf{x}}\\left( {{\\xi ^e},t} \\right) = {{\\bf{x}}_1}(t){N_1}\\left( {{\\xi ^e}}\n",
    "\\right) + {{\\bf{x}}_2}(t){N_2}\\left( {{\\xi ^e}} \\right) +\n",
    "{{\\bf{x}}_3}(t){N_3}\\left( {{\\xi ^e}} \\right) + {{\\bf{x}}_4}(t){N_4}\\left( {{\\xi\n",
    "^e}} \\right)\n",
    "\\end{equation}\n",
    "$$\n",
    "\n",
    "where\n",
    "\n",
    "$$\n",
    "\\begin{equation}\n",
    "{{\\bf{x}}_A}(t) = {\\rm{position}}\\,(node\\,A) = \\left\\{ \\begin{array}{l}\n",
    "{x_A}\\\\\n",
    "{y_A}\n",
    "\\end{array} \\right\\}\n",
    "\\end{equation}\n",
    "$$\n",
    "\n",
    "$$\n",
    "\\begin{equation}\n",
    "{\\bf{x}}\\left( {{\\xi ^e},t} \\right) = {\\left\\{ {\\begin{array}{*{20}{c}}\n",
    "{x(t)}\\\\\n",
    "{y(t)}\n",
    "\\end{array}} \\right\\}_{node\\,1}}{N_1}\\left( {{\\xi ^e}} \\right) + {\\left\\{\n",
    "{\\begin{array}{*{20}{c}}\n",
    "{x(t)}\\\\\n",
    "{y(t)}\n",
    "\\end{array}} \\right\\}_{node\\,2}}{N_2}\\left( {{\\xi ^e}} \\right) + {\\left\\{\n",
    "{\\begin{array}{*{20}{c}}\n",
    "{x(t)}\\\\\n",
    "{y(t)}\n",
    "\\end{array}} \\right\\}_{node\\,3}}{N_3}\\left( {{\\xi ^e}} \\right) + {\\left\\{\n",
    "{\\begin{array}{*{20}{c}}\n",
    "{x(t)}\\\\\n",
    "{y(t)}\n",
    "\\end{array}} \\right\\}_{node\\,4}}{N_4}\\left( {{\\xi ^e}} \\right)\n",
    "\\end{equation}\n",
    "$$"
   ]
  },
  {
   "cell_type": "markdown",
   "metadata": {},
   "source": [
    "#### Interpolation of the displacement vector (discretisation)"
   ]
  },
  {
   "cell_type": "markdown",
   "metadata": {},
   "source": [
    "$$\n",
    "\\begin{equation}\n",
    "{\\bf{d}}\\left( {{\\xi ^e},t} \\right) = {{\\bf{d}}_1}(t){N_1}\\left( {{\\xi ^e}}\n",
    "\\right) + {{\\bf{d}}_2}(t){N_2}\\left( {{\\xi ^e}} \\right) +\n",
    "{{\\bf{d}}_3}(t){N_3}\\left( {{\\xi ^e}} \\right) + {{\\bf{d}}_4}(t){N_4}\\left( {{\\xi\n",
    "^e}} \\right)\n",
    "\\end{equation}\n",
    "$$\n",
    "\n",
    "where\n",
    "\n",
    "$$\n",
    "\\begin{equation}\n",
    "{{\\bf{d}}_A}(t) = {\\rm{displacement}}\\,(node\\,A) = \\left\\{ \\begin{array}{l}\n",
    "{u_A}\\\\\n",
    "{v_A}\n",
    "\\end{array} \\right\\}\n",
    "\\end{equation}\n",
    "$$"
   ]
  },
  {
   "cell_type": "markdown",
   "metadata": {},
   "source": [
    "## Degrees of freedom"
   ]
  },
  {
   "cell_type": "markdown",
   "metadata": {},
   "source": [
    "\n",
    "We can arrange all the degrees of freedom of the element in one vector:\n",
    "\n",
    "$$\n",
    "\\begin{equation}\n",
    "{\\bf{d}} = {\\{ {u_1},{v_1},{u_2},{v_2},{u_3},{v_3},{u_4},{v_4}\\} ^T}\n",
    "\\end{equation}\n",
    "$$\n",
    "\n",
    "The discretised versions of the position and displacement vector can be\n",
    "rewritten in matrix form:\n",
    "\n",
    "$$\n",
    "\\begin{equation}\n",
    "{\\bf{x}}\\left( {{\\xi ^e},t} \\right) = {N_I}\\left( {{\\xi ^e}}\n",
    "\\right){{\\bf{x}}_I}(t) = {{\\bf{N}}^T}\\left( {{\\xi ^e}} \\right){{\\bf{x}}_I}(t)\n",
    "\\end{equation}\n",
    "$$\n",
    "\n",
    "$$\n",
    "\\begin{equation}\n",
    "{\\bf{d}}\\left( {{\\xi ^e},t} \\right) = {N_I}\\left( {{\\xi ^e}}\n",
    "\\right){{\\bf{d}}_I}(t) = {{\\bf{N}}^T}\\left( {{\\xi ^e}} \\right){{\\bf{d}}_I}(t)\n",
    "\\end{equation}\n",
    "$$\n",
    "\n",
    "where\n",
    "\n",
    "$$\n",
    "\\begin{equation}\n",
    "{{\\bf{N}}^T}\\left( {{\\xi ^e}} \\right) = \\left\\{ {{N_1}({\\xi ^e}),{N_2}({\\xi\n",
    "^e}),{N_3}({\\xi ^e}),{N_4}({\\xi ^e})} \\right\\}\n",
    "\\end{equation}\n",
    "$$"
   ]
  },
  {
   "cell_type": "markdown",
   "metadata": {},
   "source": [
    "\n",
    "The test function used for the formulation of the weak form is also discretised:\n",
    "\n",
    "$$\n",
    "\\begin{equation}\n",
    "\\upsilon \\left( {{\\xi ^e},t} \\right) = {N_I}\\left( {{\\xi ^e}} \\right){\\upsilon\n",
    "_I}(t) = {{\\bf{N}}^T}\\left( {{\\xi ^e}} \\right){\\upsilon _I}(t)\n",
    "\\end{equation}\n",
    "$$"
   ]
  },
  {
   "cell_type": "markdown",
   "metadata": {},
   "source": [
    "### Question 2"
   ]
  },
  {
   "cell_type": "markdown",
   "metadata": {},
   "source": [
    "Inject the discretised version of the displacement into the weak form established in Question 1.\n",
    "You will have to express the strain matrix using the ${\\bf B}$ matrix (derivatives of shape functions).\n",
    "You should obtain 3 integral matrix/vector forms: the **element stiffness matrix**, the **nodal load vector due to body forces** and the **nodal load vector due to boundary forces**."
   ]
  },
  {
   "cell_type": "markdown",
   "metadata": {},
   "source": [
    "#### Answer"
   ]
  },
  {
   "cell_type": "markdown",
   "metadata": {},
   "source": [
    "From question 1 we have\n",
    "\n",
    "$$\n",
    " \\int_{\\Omega} \\sigma \\cdot \\nabla \\upsilon - {\\bf b} \\upsilon = {\\bf 0}.\n",
    "$$\n",
    "\n",
    "We have that the test function is written $\\upsilon = N_I \\upsilon_I = N^T \\upsilon_I$ where $N_I({\\bf \\xi})$ are the shape functions and ${\\bf \\xi}$ are the coordinates of the parent element, and $\\upsilon_I$ are just coefficients.\n",
    "\n",
    "Remember from the lecture that $\\sigma = E B {\\bf d}$ in the discrete form. Also remember that $B = d N^T / d{\\bf x}$. So we should end up with something like\n",
    "\n",
    "$$\n",
    "  \\int_{\\Omega} E \\frac{d N^T}{d {\\bf x}} N^T {\\bf d}_I \\cdot \\nabla \\left( N^T \\upsilon_J \\right) - {\\bf b} N^T \\upsilon_J -\\int_{\\partial \\Omega_{\\sigma}} N^T \\upsilon_J \\bar{\\bf t} = {\\bf 0}.\n",
    "$$\n",
    "\n",
    "The $\\upsilon_J$ are coefficients (numbers), so this becomes\n",
    "\n",
    "$$\n",
    "  \\int_{\\Omega} E \\frac{d N^T}{d {\\bf x}} N^T {\\bf d}_I \\frac{d N^T}{d {\\bf x}} \\upsilon_J  - {\\bf b} N^T \\upsilon_J -\\int_{\\partial \\Omega_{\\sigma}} N^T \\upsilon_J \\bar{\\bf t} = {\\bf 0}.\n",
    "$$\n",
    "\n",
    "Pulling out the coefficients from all cases we have\n",
    "\n",
    "$$\n",
    "  \\int_{\\Omega} E \\frac{d N^T}{d {\\bf x}} N^T {\\bf d}_I \\frac{d N^T}{d {\\bf x}}   - {\\bf b} N^T  -\\int_{\\partial \\Omega_{\\sigma}} N^T \\bar{\\bf t} = {\\bf 0}.\n",
    "$$\n",
    "\n",
    "The first term will be the stiffness matrix; the second is the nodal load due to the body force ${\\bf b}$; and the final is the nodal load due to the traction forces at the boundary."
   ]
  },
  {
   "cell_type": "markdown",
   "metadata": {},
   "source": [
    "## Integration"
   ]
  },
  {
   "cell_type": "markdown",
   "metadata": {},
   "source": [
    "\n",
    "The integral expressions obtained in **Question 2** will have to be\n",
    "numerically integrated using, in our case, Gauss integration. We have integrals\n",
    "defined over the element domain ${\\Omega ^e}$ and its boundary $\\partial {\\Omega\n",
    "^e}$.\n",
    "\n",
    "There are well known integration formulas over parametric domains that are exact\n",
    "for polynomials like the Lagrange polynomials used in the shape functions. The\n",
    "integral of a function is transformed into the sum of **weighted values\n",
    "that the function takes at specific points**, the so-called **integration\n",
    "points** or **Gauss points**.\n",
    "\n",
    "\n",
    "\\begin{equation}\n",
    "\\int\\limits_ {f(\\xi )\\,\\,} d \\xi = {w_i}f({\\xi _i})\n",
    "\\end{equation}\n",
    "\n",
    "\n",
    "\n",
    "These integration formulas apply to the **parent element** (Figure 1) which is the element in the parametric domain $ = \\{ \\{  - 1,1\\} ,\\{ - 1,1\\} \\} $ so it is necessary to map back the parent element domain to the current (deformed) domain. This is a simple change of variables:\n",
    "\n",
    "\n",
    "\n",
    "\\begin{equation}\n",
    "d{\\Omega _e} = dx\\,dy = \\det ({\\bf{J}})\\,d\\xi\\, d\\eta\n",
    "\\end{equation}\n",
    "\n",
    "\n",
    "\n",
    "\\begin{equation}\n",
    "\\int\\limits_{{\\Omega^{e}}} {f({\\bf{x}})\\,\\,} d\\Omega  = \\int \n",
    "{f({\\bf{x}}({\\xi ^e}))\\,\\underbrace {\\det \\left( {\\frac{{\\partial\n",
    "{\\bf{x}}}}{{\\partial {\\xi ^e}}}} \\right)}_{{J_{{\\xi ^e}}} = \\det ({\\bf{J}})}\\,} d \\xi\n",
    "= {w_i}{J_{{\\xi ^e}}}({\\xi ^e}_i)f({\\xi ^e}_i)\n",
    "\\end{equation}\n",
    "\n",
    "\n",
    "Here, we will use a 2 points Gauss integration rule: i.e. 4 integration points for the quadrilateral element:\n",
    "\n",
    "\n",
    "\\begin{align}\n",
    "{{\\bf{G}}_1} &= \\left\\{ { - \\frac{1}{{\\sqrt 3 }}, - \\frac{1}{{\\sqrt 3 }}}\n",
    "\\right\\} & {w_1} &= 1\\\\\n",
    "{{\\bf{G}}_2} &= \\left\\{ {\\frac{1}{{\\sqrt 3 }}, - \\frac{1}{{\\sqrt 3 }}} \\right\\} &\n",
    "{w_2} &= 1\\\\\n",
    "{{\\bf{G}}_3} &= \\left\\{ {\\frac{1}{{\\sqrt 3 }},\\frac{1}{{\\sqrt 3 }}} \\right\\} &  \n",
    "{w_3} &= 1\\\\\n",
    "{{\\bf{G}}_4} &= \\left\\{ { - \\frac{1}{{\\sqrt 3 }},\\frac{1}{{\\sqrt 3 }}} \\right\\} &\n",
    "{w_4} &= 1\n",
    "\\end{align}\n"
   ]
  },
  {
   "cell_type": "markdown",
   "metadata": {},
   "source": [
    "### Question 3"
   ]
  },
  {
   "cell_type": "markdown",
   "metadata": {},
   "source": [
    "1. Inject the integration formula into the integral matrix equations obtained in Question 2.\n",
    "2. Write a Python programme to:\n",
    "\t\n",
    "   1. calculate the stiffness matrix of the element and nodal force vector;\n",
    "   2. generate a structured grid over a 2D rectangle domain (mesh generator);\n",
    "   3. specify a uniform force at each node of one side of the rectangle domain;\n",
    "   4. specify a uniform displacement at each node of one side of the rectangle domain;\n",
    "   5. assemble the global stiffness matrix and force vector of the whole rectangular structure.\n"
   ]
  },
  {
   "cell_type": "markdown",
   "metadata": {},
   "source": [
    "#### Answer"
   ]
  },
  {
   "cell_type": "code",
   "execution_count": 2,
   "metadata": {
    "collapsed": false
   },
   "outputs": [],
   "source": [
    "%matplotlib inline\n",
    "from matplotlib import pyplot\n",
    "import numpy\n",
    "from mpl_toolkits.mplot3d.axes3d import Axes3D\n",
    "from matplotlib import rcParams\n",
    "rcParams['font.family'] = 'serif'\n",
    "rcParams['font.size'] = 16\n",
    "rcParams['figure.figsize'] = (12, 6)"
   ]
  },
  {
   "cell_type": "code",
   "execution_count": 3,
   "metadata": {
    "collapsed": false
   },
   "outputs": [],
   "source": [
    "def mesh_generator(domain, Nelements):\n",
    "    \"\"\"\n",
    "    Partition a rectangular domain into squares.\n",
    "    \n",
    "    Parameters\n",
    "    ----------\n",
    "    \n",
    "    domain : array of float\n",
    "        The corners of the domain (assumed [[xlo, xhi], [ylo, yhi]])\n",
    "    Nelements : vector of int\n",
    "        The number of elements in each dimension\n",
    "        \n",
    "    Returns\n",
    "    -------\n",
    "    \n",
    "    nodes : array of float\n",
    "        coordinates of the nodes\n",
    "    IEN : array of int\n",
    "        matrix linking nodes to elements (for each element, nodes are [bottom left, bottom right, top left, top right])\n",
    "    \"\"\"\n",
    "    \n",
    "    width = domain[:,1]-domain[:,0]\n",
    "    Nx = Nelements[0]+1\n",
    "    Ny = Nelements[1]+1\n",
    "    Nnodes = Nx*Ny\n",
    "    Nelems = (Nx-1)*(Ny-1)\n",
    "    \n",
    "    nodes = numpy.zeros((Nnodes, 2))\n",
    "    for i in range(Nx):\n",
    "        for j in range(Ny):\n",
    "            n = j*Nx+i # Node number\n",
    "            nodes[n,0] = domain[0,0] + i*width[0]/Nelements[0]\n",
    "            nodes[n,1] = domain[1,0] + j*width[1]/Nelements[1]\n",
    "    IEN = numpy.zeros((Nelems,4),numpy.int)\n",
    "    for i in range(Nx-1):\n",
    "        for j in range(Ny-1):\n",
    "            n = j*(Nx-1)+i # Element number\n",
    "            IEN[n,0] = j*Nx+i\n",
    "            IEN[n,1] = j*Nx+(i+1)\n",
    "            IEN[n,2] = (j+1)*Nx+i\n",
    "            IEN[n,3] = (j+1)*Nx+(i+1)\n",
    "    \n",
    "    return nodes, IEN"
   ]
  },
  {
   "cell_type": "code",
   "execution_count": 4,
   "metadata": {
    "collapsed": false
   },
   "outputs": [],
   "source": [
    "def shape_functions(coords):\n",
    "    \"\"\"\n",
    "    Value of the shape functions at given parametric coordinates\n",
    "    \n",
    "    Parameters\n",
    "    ----------\n",
    "    \n",
    "    coords : vector of float\n",
    "        Parametric coordinates (xi, eta)\n",
    "    \n",
    "    Returns\n",
    "    -------\n",
    "    \n",
    "    N_i : vector of float\n",
    "        The four shape functions at this point\n",
    "        \n",
    "    Notes\n",
    "    -----\n",
    "    \n",
    "    It is **essential** that the order of the shape functions matches the order of the nodes in the element. \n",
    "    That is, in parametric coordinates we have \n",
    "    0 : bottom left\n",
    "    1 : bottom right\n",
    "    2 : top left\n",
    "    3 : top right\n",
    "    \"\"\"\n",
    "    N = numpy.zeros((4,))\n",
    "    N[0] = 0.25*(1.0-coords[0])*(1.0-coords[1])\n",
    "    N[1] = 0.25*(1.0+coords[0])*(1.0-coords[1])\n",
    "    N[2] = 0.25*(1.0-coords[0])*(1.0+coords[1])\n",
    "    N[3] = 0.25*(1.0+coords[0])*(1.0+coords[1])\n",
    "    \n",
    "    return N"
   ]
  },
  {
   "cell_type": "code",
   "execution_count": 5,
   "metadata": {
    "collapsed": false
   },
   "outputs": [],
   "source": [
    "xi = numpy.linspace(-1,1)\n",
    "Xi, Eta = numpy.meshgrid(xi,xi)\n",
    "N = numpy.zeros((4,len(xi),len(xi)))\n",
    "for i in range(len(xi)):\n",
    "    for j in range(len(xi)):\n",
    "        N[:,i,j] = shape_functions([Xi[i,j], Eta[i,j]])"
   ]
  },
  {
   "cell_type": "code",
   "execution_count": 6,
   "metadata": {
    "collapsed": false
   },
   "outputs": [
    {
     "data": {
      "image/png": "[encoded data removed]",
      "text/plain": [
       "<matplotlib.figure.Figure at 0x10e1ca710>"
      ]
     },
     "metadata": {},
     "output_type": "display_data"
    }
   ],
   "source": [
    "fig = pyplot.figure()\n",
    "ax1 = fig.add_subplot(221,projection='3d')\n",
    "ax1.plot_surface(Xi,Eta,N[0,:,:])\n",
    "ax2 = fig.add_subplot(222,projection='3d')\n",
    "ax2.plot_surface(Xi,Eta,N[1,:,:])\n",
    "ax3 = fig.add_subplot(223,projection='3d')\n",
    "ax3.plot_surface(Xi,Eta,N[2,:,:])\n",
    "ax4 = fig.add_subplot(224,projection='3d')\n",
    "ax4.plot_surface(Xi,Eta,N[3,:,:]);"
   ]
  },
  {
   "cell_type": "markdown",
   "metadata": {},
   "source": [
    "Remember that for any function $f = f({\\bf \\xi})$ we can write $f = f^A N^A ({\\bf \\xi})$ where $f^A = f({\\bf \\xi}^A)$ is just a constant, the function evaluated at the node $A$."
   ]
  },
  {
   "cell_type": "code",
   "execution_count": 7,
   "metadata": {
    "collapsed": false
   },
   "outputs": [
    {
     "data": {
      "image/png": "[encoded data removed]",
      "text/plain": [
       "<matplotlib.figure.Figure at 0x1103de790>"
      ]
     },
     "metadata": {},
     "output_type": "display_data"
    }
   ],
   "source": [
    "fig = pyplot.figure()\n",
    "ax1 = fig.add_subplot(121,projection='3d')\n",
    "ax1.plot_surface(Xi,Eta,N[1,:,:]+N[3,:,:]) # This should be x\n",
    "ax1.set_xlabel(r\"$x$\");ax1.set_ylabel(r\"$y$\");\n",
    "ax2 = fig.add_subplot(122,projection='3d')\n",
    "ax2.plot_surface(Xi,Eta,N[2,:,:]+N[3,:,:]) # This should be y\n",
    "ax2.set_xlabel(r\"$x$\");ax2.set_ylabel(r\"$y$\");"
   ]
  },
  {
   "cell_type": "code",
   "execution_count": 8,
   "metadata": {
    "collapsed": false
   },
   "outputs": [],
   "source": [
    "def deriv_shape_functions(coords):\n",
    "    \"\"\"\n",
    "    Value of the derivatives of the shape functions wrt parametric coordinates at given parametric coordinates\n",
    "    \n",
    "    Parameters\n",
    "    ----------\n",
    "    \n",
    "    coords : vector of float\n",
    "        Parametric coordinates (xi, eta)\n",
    "    \n",
    "    Returns\n",
    "    -------\n",
    "    \n",
    "    d_N_i : array of float\n",
    "        The four shape functions at this point, derivatives wrt (xi, eta)\n",
    "    \"\"\"\n",
    "    dN = numpy.zeros((2,4))\n",
    "    dN[0,0] = -0.25*(1.0-coords[1])\n",
    "    dN[0,1] = +0.25*(1.0-coords[1])\n",
    "    dN[0,2] = -0.25*(1.0+coords[1])\n",
    "    dN[0,3] = +0.25*(1.0+coords[1])\n",
    "    dN[1,0] = -0.25*(1.0-coords[0])\n",
    "    dN[1,1] = -0.25*(1.0+coords[0])\n",
    "    dN[1,2] = +0.25*(1.0-coords[0])\n",
    "    dN[1,3] = +0.25*(1.0+coords[0])\n",
    "    \n",
    "    return dN"
   ]
  },
  {
   "cell_type": "code",
   "execution_count": 9,
   "metadata": {
    "collapsed": false
   },
   "outputs": [],
   "source": [
    "def Jacobian(coords, node_coords):\n",
    "    \"\"\"\n",
    "    Jacobian matrix at given parametric coordinates\n",
    "    \n",
    "    Parameters\n",
    "    ----------\n",
    "    \n",
    "    coords : vector of float\n",
    "        Parametric coordinates (xi, eta)\n",
    "    node_coords : array of float\n",
    "        Physical coordinates of the nodes defining this element\n",
    "    \n",
    "    Returns\n",
    "    -------\n",
    "    \n",
    "    J : array of float\n",
    "        The Jacobian (d{x,y} / d{xi,eta})\n",
    "    \"\"\"\n",
    "    \n",
    "    dN = deriv_shape_functions(coords)\n",
    "    J = numpy.dot(dN, node_coords)\n",
    "    return J"
   ]
  },
  {
   "cell_type": "code",
   "execution_count": 10,
   "metadata": {
    "collapsed": false
   },
   "outputs": [],
   "source": [
    "def GaussQuad_Volume(field, node_coords):\n",
    "    \"\"\"\n",
    "    Use two point Gauss quadrature to evaluate the integral of a field over an element\n",
    "    \n",
    "    Parameters\n",
    "    ----------\n",
    "    \n",
    "    field : function\n",
    "        A way of evaluating the field variable at given parametric coordinates within the element.\n",
    "    node_coords : array of float\n",
    "        Physical coordinates of the nodes defining this element\n",
    "    \n",
    "    Returns\n",
    "    -------\n",
    "    \n",
    "    I : float\n",
    "        The integral over the element\n",
    "    \"\"\"\n",
    "    \n",
    "    point = 1.0/numpy.sqrt(3.0)\n",
    "    I = 0\n",
    "    I += numpy.linalg.det(Jacobian([-point,-point], node_coords))*field([-point,-point])\n",
    "    I += numpy.linalg.det(Jacobian([point,-point], node_coords))*field([point,-point])\n",
    "    I += numpy.linalg.det(Jacobian([-point,point], node_coords))*field([-point,point])\n",
    "    I += numpy.linalg.det(Jacobian([point,point], node_coords))*field([point,point])\n",
    "    \n",
    "    return I"
   ]
  },
  {
   "cell_type": "code",
   "execution_count": 11,
   "metadata": {
    "collapsed": false
   },
   "outputs": [],
   "source": [
    "def GaussQuad_Boundary(field, node_coords, boundary):\n",
    "    \"\"\"\n",
    "    Use two point Gauss quadrature to evaluate the integral of a field over one boundary of an element\n",
    "    \n",
    "    Parameters\n",
    "    ----------\n",
    "    \n",
    "    field : function\n",
    "        A way of evaluating the field variable at given parametric coordinates within the element.\n",
    "    node_coords : array of float\n",
    "        Physical coordinates of the nodes defining this element\n",
    "    boundary : int\n",
    "        Which boundary to integrate over (0: bottom; 1: right, 2: top, 3: left)\n",
    "    \n",
    "    Returns\n",
    "    -------\n",
    "    \n",
    "    I : float\n",
    "        The integral over the element\n",
    "    \"\"\"\n",
    "    \n",
    "    point = 1.0/numpy.sqrt(3.0)\n",
    "    if boundary == 0:\n",
    "        loc1 = [-point, -1.0]\n",
    "        loc2 = [point, -1.0]\n",
    "    elif boundary == 1:\n",
    "        loc1 = [1.0, -point]\n",
    "        loc2 = [1.0, point]\n",
    "    elif boundary == 2:\n",
    "        loc1 = [-point, 1.0]\n",
    "        loc2 = [point, 1.0]\n",
    "    elif boundary == 3:\n",
    "        loc1 = [1.0, -point]\n",
    "        loc2 = [1.0, point]\n",
    "    else:\n",
    "        raise AssertionError(\"boundary value must be in 0-3\")\n",
    "        \n",
    "    I = 0\n",
    "    I += numpy.linalg.det(Jacobian(loc1, node_coords))*field(loc1)\n",
    "    I += numpy.linalg.det(Jacobian(loc2, node_coords))*field(loc2)\n",
    "    \n",
    "    return I"
   ]
  },
  {
   "cell_type": "code",
   "execution_count": 12,
   "metadata": {
    "collapsed": false
   },
   "outputs": [],
   "source": [
    "def Bmatrix(coords, node_coords):\n",
    "    \"\"\"\n",
    "    Strain-displacement B matrix (dN/dx = J^{-1} dN/dxi) at given parametric coordinates\n",
    "    \n",
    "    Parameters\n",
    "    ----------\n",
    "    \n",
    "    coords : vector of float\n",
    "        Parametric coordinates (xi, eta)\n",
    "    node_coords : array of float\n",
    "        Physical coordinates of the nodes defining this element\n",
    "    \n",
    "    Returns\n",
    "    -------\n",
    "    \n",
    "    B : array of float\n",
    "        The Strain-displacement matrix \n",
    "    \"\"\"\n",
    "    \n",
    "    dN = deriv_shape_functions(coords)\n",
    "    J = Jacobian(coords, node_coords)\n",
    "    B = numpy.dot(numpy.linalg.inv(J), dN)\n",
    "    return B"
   ]
  },
  {
   "cell_type": "code",
   "execution_count": 13,
   "metadata": {
    "collapsed": false
   },
   "outputs": [],
   "source": [
    "domain = numpy.array([[0.0,1.0],[0.0,0.5]])\n",
    "Nelements = [1,1]\n",
    "nodes, IEN = mesh_generator(domain,Nelements)"
   ]
  },
  {
   "cell_type": "code",
   "execution_count": 14,
   "metadata": {
    "collapsed": false
   },
   "outputs": [],
   "source": [
    "def KD(i,j):\n",
    "    \"\"\"\n",
    "    Kronecker delta\n",
    "    \"\"\"\n",
    "    \n",
    "    return int(i==j)"
   ]
  },
  {
   "cell_type": "code",
   "execution_count": 15,
   "metadata": {
    "collapsed": false
   },
   "outputs": [],
   "source": [
    "def generate_constituitive_relation(E, nu):\n",
    "    \"\"\"\n",
    "    Return function giving the consituitive relation C_{ijkl}\n",
    "    \"\"\"\n",
    "    \n",
    "    lam = E * nu / (1.0 + nu) / (1.0 - 2.0 * nu)\n",
    "    mu = E / 2.0 / (1.0 + nu)\n",
    "    \n",
    "    C = lambda i, j, k, l: lam*KD(i,j)*KD(k,l) + mu*(KD(i,k)*KD(j,l)+KD(i,l)*KD(j,k))\n",
    "\n",
    "    return C"
   ]
  },
  {
   "cell_type": "code",
   "execution_count": 16,
   "metadata": {
    "collapsed": false
   },
   "outputs": [],
   "source": [
    "def stiffness_integrand(A, B, j, l, C, node_coords):\n",
    "    \"\"\"\n",
    "    Return function giving the integrand for the stiffness matrix calculation\n",
    "    \"\"\"\n",
    "    \n",
    "    integrand = lambda coords : \\\n",
    "    C[0,j,0,l]*Bmatrix(coords, node_coords)[0,A]*Bmatrix(coords, node_coords)[0,B] + \\\n",
    "    C[1,j,0,l]*Bmatrix(coords, node_coords)[1,A]*Bmatrix(coords, node_coords)[0,B] + \\\n",
    "    C[0,j,1,l]*Bmatrix(coords, node_coords)[0,A]*Bmatrix(coords, node_coords)[1,B] + \\\n",
    "    C[1,j,1,l]*Bmatrix(coords, node_coords)[1,A]*Bmatrix(coords, node_coords)[1,B]\n",
    "    \n",
    "    return integrand"
   ]
  },
  {
   "cell_type": "code",
   "execution_count": 17,
   "metadata": {
    "collapsed": false
   },
   "outputs": [],
   "source": [
    "def element_stiffness(node_coords, C):\n",
    "    \"\"\"\n",
    "    Compute the element stiffness matrix for a given element defined by its node locations\n",
    "    \"\"\"\n",
    "    \n",
    "    K = numpy.zeros((8,8))\n",
    "    Ndims = 2\n",
    "    Nnodes = 4\n",
    "    for A in range(Nnodes):\n",
    "        for j in range(Ndims):\n",
    "            for B in range(Nnodes):\n",
    "                for l in range(Ndims):\n",
    "                    K[2*A+j, 2*B+l] = GaussQuad_Volume(stiffness_integrand(A,B,j,l,C,node_coords), node_coords)\n",
    "    return K"
   ]
  },
  {
   "cell_type": "code",
   "execution_count": 18,
   "metadata": {
    "collapsed": false
   },
   "outputs": [],
   "source": [
    "def force_integrand(A, j):\n",
    "    \"\"\"\n",
    "    A hand-hack for a single element here.\n",
    "    \"\"\"\n",
    "    \n",
    "    traction = [1.0e6, 0]\n",
    "    \n",
    "    integrand = lambda coords : traction[j]*shape_functions(coords)[A]\n",
    "    \n",
    "    return integrand"
   ]
  },
  {
   "cell_type": "code",
   "execution_count": 19,
   "metadata": {
    "collapsed": false
   },
   "outputs": [],
   "source": [
    "def load_boundary(node_coords):\n",
    "    \"\"\"\n",
    "    Compute the force term due to the boundary.\n",
    "    \"\"\"\n",
    "    \n",
    "    F = numpy.zeros((8,1))\n",
    "    Ndims = 2\n",
    "    Nnodes = 4\n",
    "    for A in range(Nnodes):\n",
    "        for j in range(Ndims):\n",
    "            F[2*A+j] = GaussQuad_Boundary(force_integrand(A,j), node_coords, boundary=1)\n",
    "            \n",
    "    return F"
   ]
  },
  {
   "cell_type": "markdown",
   "metadata": {},
   "source": [
    "### Question 4"
   ]
  },
  {
   "cell_type": "markdown",
   "metadata": {},
   "source": [
    "Using the Python programme from question 3, solve the following problem."
   ]
  },
  {
   "cell_type": "markdown",
   "metadata": {},
   "source": [
    "Consider a 2D rectangular solid domain (length $L_x = 1m$; height $L_y = 0.5m$) with material properties $\\{ E = 210{\\rm{ GPa}};\\,\\,\\,\\nu  = 0.3\\} $ and sides labelled (counter-clockwise, starting from the left vertical side) as A, B, C and D.\n",
    "\n",
    "The boundary conditions are as follows:\n",
    "\n",
    "\n",
    "\\begin{equation}\n",
    "  u({\\text{side}}\\,{\\text{A}}) = v({\\text{side}}\\,{\\text{B}}) = 0\n",
    "\\end{equation}\n",
    "\n",
    "\n",
    "The load condition is:\n",
    "\n",
    "\n",
    "\\begin{equation}\n",
    "{\\bf{F}}({\\text{side C}})[Newton] = \\left\\{ \\begin{array}{l}\n",
    "{F_x}({\\text{side C}})\\\\\n",
    "{F_y}({\\text{side C}})\n",
    "\\end{array} \\right\\} = \\left\\{ \\begin{array}{l}\n",
    "{10^6}\\\\\n",
    "0\n",
    "\\end{array} \\right\\}\n",
    "\\end{equation}\n",
    "\n",
    "\n",
    "**The boundary and loading conditions are homogeneous and therefore do not\n",
    "introduce shear coupling. The Cauchy stress tensor has only one non-null\n",
    "component, ${\\sigma _{xx}}$.**\n",
    "\n",
    "**NB:** the total load of 10$^{6}$ N must be uniformly distributed over all\n",
    "the nodes of side C.\n",
    "\n",
    "1. Solve the boundary-value problem of elasticity described above to calculate\n",
    "the displacement of faces D and C. **You will consider 2 mesh sizes:** 1 for\n",
    "which the whole structure is meshed *with one element only* and one size\n",
    "of your choice.\n",
    "2. Compare the solutions to the exact analytical solutions given by ${\\sigma\n",
    "_{xx}} = {F_x}/{L_y}$.\n",
    "\n",
    "The strains can be calculated as \n",
    "\n",
    "$$\n",
    "\\begin{align}\n",
    "{\\varepsilon _{xx}} = {\\sigma _{xx}}/E =\n",
    "{F_x}/E{L_y} &=  - {\\varepsilon _{yy}}/\\nu \\\\  {\\varepsilon _{xy}} &= 0\n",
    "\\end{align}\n",
    "$$\n",
    "\n",
    "and the displacements as \n",
    "\n",
    "$$\n",
    "\\begin{align}\n",
    "  u &= {\\varepsilon _{xx}}{L_x} \\\\ v &= {\\varepsilon _{yy}}{L_y}.\n",
    "\\end{align}\n",
    "$$\n",
    "\n",
    "Do the results surprise you? Why?\n"
   ]
  },
  {
   "cell_type": "markdown",
   "metadata": {},
   "source": [
    "#### Answer"
   ]
  },
  {
   "cell_type": "markdown",
   "metadata": {},
   "source": [
    "Note $\\sigma_{xx} = 2 \\times 10^6$ giving $\\varepsilon_{xx} = 9.52381 \\times 10^{-4}$ and $\\varepsilon_{yy} = -2.85714 \\times 10^{-4}$ and hence $u = 9.52381 \\times 10^{-4}$ and $v = -1.42857 \\times 10^{-4}$."
   ]
  },
  {
   "cell_type": "code",
   "execution_count": 20,
   "metadata": {
    "collapsed": false
   },
   "outputs": [],
   "source": [
    "# One element case\n",
    "domain = numpy.array([[0.0,1.0],[0.0,0.5]])\n",
    "Nelements = [1,1]\n",
    "nodes, IEN = mesh_generator(domain,Nelements)"
   ]
  },
  {
   "cell_type": "code",
   "execution_count": 21,
   "metadata": {
    "collapsed": false
   },
   "outputs": [],
   "source": [
    "Ndims = 2\n",
    "Nnodes = len(nodes)"
   ]
  },
  {
   "cell_type": "code",
   "execution_count": 22,
   "metadata": {
    "collapsed": false
   },
   "outputs": [],
   "source": [
    "C = numpy.zeros((Ndims,Ndims,Ndims,Ndims))\n",
    "Cfn = generate_constituitive_relation(2.1e11, 0.3)\n",
    "for i in range(Ndims):\n",
    "    for j in range(Ndims):\n",
    "        for k in range(Ndims):\n",
    "            for l in range(Ndims):\n",
    "                C[i,j,k,l] = Cfn(i,j,k,l)"
   ]
  },
  {
   "cell_type": "code",
   "execution_count": 23,
   "metadata": {
    "collapsed": false
   },
   "outputs": [
    {
     "name": "stdout",
     "output_type": "stream",
     "text": [
      "[[  2.16666667e-06]\n",
      " [ -4.64285714e-07]\n",
      " [  2.16666667e-06]\n",
      " [ -4.64285714e-07]]\n"
     ]
    }
   ],
   "source": [
    "K = element_stiffness(nodes, C)\n",
    "F = load_boundary(nodes)\n",
    "free_rows = numpy.array([2,5,6,7])\n",
    "fixed_rows = numpy.array([0,1,3,4])\n",
    "K_free = K[free_rows[:,numpy.newaxis], free_rows]\n",
    "F_free = F[free_rows]\n",
    "K_fixed = K[fixed_rows[:,numpy.newaxis], fixed_rows]\n",
    "F_fixed = F[fixed_rows]\n",
    "d_fixed = numpy.zeros((4,1))\n",
    "d = numpy.linalg.solve(K_free, F_free-numpy.dot(K_fixed,d_fixed))\n",
    "print(d)"
   ]
  },
  {
   "cell_type": "code",
   "execution_count": 24,
   "metadata": {
    "collapsed": false
   },
   "outputs": [
    {
     "data": {
      "text/plain": [
       "array([ 0.21428571])"
      ]
     },
     "execution_count": 24,
     "metadata": {},
     "output_type": "execute_result"
    }
   ],
   "source": [
    "-d[1]/d[0] #Should be nu/2 = 0.15"
   ]
  },
  {
   "cell_type": "code",
   "execution_count": null,
   "metadata": {
    "collapsed": true
   },
   "outputs": [],
   "source": []
  }
 ],
 "metadata": {
  "kernelspec": {
   "display_name": "Python 2",
   "language": "python",
   "name": "python2"
  },
  "language_info": {
   "codemirror_mode": {
    "name": "ipython",
    "version": 2
   },
   "file_extension": ".py",
   "mimetype": "text/x-python",
   "name": "python",
   "nbconvert_exporter": "python",
   "pygments_lexer": "ipython2",
   "version": "2.7.10"
  }
 },
 "nbformat": 4,
 "nbformat_minor": 0
}
