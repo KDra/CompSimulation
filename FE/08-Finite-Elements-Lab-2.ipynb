{
 "cells": [
  {
   "cell_type": "markdown",
   "metadata": {},
   "source": [
    "# Finite Elements Lab 2 Worksheet"
   ]
  },
  {
   "cell_type": "markdown",
   "metadata": {},
   "source": [
    "##### Georges Limbert"
   ]
  },
  {
   "cell_type": "markdown",
   "metadata": {},
   "source": [
    "###### nCATS, Faculty of Engineering and the Environment, University of Southampton"
   ]
  },
  {
   "cell_type": "code",
   "execution_count": 3,
   "metadata": {
    "collapsed": false
   },
   "outputs": [
    {
     "data": {
      "text/html": [
       "<link href='http://fonts.googleapis.com/css?family=Open+Sans:100,300,400,500,700,800,900,100italic,300italic,400italic,500italic,700italic,800italic,900italic' rel='stylesheet' type='text/css'>\n",
       "<link href='http://fonts.googleapis.com/css?family=Arvo:400,700,400italic' rel='stylesheet' type='text/css'>\n",
       "<link href='http://fonts.googleapis.com/css?family=PT+Mono' rel='stylesheet' type='text/css'>\n",
       "<link href='http://fonts.googleapis.com/css?family=Shadows+Into+Light' rel='stylesheet' type='text/css'>\n",
       "<link href='http://fonts.googleapis.com/css?family=Nixie+One' rel='stylesheet' type='text/css'>\n",
       "<style>\n",
       "\n",
       "@font-face {\n",
       "    font-family: \"Computer Modern\";\n",
       "    src: url('http://mirrors.ctan.org/fonts/cm-unicode/fonts/otf/cmunss.otf');\n",
       "}\n",
       "\n",
       "#notebook_panel { /* main background */\n",
       "    background: rgb(245,245,245);\n",
       "}\n",
       "\n",
       "div.cell { /* set cell width */\n",
       "    width: 1000px;\n",
       "}\n",
       "\n",
       "div #notebook { /* centre the content */\n",
       "    background: #fff; /* white background for content */\n",
       "    width: 1200px;\n",
       "    margin: auto;\n",
       "    padding-left: 0em;\n",
       "}\n",
       "\n",
       "#notebook li { /* More space between bullet points */\n",
       "margin-top:0.8em;\n",
       "}\n",
       "\n",
       "/* draw border around running cells */\n",
       "div.cell.border-box-sizing.code_cell.running { \n",
       "    border: 1px solid #111;\n",
       "}\n",
       "\n",
       "/* Put a solid color box around each cell and its output, visually linking them*/\n",
       "div.cell.code_cell {\n",
       "    background-color: rgb(256,256,256); \n",
       "    border-radius: 0px; \n",
       "    padding: 0.5em;\n",
       "    margin-left:1em;\n",
       "    margin-top: 1em;\n",
       "}\n",
       "\n",
       "div.text_cell_render{\n",
       "    font-family: 'Open Sans' sans-serif;\n",
       "    line-height: 140%;\n",
       "    font-size: 125%;\n",
       "    font-weight: 400;\n",
       "    width:900px;\n",
       "    margin-left:auto;\n",
       "    margin-right:auto;\n",
       "}\n",
       "\n",
       "\n",
       "/* Formatting for header cells */\n",
       ".text_cell_render h1 {\n",
       "    font-family: 'Arvo', serif;\n",
       "    font-style:regular;\n",
       "    font-weight: 400;    \n",
       "    font-size: 45pt;\n",
       "    line-height: 100%;\n",
       "    color: rgb(0,51,102);\n",
       "    margin-bottom: 0.5em;\n",
       "    margin-top: 0.5em;\n",
       "    display: block;\n",
       "}\t\n",
       ".text_cell_render h2 {\n",
       "    font-family: 'Arvo', serif;\n",
       "    font-weight: 400;\n",
       "    font-size: 30pt;\n",
       "    line-height: 100%;\n",
       "    color: rgb(0,51,102);\n",
       "    margin-bottom: 0.1em;\n",
       "    margin-top: 0.3em;\n",
       "    display: block;\n",
       "}\t\n",
       "\n",
       ".text_cell_render h3 {\n",
       "    font-family: 'Arvo', serif;\n",
       "    margin-top:16px;\n",
       "\tfont-size: 22pt;\n",
       "    font-weight: 600;\n",
       "    margin-bottom: 3px;\n",
       "    font-style: regular;\n",
       "    color: rgb(102,102,0);\n",
       "}\n",
       "\n",
       ".text_cell_render h4 {    /*Use this for captions*/\n",
       "    font-family: 'Arvo', serif;\n",
       "    font-size: 14pt;\n",
       "    text-align: center;\n",
       "    margin-top: 0em;\n",
       "    margin-bottom: 2em;\n",
       "    font-style: regular;\n",
       "}\n",
       "\n",
       ".text_cell_render h5 {  /*Use this for small titles*/\n",
       "    font-family: 'Arvo', sans-serif;\n",
       "    font-weight: 400;\n",
       "    font-size: 16pt;\n",
       "    color: rgb(163,0,0);\n",
       "    font-style: italic;\n",
       "    margin-bottom: .1em;\n",
       "    margin-top: 0.8em;\n",
       "    display: block;\n",
       "}\n",
       "\n",
       ".text_cell_render h6 { /*use this for copyright note*/\n",
       "    font-family: 'PT Mono', sans-serif;\n",
       "    font-weight: 300;\n",
       "    font-size: 9pt;\n",
       "    line-height: 100%;\n",
       "    color: grey;\n",
       "    margin-bottom: 1px;\n",
       "    margin-top: 1px;\n",
       "}\n",
       "\n",
       ".CodeMirror{\n",
       "        font-family: \"PT Mono\";\n",
       "        font-size: 90%;\n",
       "}\n",
       "\n",
       "</style>\n",
       "<script>\n",
       "    MathJax.Hub.Config({\n",
       "                        TeX: {\n",
       "                           extensions: [\"AMSmath.js\"],\n",
       "                           equationNumbers: { autoNumber: \"AMS\", useLabelIds: true}\n",
       "                           },\n",
       "                tex2jax: {\n",
       "                    inlineMath: [ ['$','$'], [\"\\\\(\",\"\\\\)\"] ],\n",
       "                    displayMath: [ ['$$','$$'], [\"\\\\[\",\"\\\\]\"] ]\n",
       "                },\n",
       "                displayAlign: 'center', // Change this to 'center' to center equations.\n",
       "                \"HTML-CSS\": {\n",
       "                    styles: {'.MathJax_Display': {\"margin\": 4}}\n",
       "                }\n",
       "        });\n",
       "</script>\n"
      ],
      "text/plain": [
       "<IPython.core.display.HTML object>"
      ]
     },
     "execution_count": 3,
     "metadata": {},
     "output_type": "execute_result"
    }
   ],
   "source": [
    "from IPython.core.display import HTML\n",
    "css_file = 'https://raw.githubusercontent.com/ngcm/training-public/master/ipython_notebook_styles/ngcmstyle.css'\n",
    "HTML(url=css_file)"
   ]
  },
  {
   "cell_type": "markdown",
   "metadata": {},
   "source": [
    "## Aims"
   ]
  },
  {
   "cell_type": "markdown",
   "metadata": {},
   "source": [
    "The aim of this computer laboratory is to gain a practical insight into the fundamental steps required to program a simple finite element code to solve a problem of elasticity. In doing so, you will learn:\n",
    "\n",
    "* How to recast the PDE problem into a variational form\n",
    "* To derive the formulation of a 2D finite element\n",
    "* To create a simple structured mesh generator to mesh a 2D domain\n",
    "* To create an assembly procedure for the stiffness matrix of a 2D structure\n",
    "* How to numerically solve the variational problem for a practical example\n",
    "\n",
    "The numerical environment chosen for this laboratory is [IPython](http://ipython.org).\n"
   ]
  },
  {
   "cell_type": "markdown",
   "metadata": {},
   "source": [
    "## Basic problem: linear elasticity"
   ]
  },
  {
   "cell_type": "markdown",
   "metadata": {},
   "source": [
    "\n",
    "Let's consider a 2D solid body $\\Omega $ at rest, subjected to body forces ${\\bf{b}}$, prescribed displacements ${\\bf{\\bar d}}$ and tractions ${\\bf{\\bar t}}$. The problem of elasticity is defined as follows:\n",
    "\n",
    "$$\n",
    "\\begin{align}\n",
    "{\\text{div}}\\sigma  + {\\bf{b}} & = {\\bf{0}} & {\\bf x}(x,y) &\\text{ in } \\Omega \\\\\n",
    "{\\bf{d}}(u,v) &= {\\bf{\\bar d}}(u,v) & {\\bf x}(x,y) &\\text{ on } \\partial {\\Omega\n",
    "_u} \\\\\n",
    "{\\bf{t}}({\\bf x}) &= {\\bf{\\bar t}}({\\bf x}) & {\\bf x}(x,y) &\\text{ on }\\partial {\\Omega_\\sigma}\n",
    "\\end{align}\n",
    "$$\n",
    "\n",
    "$\\sigma $ is the symmetric Cauchy stress tensor.\n"
   ]
  },
  {
   "cell_type": "markdown",
   "metadata": {},
   "source": [
    "### Question 1"
   ]
  },
  {
   "cell_type": "markdown",
   "metadata": {},
   "source": [
    "\n",
    "Apply integration by parts to the PDE ${\\text{div}}\\sigma  + {\\bf{b}} = {\\bf{0}}$\n",
    "with the divergence theorem (relation between the flow (flux) of a vector field\n",
    "though a surface and the behavior inside the surface) recast it into its\n",
    "variational form. You will also take into account the conditions about the\n",
    "**test function** $\\upsilon$ on the boundary where\n",
    "${\\bf{d}}$ is prescribed."
   ]
  },
  {
   "cell_type": "markdown",
   "metadata": {},
   "source": [
    "## Constituitive relationship"
   ]
  },
  {
   "cell_type": "markdown",
   "metadata": {},
   "source": [
    "\n",
    "To relate stress and strain one must define what is called a\n",
    "**constitutive relationship**. In other branches of physics other types of\n",
    "relationships would be used (e.g. relation between strain and temperature).\n",
    "\n",
    "In the case of isotropic linear elasticity (Hooke's elasticity) the Cauchy\n",
    "stress tensor is related to the strain tensor $\\varepsilon $ through the\n",
    "following relationship:\n",
    "\n",
    "$$\n",
    "\\begin{equation}\n",
    "\\sigma = \\mathbb{C} : {\\bf \\varepsilon}\n",
    "\\end{equation}\n",
    "$$\n",
    "\n",
    "where $\\mathbb{C}$ is the elasticity tensor.\n",
    "\n",
    "Equation (2) is a **tensor equation** (valid in any coordinate system). If\n",
    "one decides to use a Cartesian coordinate system (2) can be written in index\n",
    "notation as:\n",
    "\n",
    "$$\n",
    "\\begin{equation}\n",
    "{\\left( {\\bf \\sigma}  \\right)_{ij}} = {\\sigma _{ij}} = \\left( \\mathbb{C} : {\\bf \\varepsilon}\n",
    "\\right)_{ij} = \\mathbb{C}_{ijkl} \\varepsilon_{kl} \\quad \\left\\{\n",
    "{{\\text{2D}}:i,j,k,l:1 \\dots 2; \\quad {\\text{3D}}:i,j,k,l:1 \\dots 3} \\right\\}\n",
    "\\end{equation}\n",
    "$$\n",
    "\n",
    "Please note that we use the following convention: bold characters represent\n",
    "vectors, matrices or tensors.\n",
    "\n",
    "Because the Cauchy, strain and elasticity tensors are symmetric and the material\n",
    "isotropic one can simplify the tensorial constitutive equation into a matrix\n",
    "equation involving vectors and a second-order matrix.\n",
    "\n",
    "$$\n",
    "\\begin{equation}\n",
    "\\left\\{ {\\bf \\sigma}  \\right\\} = \\left\\{ \\begin{array}{l}\n",
    "{\\sigma _{xx}}\\\\\n",
    "{\\sigma _{yy}}\\\\\n",
    "{\\sigma _{xy}}\n",
    "\\end{array} \\right\\} = \\underbrace {\\frac{E}{{1 - {\\nu ^2}}}\\left[\n",
    "{\\begin{array}{*{20}{c}}\n",
    "1&\\nu &0\\\\\n",
    "\\nu &1&0\\\\\n",
    "0&0&{\\frac{{1 - \\nu }}{2}}\n",
    "\\end{array}} \\right]}_{\\left[ \\mathbb{C} \\right]}\\underbrace {\\left\\{ \\begin{array}{l}\n",
    "{\\varepsilon _{xx}}\\\\\n",
    "{\\varepsilon _{yy}}\\\\\n",
    "2{\\varepsilon _{xy}}\n",
    "\\end{array} \\right\\}}_{\\left\\{ {\\bf \\varepsilon} \\right\\}}\n",
    "\\end{equation}\n",
    "$$\n",
    "\n",
    "$\\left\\{ {E,\\nu } \\right\\}$ are material properties, respectively the Young's\n",
    "modulus and Poisson's ratio which characterise the stiffness and compressibility\n",
    "of the material."
   ]
  },
  {
   "cell_type": "markdown",
   "metadata": {},
   "source": [
    "Let’s consider a 4-noded bi-linear interpolation element (Figure 1)."
   ]
  },
  {
   "cell_type": "markdown",
   "metadata": {},
   "source": [
    "![Image](./figures/FE1.svg)"
   ]
  },
  {
   "cell_type": "markdown",
   "metadata": {},
   "source": [
    "\n",
    "The shape functions chosen here are simple linear Lagrange polynomials but other\n",
    "forms could be used (quadratic Lagrange, Hermite, NURBS, etc):\n",
    "\n",
    "\n",
    "\\begin{equation}\n",
    "{N_i} = \\frac{1}{4}(1 + {\\xi_i} \\xi )(1 + {\\eta _i}\\eta )\n",
    "\\quad {\\xi _i},{\\eta _i} =  - 1,1 \n",
    "\\end{equation}\n",
    "\n",
    "\n",
    "There are as many shape functions as nodes in the element, i.e. 4:\n",
    "\n",
    "\n",
    "\\begin{equation}\n",
    "\\left\\{\n",
    "\\begin{array}{rl}\n",
    "N_1 &= \\frac{1}{4}\\left( {1 - \\xi } \\right)\\left( {1 - \\eta } \\right)\\\\\n",
    "N_2 &= \\frac{1}{4}\\left( {1 + \\xi } \\right)\\left( {1 - \\eta } \\right)\\\\\n",
    "N_3 &= \\frac{1}{4}\\left( {1 + \\xi } \\right)\\left( {1 + \\eta } \\right)\\\\\n",
    "N_4 &= \\frac{1}{4}\\left( {1 - \\xi } \\right)\\left( {1 + \\eta } \\right)\n",
    "\\end{array}\n",
    "\\right\\}\n",
    "\\end{equation}\n",
    "\n",
    "\n",
    "We are using an **isoparametric formulation** which means that the\n",
    "**position vector** and **displacement vector** are interpolated using\n",
    "the same order of shape (or interpolation) functions.\n"
   ]
  },
  {
   "cell_type": "markdown",
   "metadata": {},
   "source": [
    "#### Interpolation of the position vector (discretisation)"
   ]
  },
  {
   "cell_type": "markdown",
   "metadata": {},
   "source": [
    "$$\n",
    "\\begin{equation}\n",
    "{\\bf{x}}\\left( {{\\xi ^e},t} \\right) = {{\\bf{x}}_1}(t){N_1}\\left( {{\\xi ^e}}\n",
    "\\right) + {{\\bf{x}}_2}(t){N_2}\\left( {{\\xi ^e}} \\right) +\n",
    "{{\\bf{x}}_3}(t){N_3}\\left( {{\\xi ^e}} \\right) + {{\\bf{x}}_4}(t){N_4}\\left( {{\\xi\n",
    "^e}} \\right)\n",
    "\\end{equation}\n",
    "$$\n",
    "\n",
    "where\n",
    "\n",
    "$$\n",
    "\\begin{equation}\n",
    "{{\\bf{x}}_A}(t) = {\\rm{position}}\\,(node\\,A) = \\left\\{ \\begin{array}{l}\n",
    "{x_A}\\\\\n",
    "{y_A}\n",
    "\\end{array} \\right\\}\n",
    "\\end{equation}\n",
    "$$\n",
    "\n",
    "$$\n",
    "\\begin{equation}\n",
    "{\\bf{x}}\\left( {{\\xi ^e},t} \\right) = {\\left\\{ {\\begin{array}{*{20}{c}}\n",
    "{x(t)}\\\\\n",
    "{y(t)}\n",
    "\\end{array}} \\right\\}_{node\\,1}}{N_1}\\left( {{\\xi ^e}} \\right) + {\\left\\{\n",
    "{\\begin{array}{*{20}{c}}\n",
    "{x(t)}\\\\\n",
    "{y(t)}\n",
    "\\end{array}} \\right\\}_{node\\,2}}{N_2}\\left( {{\\xi ^e}} \\right) + {\\left\\{\n",
    "{\\begin{array}{*{20}{c}}\n",
    "{x(t)}\\\\\n",
    "{y(t)}\n",
    "\\end{array}} \\right\\}_{node\\,3}}{N_3}\\left( {{\\xi ^e}} \\right) + {\\left\\{\n",
    "{\\begin{array}{*{20}{c}}\n",
    "{x(t)}\\\\\n",
    "{y(t)}\n",
    "\\end{array}} \\right\\}_{node\\,4}}{N_4}\\left( {{\\xi ^e}} \\right)\n",
    "\\end{equation}\n",
    "$$"
   ]
  },
  {
   "cell_type": "markdown",
   "metadata": {},
   "source": [
    "#### Interpolation of the displacement vector (discretisation)"
   ]
  },
  {
   "cell_type": "markdown",
   "metadata": {},
   "source": [
    "$$\n",
    "\\begin{equation}\n",
    "{\\bf{d}}\\left( {{\\xi ^e},t} \\right) = {{\\bf{d}}_1}(t){N_1}\\left( {{\\xi ^e}}\n",
    "\\right) + {{\\bf{d}}_2}(t){N_2}\\left( {{\\xi ^e}} \\right) +\n",
    "{{\\bf{d}}_3}(t){N_3}\\left( {{\\xi ^e}} \\right) + {{\\bf{d}}_4}(t){N_4}\\left( {{\\xi\n",
    "^e}} \\right)\n",
    "\\end{equation}\n",
    "$$\n",
    "\n",
    "where\n",
    "\n",
    "$$\n",
    "\\begin{equation}\n",
    "{{\\bf{d}}_A}(t) = {\\rm{displacement}}\\,(node\\,A) = \\left\\{ \\begin{array}{l}\n",
    "{u_A}\\\\\n",
    "{v_A}\n",
    "\\end{array} \\right\\}\n",
    "\\end{equation}\n",
    "$$"
   ]
  },
  {
   "cell_type": "markdown",
   "metadata": {},
   "source": [
    "## Degrees of freedom"
   ]
  },
  {
   "cell_type": "markdown",
   "metadata": {},
   "source": [
    "\n",
    "We can arrange all the degrees of freedom of the element in one vector:\n",
    "\n",
    "$$\n",
    "\\begin{equation}\n",
    "{\\bf{d}} = {\\{ {u_1},{v_1},{u_2},{v_2},{u_3},{v_3},{u_4},{v_4}\\} ^T}\n",
    "\\end{equation}\n",
    "$$\n",
    "\n",
    "The discretised versions of the position and displacement vector can be\n",
    "rewritten in matrix form:\n",
    "\n",
    "$$\n",
    "\\begin{equation}\n",
    "{\\bf{x}}\\left( {{\\xi ^e},t} \\right) = {N_I}\\left( {{\\xi ^e}}\n",
    "\\right){{\\bf{x}}_I}(t) = {{\\bf{N}}^T}\\left( {{\\xi ^e}} \\right){{\\bf{x}}_I}(t)\n",
    "\\end{equation}\n",
    "$$\n",
    "\n",
    "$$\n",
    "\\begin{equation}\n",
    "{\\bf{d}}\\left( {{\\xi ^e},t} \\right) = {N_I}\\left( {{\\xi ^e}}\n",
    "\\right){{\\bf{d}}_I}(t) = {{\\bf{N}}^T}\\left( {{\\xi ^e}} \\right){{\\bf{d}}_I}(t)\n",
    "\\end{equation}\n",
    "$$\n",
    "\n",
    "where\n",
    "\n",
    "$$\n",
    "\\begin{equation}\n",
    "{{\\bf{N}}^T}\\left( {{\\xi ^e}} \\right) = \\left\\{ {{N_1}({\\xi ^e}),{N_2}({\\xi\n",
    "^e}),{N_3}({\\xi ^e}),{N_4}({\\xi ^e})} \\right\\}\n",
    "\\end{equation}\n",
    "$$"
   ]
  },
  {
   "cell_type": "markdown",
   "metadata": {},
   "source": [
    "\n",
    "The test function used for the formulation of the weak form is also discretised:\n",
    "\n",
    "$$\n",
    "\\begin{equation}\n",
    "\\upsilon \\left( {{\\xi ^e},t} \\right) = {N_I}\\left( {{\\xi ^e}} \\right){\\upsilon\n",
    "_I}(t) = {{\\bf{N}}^T}\\left( {{\\xi ^e}} \\right){\\upsilon _I}(t)\n",
    "\\end{equation}\n",
    "$$"
   ]
  },
  {
   "cell_type": "markdown",
   "metadata": {},
   "source": [
    "### Question 2"
   ]
  },
  {
   "cell_type": "markdown",
   "metadata": {},
   "source": [
    "Inject the discretised version of the displacement into the weak form established in Question 1.\n",
    "You will have to express the strain matrix using the ${\\bf B}$ matrix (derivatives of shape functions).\n",
    "You should obtain 3 integral matrix/vector forms: the **element stiffness matrix**, the **nodal load vector due to body forces** and the **nodal load vector due to boundary forces**."
   ]
  },
  {
   "cell_type": "markdown",
   "metadata": {},
   "source": [
    "## Integration"
   ]
  },
  {
   "cell_type": "markdown",
   "metadata": {},
   "source": [
    "\n",
    "The integral expressions obtained in **Question 2** will have to be\n",
    "numerically integrated using, in our case, Gauss integration. We have integrals\n",
    "defined over the element domain ${\\Omega ^e}$ and its boundary $\\partial {\\Omega\n",
    "^e}$.\n",
    "\n",
    "There are well known integration formulas over parametric domains that are exact\n",
    "for polynomials like the Lagrange polynomials used in the shape functions. The\n",
    "integral of a function is transformed into the sum of **weighted values\n",
    "that the function takes at specific points**, the so-called **integration\n",
    "points** or **Gauss points**.\n",
    "\n",
    "$$\n",
    "\\begin{equation}\n",
    "\\int\\limits_ {f(\\xi )\\,\\,} d \\xi = {w_i}f({\\xi _i})\n",
    "\\end{equation}\n",
    "$$\n",
    "\n",
    "\n",
    "These integration formulas apply to the **parent element** (Figure 1) which is the element in the parametric domain $ = \\{ \\{  - 1,1\\} ,\\{ - 1,1\\} \\} $ so it is necessary to map back the parent element domain to the current (deformed) domain. This is a simple change of variables:\n",
    "\n",
    "\n",
    "$$\n",
    "\\begin{equation}\n",
    "d{\\Omega _e} = dx\\,dy = \\det ({\\bf{J}})\\,d\\xi\\, d\\eta\n",
    "\\end{equation}\n",
    "$$\n",
    "\n",
    "$$\n",
    "\\begin{equation}\n",
    "\\int\\limits_{{\\Omega^{e}}} {f({\\bf{x}})\\,\\,} d\\Omega  = \\int\\limits_\n",
    "{f({\\bf{x}}({\\xi ^e}))\\,\\underbrace {\\det \\left( {\\frac{{\\partial\n",
    "{\\bf{x}}}}{{\\partial {\\xi ^e}}}} \\right)}_{{J_{{\\xi ^e}}} = \\det ({\\bf{J}})}\\,} d \\xi\n",
    "= {w_i}{J_{{\\xi ^e}}}({\\xi ^e}_i)f({\\xi ^e}_i)\n",
    "\\end{equation}\n",
    "$$\n",
    "\n",
    "Here, we will use a 2 points Gauss integration rule: i.e. 4 integration points for the quadrilateral element:\n",
    "\n",
    "$$\n",
    "\\begin{align}\n",
    "{{\\bf{G}}_1} &= \\left\\{ { - \\frac{1}{{\\sqrt 3 }}, - \\frac{1}{{\\sqrt 3 }}}\n",
    "\\right\\} & {w_1} &= 1\\\\\n",
    "{{\\bf{G}}_2} &= \\left\\{ {\\frac{1}{{\\sqrt 3 }}, - \\frac{1}{{\\sqrt 3 }}} \\right\\} &\n",
    "{w_2} &= 1\\\\\n",
    "{{\\bf{G}}_3} &= \\left\\{ {\\frac{1}{{\\sqrt 3 }},\\frac{1}{{\\sqrt 3 }}} \\right\\} &  \n",
    "{w_3} &= 1\\\\\n",
    "{{\\bf{G}}_4} &= \\left\\{ { - \\frac{1}{{\\sqrt 3 }},\\frac{1}{{\\sqrt 3 }}} \\right\\} &\n",
    "{w_4} &= 1\n",
    "\\end{align}\n",
    "$$"
   ]
  },
  {
   "cell_type": "markdown",
   "metadata": {},
   "source": [
    "### Question 3"
   ]
  },
  {
   "cell_type": "markdown",
   "metadata": {},
   "source": [
    "1. Inject the integration formula into the integral matrix equations obtained in Question 2.\n",
    "2. Write a Python programme to:\n",
    "\t\n",
    "   1. calculate the stiffness matrix of the element and nodal force vector;\n",
    "   2. generate a structured grid over a 2D rectangle domain (mesh generator);\n",
    "   3. specify a uniform force at each node of one side of the rectangle domain;\n",
    "   4. specify a uniform displacement at each node of one side of the rectangle domain;\n",
    "   5. assemble the global stiffness matrix and force vector of the whole rectangular structure.\n"
   ]
  },
  {
   "cell_type": "markdown",
   "metadata": {},
   "source": [
    "#### Answer"
   ]
  },
  {
   "cell_type": "code",
   "execution_count": 4,
   "metadata": {
    "collapsed": false
   },
   "outputs": [],
   "source": [
    "%matplotlib inline\n",
    "from matplotlib import pyplot\n",
    "import numpy\n",
    "from mpl_toolkits.mplot3d.axes3d import Axes3D\n",
    "from matplotlib import rcParams\n",
    "rcParams['font.family'] = 'serif'\n",
    "rcParams['font.size'] = 16\n",
    "rcParams['figure.figsize'] = (12, 6)"
   ]
  },
  {
   "cell_type": "markdown",
   "metadata": {},
   "source": [
    "### Question 4"
   ]
  },
  {
   "cell_type": "markdown",
   "metadata": {},
   "source": [
    "Using the Python programme from question 3, solve the following problem."
   ]
  },
  {
   "cell_type": "markdown",
   "metadata": {},
   "source": [
    "Consider a 2D rectangular solid domain (length $L_x = 1m$; height $L_y = 0.5m$) with material properties $\\{ E = 210{\\rm{ GPa}};\\,\\,\\,\\nu  = 0.3\\} $ and sides labelled (counter-clockwise, starting from the left vertical side) as A, B, C and D.\n",
    "\n",
    "The boundary conditions are as follows:\n",
    "\n",
    "\n",
    "\\begin{equation}\n",
    "  u({\\text{side}}\\,{\\text{A}}) = v({\\text{side}}\\,{\\text{B}}) = 0\n",
    "\\end{equation}\n",
    "\n",
    "\n",
    "The load condition is:\n",
    "\n",
    "\n",
    "\\begin{equation}\n",
    "{\\bf{F}}({\\text{side C}})[Newton] = \\left\\{ \\begin{array}{l}\n",
    "{F_x}({\\text{side C}})\\\\\n",
    "{F_y}({\\text{side C}})\n",
    "\\end{array} \\right\\} = \\left\\{ \\begin{array}{l}\n",
    "{10^6}\\\\\n",
    "0\n",
    "\\end{array} \\right\\}\n",
    "\\end{equation}\n",
    "\n",
    "\n",
    "**The boundary and loading conditions are homogeneous and therefore do not\n",
    "introduce shear coupling. The Cauchy stress tensor has only one non-null\n",
    "component, ${\\sigma _{xx}}$.**\n",
    "\n",
    "**NB:** the total load of 10$^{6}$ N must be uniformly distributed over all\n",
    "the nodes of side C.\n",
    "\n",
    "1. Solve the boundary-value problem of elasticity described above to calculate\n",
    "the displacement of faces D and C. **You will consider 2 mesh sizes:** 1 for\n",
    "which the whole structure is meshed *with one element only* and one size\n",
    "of your choice.\n",
    "2. Compare the solutions to the exact analytical solutions given by ${\\sigma\n",
    "_{xx}} = {F_x}/{L_y}$.\n",
    "\n",
    "The strains can be calculated as \n",
    "\n",
    "$$\n",
    "\\begin{align}\n",
    "{\\varepsilon _{xx}} = {\\sigma _{xx}}/E =\n",
    "{F_x}/E{L_y} &=  - {\\varepsilon _{yy}}/\\nu \\\\  {\\varepsilon _{xy}} &= 0\n",
    "\\end{align}\n",
    "$$\n",
    "\n",
    "and the displacements as \n",
    "\n",
    "$$\n",
    "\\begin{align}\n",
    "  u &= {\\varepsilon _{xx}}{L_x} \\\\ v &= {\\varepsilon _{yy}}{L_y}.\n",
    "\\end{align}\n",
    "$$\n",
    "\n",
    "Do the results surprise you? Why?\n"
   ]
  },
  {
   "cell_type": "markdown",
   "metadata": {},
   "source": [
    "#### Answer"
   ]
  }
 ],
 "metadata": {
  "kernelspec": {
   "display_name": "Python 3",
   "language": "python",
   "name": "python3"
  },
  "language_info": {
   "codemirror_mode": {
    "name": "ipython",
    "version": 3
   },
   "file_extension": ".py",
   "mimetype": "text/x-python",
   "name": "python",
   "nbconvert_exporter": "python",
   "pygments_lexer": "ipython3",
   "version": "3.4.3"
  }
 },
 "nbformat": 4,
 "nbformat_minor": 0
}
