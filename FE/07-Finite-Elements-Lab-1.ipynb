{
 "cells": [
  {
   "cell_type": "markdown",
   "metadata": {},
   "source": [
    "# Finite Elements Lab 1 Worksheet"
   ]
  },
  {
   "cell_type": "markdown",
   "metadata": {},
   "source": [
    "##### Georges Limbert"
   ]
  },
  {
   "cell_type": "markdown",
   "metadata": {},
   "source": [
    "###### nCATS, Faculty of Engineering and the Environment, University of Southampton"
   ]
  },
  {
   "cell_type": "code",
   "execution_count": 1,
   "metadata": {
    "collapsed": false
   },
   "outputs": [
    {
     "data": {
      "text/html": [
       "<link href='http://fonts.googleapis.com/css?family=Open+Sans:100,300,400,500,700,800,900,100italic,300italic,400italic,500italic,700italic,800italic,900italic' rel='stylesheet' type='text/css'>\n",
       "<link href='http://fonts.googleapis.com/css?family=Arvo:400,700,400italic' rel='stylesheet' type='text/css'>\n",
       "<link href='http://fonts.googleapis.com/css?family=PT+Mono' rel='stylesheet' type='text/css'>\n",
       "<link href='http://fonts.googleapis.com/css?family=Shadows+Into+Light' rel='stylesheet' type='text/css'>\n",
       "<link href='http://fonts.googleapis.com/css?family=Nixie+One' rel='stylesheet' type='text/css'>\n",
       "<style>\n",
       "\n",
       "@font-face {\n",
       "    font-family: \"Computer Modern\";\n",
       "    src: url('http://mirrors.ctan.org/fonts/cm-unicode/fonts/otf/cmunss.otf');\n",
       "}\n",
       "\n",
       "#notebook_panel { /* main background */\n",
       "    background: rgb(245,245,245);\n",
       "}\n",
       "\n",
       "div.cell { /* set cell width */\n",
       "    width: 1000px;\n",
       "}\n",
       "\n",
       "div #notebook { /* centre the content */\n",
       "    background: #fff; /* white background for content */\n",
       "    width: 1200px;\n",
       "    margin: auto;\n",
       "    padding-left: 0em;\n",
       "}\n",
       "\n",
       "#notebook li { /* More space between bullet points */\n",
       "margin-top:0.8em;\n",
       "}\n",
       "\n",
       "/* draw border around running cells */\n",
       "div.cell.border-box-sizing.code_cell.running { \n",
       "    border: 1px solid #111;\n",
       "}\n",
       "\n",
       "/* Put a solid color box around each cell and its output, visually linking them*/\n",
       "div.cell.code_cell {\n",
       "    background-color: rgb(256,256,256); \n",
       "    border-radius: 0px; \n",
       "    padding: 0.5em;\n",
       "    margin-left:1em;\n",
       "    margin-top: 1em;\n",
       "}\n",
       "\n",
       "div.text_cell_render{\n",
       "    font-family: 'Open Sans' sans-serif;\n",
       "    line-height: 140%;\n",
       "    font-size: 125%;\n",
       "    font-weight: 400;\n",
       "    width:900px;\n",
       "    margin-left:auto;\n",
       "    margin-right:auto;\n",
       "}\n",
       "\n",
       "\n",
       "/* Formatting for header cells */\n",
       ".text_cell_render h1 {\n",
       "    font-family: 'Arvo', serif;\n",
       "    font-style:regular;\n",
       "    font-weight: 400;    \n",
       "    font-size: 45pt;\n",
       "    line-height: 100%;\n",
       "    color: rgb(0,51,102);\n",
       "    margin-bottom: 0.5em;\n",
       "    margin-top: 0.5em;\n",
       "    display: block;\n",
       "}\t\n",
       ".text_cell_render h2 {\n",
       "    font-family: 'Arvo', serif;\n",
       "    font-weight: 400;\n",
       "    font-size: 30pt;\n",
       "    line-height: 100%;\n",
       "    color: rgb(0,51,102);\n",
       "    margin-bottom: 0.1em;\n",
       "    margin-top: 0.3em;\n",
       "    display: block;\n",
       "}\t\n",
       "\n",
       ".text_cell_render h3 {\n",
       "    font-family: 'Arvo', serif;\n",
       "    margin-top:16px;\n",
       "\tfont-size: 22pt;\n",
       "    font-weight: 600;\n",
       "    margin-bottom: 3px;\n",
       "    font-style: regular;\n",
       "    color: rgb(102,102,0);\n",
       "}\n",
       "\n",
       ".text_cell_render h4 {    /*Use this for captions*/\n",
       "    font-family: 'Arvo', serif;\n",
       "    font-size: 14pt;\n",
       "    text-align: center;\n",
       "    margin-top: 0em;\n",
       "    margin-bottom: 2em;\n",
       "    font-style: regular;\n",
       "}\n",
       "\n",
       ".text_cell_render h5 {  /*Use this for small titles*/\n",
       "    font-family: 'Arvo', sans-serif;\n",
       "    font-weight: 400;\n",
       "    font-size: 16pt;\n",
       "    color: rgb(163,0,0);\n",
       "    font-style: italic;\n",
       "    margin-bottom: .1em;\n",
       "    margin-top: 0.8em;\n",
       "    display: block;\n",
       "}\n",
       "\n",
       ".text_cell_render h6 { /*use this for copyright note*/\n",
       "    font-family: 'PT Mono', sans-serif;\n",
       "    font-weight: 300;\n",
       "    font-size: 9pt;\n",
       "    line-height: 100%;\n",
       "    color: grey;\n",
       "    margin-bottom: 1px;\n",
       "    margin-top: 1px;\n",
       "}\n",
       "\n",
       ".CodeMirror{\n",
       "        font-family: \"PT Mono\";\n",
       "        font-size: 90%;\n",
       "}\n",
       "\n",
       "</style>\n",
       "<script>\n",
       "    MathJax.Hub.Config({\n",
       "                        TeX: {\n",
       "                           extensions: [\"AMSmath.js\"],\n",
       "                           equationNumbers: { autoNumber: \"AMS\", useLabelIds: true}\n",
       "                           },\n",
       "                tex2jax: {\n",
       "                    inlineMath: [ ['$','$'], [\"\\\\(\",\"\\\\)\"] ],\n",
       "                    displayMath: [ ['$$','$$'], [\"\\\\[\",\"\\\\]\"] ]\n",
       "                },\n",
       "                displayAlign: 'center', // Change this to 'center' to center equations.\n",
       "                \"HTML-CSS\": {\n",
       "                    styles: {'.MathJax_Display': {\"margin\": 4}}\n",
       "                }\n",
       "        });\n",
       "</script>\n"
      ],
      "text/plain": [
       "<IPython.core.display.HTML object>"
      ]
     },
     "execution_count": 1,
     "metadata": {},
     "output_type": "execute_result"
    }
   ],
   "source": [
    "from IPython.core.display import HTML\n",
    "css_file = 'https://raw.githubusercontent.com/ngcm/training-public/master/ipython_notebook_styles/ngcmstyle.css'\n",
    "HTML(url=css_file)"
   ]
  },
  {
   "cell_type": "markdown",
   "metadata": {},
   "source": [
    "## Aims"
   ]
  },
  {
   "cell_type": "markdown",
   "metadata": {},
   "source": [
    "The aim of this computer laboratory is to gain a practical insight into the fundamental steps required to solve a partial differential equation (PDE) over a simple geometric domain using a finite element approach. In doing so, you will learn:\n",
    "\n",
    "* How to recast the PDE problem into a variational form \n",
    "* How to define simple domains\n",
    "* How to deal with Dirichlet boundary conditions\n",
    "* How to numerically solve the variational problem.\n",
    "* How to compute derived quantities from the solution.\n",
    "* How to visualise the mesh, the solution and derived quantities"
   ]
  },
  {
   "cell_type": "markdown",
   "metadata": {},
   "source": [
    "The symbolic‐numeric environment chosen for this laboratory is [FEniCS](http://fenicsproject.org/) which is a powerful and user‐friendly tool for solving PDEs. *However*, FEniCS is not compatible with Anaconda on a Mac it would seem; to use it, you must temporarily comment out the line setting up Anaconda in your `.bash_profile`."
   ]
  },
  {
   "cell_type": "markdown",
   "metadata": {},
   "source": [
    "## Basic problem: the Poisson equation"
   ]
  },
  {
   "cell_type": "markdown",
   "metadata": {},
   "source": [
    "\n",
    "The Poisson equation is encountered in a wide range of domains in physics from heat conduction, electrostatics, diffusion and elasticity. The Poisson problem is defined as follows:\n",
    "\n",
    "$$\n",
    "\\begin{align}\n",
    "  - {\\nabla ^2}u(x) &= f(x) & x & \\text{ in } \\Omega \\\\\n",
    "  u(x) &= {u_0}(x) & x &\\text{ on } \\partial \\Omega\n",
    "\\end{align}\n",
    "$$\n",
    "\n",
    "Here, $u(x)$ is the unknown function, $f$ and ${u_0}$ are prescribed functions, ${\\nabla^2} = \\Delta $ is the Laplace operator, $\\Omega $ is the spatial domain and $\\partial \\Omega $ is its boundary.\n",
    "\n",
    "A *time-independent* or *stationary* PDE like the Poisson equation combined with boundary conditions such as those above constitute a **boundary-value problem**."
   ]
  },
  {
   "cell_type": "markdown",
   "metadata": {},
   "source": [
    "## FEnics workflow"
   ]
  },
  {
   "cell_type": "markdown",
   "metadata": {},
   "source": [
    "Solving a physical problem with FEnics involves the following workflow:\n",
    "\n",
    "1. Identify the PDE and its boundary conditions\n",
    "2. Recast the PDE problem into a variational problem\n",
    "3. Write a Python programme encoding the :\n",
    "\n",
    "   1. variational problem\n",
    "   2. definition of input data: e.g. $f$ and ${u_0}$\n",
    "   3. finite element mesh for the spatial domain $\\Omega $:\n",
    "   \n",
    "4. Add statements to the Python programme for:\n",
    "\n",
    "   1. solving the variational problem\n",
    "   2. computing derived quantities such as the gradient of the unknown function\n",
    "   3. visualising the results"
   ]
  },
  {
   "cell_type": "markdown",
   "metadata": {},
   "source": [
    "## Variational formulation"
   ]
  },
  {
   "cell_type": "markdown",
   "metadata": {},
   "source": [
    "The core of the recipe for turning a PDE into a variational problem is to multiply the PDE by a function $\\upsilon $, integrate the resulting equation over $\\Omega $, and perform integration by parts of terms with second-order derivatives.\n",
    "\n",
    "The function $\\upsilon$ which multiplies the PDE is in the mathematical finite element literature called a **test function**. The unknown function $u$ to be approximated is referred to as a **trial function**.\n",
    "\n",
    "The terms test and trial function are used in FEniCS programs too.\n",
    "\n",
    "The test function $\\upsilon$ is required to vanish on the parts of the boundary where $u$ is known\n",
    "\n",
    "**Suitable function spaces** must be specified for the test and trial functions. For standard PDEs arising in physics and mechanics such spaces are well known.\n",
    "\n",
    "$$\n",
    "\\begin{equation}\n",
    "  - \\int_\\Omega  \\nabla^2 u(x)\\upsilon \\, dx  = \\int_\\Omega  f(x)\\upsilon \\, dx\n",
    "\\end{equation}\n",
    "$$"
   ]
  },
  {
   "cell_type": "markdown",
   "metadata": {},
   "source": [
    "### Question 1"
   ]
  },
  {
   "cell_type": "markdown",
   "metadata": {},
   "source": [
    "\n",
    "Apply integration by parts to the PDE $ - {\\nabla ^2}u(x) = f(x)$ with the\n",
    "divergence theorem (relation between the flow (flux) of a vector field though a\n",
    "surface and the behavior inside the surface) to recast it into its variational form.\n",
    "You will also take into account the conditions about the test function $\\upsilon\n",
    "$ on the boundary where $u$ is prescribed."
   ]
  },
  {
   "cell_type": "markdown",
   "metadata": {},
   "source": [
    "\n",
    "You have now derived the variational formulation of the Poisson problem. This\n",
    "variational form is what is commonly called a **weak form** of the\n",
    "boundary-value problem (\"weak\" because of the reduced continuity requirements\n",
    "placed on $u$). It contains the basic equation $ - {\\nabla ^2}u(x) = f(x)$ and\n",
    "the condition $u = {u_0} \\text{ on }\\partial \\Omega $.\n",
    "\n",
    "This continuous variational problem must be discretised to be solved using the\n",
    "finite element method. The continuous version of the unknown function $u$ will be\n",
    "denoted by ${u_e}$ (the index $e$ stands for \"exact\") to make the\n",
    "distinction with the discretised solution of the problem that is typically\n",
    "denoted by ${u_h}$.\n",
    "\n",
    "**NB:** In the context of FEnics, $u$ will be meant to represent the\n",
    "discretised approximate solution of the weak form."
   ]
  },
  {
   "cell_type": "markdown",
   "metadata": {},
   "source": [
    "\n",
    "For a linear weak form like the one just established it proves convenient to\n",
    "introduce the following notation:\n",
    "\n",
    "$$\n",
    "\\begin{equation}\n",
    "a(u,\\upsilon ) = \\int_{\\Omega}  {\\nabla u \\cdot \\nabla \\upsilon \\, dx}\n",
    "\\end{equation}\n",
    "$$\n",
    "\n",
    "$$\n",
    "\\begin{equation}\n",
    "L(\\upsilon ) = \\int_{\\Omega}  {f\\upsilon \\, dx}\n",
    "\\end{equation}\n",
    "$$\n",
    "\n",
    "Where $a$ and $L$ are respectively a **bilinear** and **linear operator**."
   ]
  },
  {
   "cell_type": "markdown",
   "metadata": {},
   "source": [
    "\n",
    "The weak form of the Poisson problem (or any linear weak form) can therefore be\n",
    "expressed as:\n",
    "\n",
    "$$\n",
    "\\begin{equation}\n",
    "a(u,\\upsilon ) = L(\\upsilon )\n",
    "\\end{equation}\n",
    "$$\n",
    "\n",
    "For every linear problem to be solved:\n",
    "\n",
    "* all the terms containing the unknown $u$  must be collected in $a(u,\\upsilon )$\n",
    "* all terms with only known functions must be collected in $L(\\upsilon )$\n",
    "\n",
    "The explicit formulas for $a$ and $L$ are then coded in the programme.\n",
    "\n",
    "Solving the discretised weak form consists in finding:\n",
    "\n",
    "$$\n",
    "\\begin{equation}\n",
    "  u \\in V \\text{ such that } a(u, \\upsilon) = L(\\upsilon) \\quad \\forall \\upsilon \\in V\n",
    "\\end{equation}\n",
    "$$\n",
    "\n",
    "Note that\n",
    "\n",
    "$$\n",
    "\\begin{equation}\n",
    "  V = \\{ v \\in H^1(\\Omega): v = u_0 \\text{ on } \\partial \\Omega \\}\n",
    "\\end{equation}\n",
    "$$\n",
    "\n",
    "is the space of **trial** functions, and\n",
    "\n",
    "$$\n",
    "\\begin{equation}\n",
    "  \\hat{V} = \\{ v \\in H^1(\\Omega): v = 0 \\text{ on } \\partial \\Omega \\}\n",
    "\\end{equation}\n",
    "$$\n",
    "\n",
    "is the space of **test** functions.\n",
    "\n",
    "Specifying $V$ and $\\hat{V}$ consists in choosing the mesh and the type of interpolation functions.\n"
   ]
  },
  {
   "cell_type": "markdown",
   "metadata": {},
   "source": [
    "## Practical implementation on a concrete example"
   ]
  },
  {
   "cell_type": "markdown",
   "metadata": {},
   "source": [
    "\n",
    "Here we are going to particularise the Poisson problem (reproduced here for\n",
    "convenience):\n",
    "\n",
    "$$\n",
    "\\begin{align}\n",
    "  - {\\nabla ^2}u(x) &= f(x) & x & \\text{ in } \\Omega \\\\\n",
    "  u(x) &= {u_0}(x) & x &\\text{ on } \\partial \\Omega\n",
    "\\end{align}\n",
    "$$\n",
    "\n",
    "\n",
    "This decision means that $\\{ {u_0},f,\\Omega \\} $ needs to be defined.\n",
    "\n",
    "We choose a simple 2D domain: the unit square $\\Omega  = [0,1] \\times [0,1]$ .\n",
    "\n",
    "In order to compare the finite element solution to the exact solution we also\n",
    "*a priori* select a particular form for $u$. We choose:\n",
    "\n",
    "$$\n",
    "\\begin{equation}\n",
    "{u_e}(x,y) = 1 + {x^2} + 2{y^2}\n",
    "\\end{equation}\n",
    "$$"
   ]
  },
  {
   "cell_type": "markdown",
   "metadata": {},
   "source": [
    "\n",
    "If we inject equation the exact solution into Poisson problem we find that ${u_e}$  is solution if:\n",
    "\n",
    "$$\n",
    "\\begin{equation}\n",
    "f(x,y) =  - 6; \\qquad {u_0}(x,y) = {u_e}(x,y) = 1 + {x^2} + 2{y^2}\n",
    "\\end{equation}\n",
    "$$"
   ]
  },
  {
   "cell_type": "markdown",
   "metadata": {},
   "source": [
    "### Question 2"
   ]
  },
  {
   "cell_type": "markdown",
   "metadata": {},
   "source": [
    "Using FEnics write an algorithm to solve the boundary-value problem described above.\n",
    "\n",
    "1.\tCreate and visualise the mesh using first-order (linear) triangular elements. You will use (6,4) as arguments for the mesh function which means that the computational domain will be first divide into 24 rectangles which will be further split into triangles\n",
    "2.\tSet up the boundary conditions and visualise them\n",
    "3.\tSolve the problem\n",
    "4.\tPlot the approximate solution over the domain using colour plots.\n",
    "5.\tPlot the error between the exact and approximate solution over the domain using colour plots\n",
    "6.\tCalculate the maximum error for the whole domain\n",
    "7.\tCalculate and plot the gradient of $u$\n"
   ]
  },
  {
   "cell_type": "code",
   "execution_count": null,
   "metadata": {
    "collapsed": false
   },
   "outputs": [],
   "source": []
  },
  {
   "cell_type": "markdown",
   "metadata": {},
   "source": [
    "## A more concrete example: a pressurised elastic membrane"
   ]
  },
  {
   "cell_type": "markdown",
   "metadata": {},
   "source": [
    "\n",
    "Here, we study the deflection $D(x,y)$ of an elastic circular membrane with\n",
    "radius $R$, subject to a localized perpendicular pressure force, modelled as a\n",
    "Gaussian function. The PDE representing this physical process is:\n",
    "\n",
    "$$\n",
    "\\begin{equation}\n",
    "- T{\\nabla ^2}D = p(x,y) \\text{ in } \\Omega  = \\{ (x,y)|\\,{x^2} + {y^2} \\le R\\}\n",
    "\\end{equation}\n",
    "$$\n",
    "\n",
    "where $p$ is the external pressure defined as:\n",
    "\n",
    "$$\n",
    "\\begin{equation}\n",
    "p(x,y) = \\frac{A}{{2\\pi \\sigma }}\\exp \\left[ { - \\frac{1}{2}{{\\left( {\\frac{{x -\n",
    "{x_0}}}{\\sigma }} \\right)}^2} - \\frac{1}{2}{{\\left( {\\frac{{y - {y_0}}}{\\sigma }}\n",
    "\\right)}^2}} \\right]\n",
    "\\end{equation}\n",
    "$$\n",
    "\n",
    "$T$ the constant tension in the membrane, $A$ the amplitude of the pressure,\n",
    "$({x_0},{y_0})$ the localisation of the Gaussian pressure function and $\\sigma $\n",
    "its width.\n",
    "\n",
    "You will use the following values:\n",
    "\n",
    "$$\n",
    "\\begin{align}\n",
    "T &= 10 \\\\ A &= 1 \\\\ R &= 0.3 \\\\ \\theta &= 0.2 \\\\ {x_0} &= 0.6R\\cos (\\theta ) \\\\ {y_0} &= 0.6R\\sin\n",
    "(\\theta ) \\\\ \\sigma  &= 0.025 \n",
    "\\end{align}\n",
    "$$"
   ]
  },
  {
   "cell_type": "markdown",
   "metadata": {},
   "source": [
    "### Question 3"
   ]
  },
  {
   "cell_type": "markdown",
   "metadata": {},
   "source": [
    "1.\tDetermine an analytical solution for the above equation equation \n",
    "2.\tUsing the previously written Python programme, make appropriate modifications to solve the membrane problem.\n",
    "3.\tSolve the problem\n",
    "4.\tCalculate the maximum deflection\n",
    "5.\tPlot the approximate solution over the domain using colour plots.\n",
    "6.\tPlot the error between the exact and approximate solution over the domain using colour plots\n",
    "7.\tCalculate the maximum error for the whole domain\n",
    "8.\tCalculate and plot the gradient of $u$."
   ]
  },
  {
   "cell_type": "code",
   "execution_count": 1,
   "metadata": {
    "collapsed": false
   },
   "outputs": [],
   "source": []
  }
 ],
 "metadata": {
  "kernelspec": {
   "display_name": "Python 3",
   "language": "python",
   "name": "python3"
  },
  "language_info": {
   "codemirror_mode": {
    "name": "ipython",
    "version": 3
   },
   "file_extension": ".py",
   "mimetype": "text/x-python",
   "name": "python",
   "nbconvert_exporter": "python",
   "pygments_lexer": "ipython3",
   "version": "3.4.3"
  }
 },
 "nbformat": 4,
 "nbformat_minor": 0
}
