{
 "cells": [
  {
   "cell_type": "markdown",
   "metadata": {},
   "source": [
    "# Agents Coursework"
   ]
  },
  {
   "cell_type": "code",
   "execution_count": null,
   "metadata": {
    "collapsed": false
   },
   "outputs": [],
   "source": [
    "from IPython.core.display import HTML\n",
    "css_file = 'https://raw.githubusercontent.com/ngcm/training-public/master/ipython_notebook_styles/ngcmstyle.css'\n",
    "HTML(url=css_file)"
   ]
  },
  {
   "cell_type": "markdown",
   "metadata": {},
   "source": [
    "## Predator-prey"
   ]
  },
  {
   "cell_type": "markdown",
   "metadata": {},
   "source": [
    "Building on the CSA model for a flock of agents in lab 2, we now want to study how behaviour changes if a different type of agent is introduced: a predator.\n",
    "\n",
    "The predator agent will be faster than the agents in the flock. Again it will move at constant speed, which will be $50\\%$ greater than that of the flock members. However, the predator will be less nimble. Whilst the flock members will be able to change heading every step (which will always be $\\Delta t = 0.05$), the predator will only be able to change heading every $4$ steps.\n",
    "\n",
    "The predator will obey the same cohesion and alignment rules as the flock, but will not try and maintain separation. That is, the predator utility function will be\n",
    "\n",
    "\\begin{equation}\n",
    "  f_{\\text{predator}} \\left( \\theta ; {\\bf z}, {\\bf z}_i, {\\bf v}_i \\right) = C \\cos(\\theta - \\theta_z) + A \\cos(\\theta - \\theta_V).\n",
    "\\end{equation}\n",
    "\n",
    "If the predator gets within a distance $r_{\\text{eat}}$ of a flock member, the flock member is \"eaten\" and removed from the simulation. The predator \"sees\" the whole flock: its locality radius is $r_l = \\infty$.\n",
    "\n",
    "The utility function of members of the flock remains, as in lab 2,\n",
    "\n",
    "\\begin{equation}\n",
    "  f_{\\text{flock}} \\left( \\theta ; {\\bf z}, {\\bf z}_i, {\\bf v}_i \\right) = C \\cos(\\theta - \\theta_z) + A \\cos(\\theta - \\theta_V) - S \\frac{\\cos(\\theta - \\theta_{z_{\\text{min}}})}{\\Delta z_{\\text{min}}^2 }.\n",
    "\\end{equation}\n",
    "\n",
    "The flock members will avoid the predator in the same way they avoid other members of the flock - via the separation term."
   ]
  },
  {
   "cell_type": "code",
   "execution_count": null,
   "metadata": {
    "collapsed": false
   },
   "outputs": [],
   "source": [
    "%matplotlib inline\n",
    "import math\n",
    "from math import atan2\n",
    "from numpy import cos, sin, pi\n",
    "import numpy as np\n",
    "from matplotlib import pyplot, animation\n",
    "from JSAnimation import IPython_display\n",
    "from multiprocessing import Pool\n",
    "from numba import jit\n",
    "\n",
    "from matplotlib import rcParams\n",
    "rcParams['font.family'] = 'serif'\n",
    "rcParams['font.size'] = 16\n",
    "rcParams['figure.figsize'] = (14,7)\n",
    "\n",
    "import scipy\n",
    "from scipy.optimize import minimize\n",
    "\n",
    "from __future__ import division"
   ]
  },
  {
   "cell_type": "markdown",
   "metadata": {},
   "source": [
    "The class describing the movement of one flock agent"
   ]
  },
  {
   "cell_type": "code",
   "execution_count": null,
   "metadata": {
    "collapsed": false
   },
   "outputs": [],
   "source": [
    "class Agent(object):\n",
    "    \"\"\"\n",
    "    Class that defines the properties of an agent based on the CSA model\n",
    "    \"\"\"\n",
    "    \n",
    "    def __init__(self, location, velocity, C=1, A=5, S=0.1):\n",
    "        # Initialise the Agent object properties.\n",
    "        self.loc = np.array(location)    # Stores the position components\n",
    "        self.v = np.array(velocity)      # Stores the velocity components\n",
    "        self.C = C                       # Stores the cohesion value\n",
    "        self.A = A                       # Stores the alignment value\n",
    "        self.S = S                       # Stores the separation value\n",
    "    \n",
    "    def step(self, dt):\n",
    "        # Move the agent according to a given time step 'dt' and its velocity\n",
    "        self.loc += self.v * dt\n",
    "    #@jit\n",
    "    def steer(self, neighbours, predators=[]):\n",
    "        \"\"\"\n",
    "        Change the direction of the agent according to the position\n",
    "        of its neighbours and that of the predator(s).\n",
    "        \"\"\"\n",
    "        # Compute only if the agent has neighbours\n",
    "        N = len(neighbours)\n",
    "        if N == 0:\n",
    "            return\n",
    "        min_sep = 100.0\n",
    "        # Initialise vectors\n",
    "        diff_avg_loc = np.zeros_like(self.loc)\n",
    "        min_sep_direction = diff_avg_loc.copy()\n",
    "        avg_v = diff_avg_loc.copy()\n",
    "        # Compute the average positions/velocities\n",
    "        # and the neighbour that is nearest to the agent\n",
    "        for ag in neighbours:\n",
    "            diff_avg_loc += ag.loc - self.loc\n",
    "            avg_v += ag.v\n",
    "            sep = np.linalg.norm(ag.loc - self.loc)\n",
    "            if sep < min_sep:\n",
    "                min_sep = sep\n",
    "                min_sep_direction = ag.loc - self.loc\n",
    "        avg_v /= N\n",
    "        diff_avg_loc /= N\n",
    "        v = np.linalg.norm(self.v)\n",
    "        \n",
    "        # Compute theta values\n",
    "        th = atan2(self.v[1], self.v[0])\n",
    "        th_z = atan2(diff_avg_loc[1], diff_avg_loc[0])\n",
    "        th_V = atan2(avg_v[1], avg_v[0])\n",
    "        th_min_z = atan2(min_sep_direction[1], min_sep_direction[0])\n",
    "        minz = np.linalg.norm(min_sep_direction)\n",
    "        \n",
    "        C = self.C\n",
    "        A = self.A\n",
    "        S = self.S\n",
    "        \n",
    "        if predators:\n",
    "            # If there are no predators do not compute\n",
    "            # their effect on separation\n",
    "            sep = 100.0\n",
    "            for pred in predators:\n",
    "                sep_pred = pred.loc - self.loc\n",
    "                p_dist = np.linalg.norm(sep_pred)\n",
    "                if p_dist < sep:\n",
    "                    p_dist_min = p_dist\n",
    "                    sep_pred_min = sep_pred\n",
    "            sep_pred /= len(predators)\n",
    "            th_pred = atan2(sep_pred_min[1], sep_pred_min[0])\n",
    "            predator_effect = lambda theta: cos(theta - th_pred) / p_dist_min**2\n",
    "        else:\n",
    "            predator_effect = lambda theta: 0.0\n",
    "        \n",
    "        utility = lambda theta: -(C * cos(theta - th_z)+\\\n",
    "                                A * cos(theta - th_V)-\\\n",
    "                                S * (cos(theta - th_min_z) / minz**2 +\\\n",
    "                                    predator_effect(theta)))\n",
    "        res = minimize(utility, th, bounds=[[-2*pi, 2*pi]])\n",
    "        th_new = res.x[0]\n",
    "        self.v = np.array([v * cos(th_new), v * sin(th_new)])"
   ]
  },
  {
   "cell_type": "code",
   "execution_count": null,
   "metadata": {
    "collapsed": false
   },
   "outputs": [],
   "source": [
    "class Predator(object):\n",
    "    \n",
    "    def __init__(self, location, velocity, C=1, A=0.1):\n",
    "        # Initialise the Agent object properties.\n",
    "        self.loc = np.array(location)    # Stores the position components\n",
    "        self.v = np.array(velocity)      # Stores the velocity components\n",
    "        self.C = C                       # Stores the cohesion value\n",
    "        self.A = A                       # Stores the alignment value\n",
    "    \n",
    "    def step(self, dt):\n",
    "        # Take one step\n",
    "        self.loc += self.v * dt\n",
    "    #@jit\n",
    "    def steer(self, neighbours):\n",
    "        # Ensure the predator has some prey to catch\n",
    "        N = len(neighbours)\n",
    "        if N == 0:\n",
    "            return\n",
    "        # Initialise vectors\n",
    "        diff_avg_loc = np.zeros_like(self.loc)\n",
    "        min_sep_direction = diff_avg_loc.copy()\n",
    "        avg_v = diff_avg_loc.copy()\n",
    "        # Compute neighbour averages\n",
    "        for ag in neighbours:\n",
    "            diff_avg_loc += ag.loc - self.loc\n",
    "            avg_v += ag.v\n",
    "        avg_v /= N\n",
    "        diff_avg_loc /= N\n",
    "        v = np.linalg.norm(self.v)\n",
    "        \n",
    "        # Compute theta values\n",
    "        th = atan2(self.v[1], self.v[0])\n",
    "        th_z = atan2(diff_avg_loc[1], diff_avg_loc[0])\n",
    "        th_V = atan2(avg_v[1], avg_v[0])\n",
    "        \n",
    "        utility = lambda theta: -(self.C * cos(theta - th_z) + self.A * cos(theta - th_V))\n",
    "        res = minimize(utility, th, bounds=[[-2*pi, 2*pi]])\n",
    "        th_new = res.x[0]\n",
    "        self.v = np.array([v * cos(th_new), v * sin(th_new)])"
   ]
  },
  {
   "cell_type": "markdown",
   "metadata": {},
   "source": [
    "The class describing the movement of the whole flock."
   ]
  },
  {
   "cell_type": "code",
   "execution_count": null,
   "metadata": {
    "collapsed": false
   },
   "outputs": [],
   "source": [
    "class Hunt(object):\n",
    "    def __init__(self, locations, velocities, p_loc=[], p_vel=[], s=0.1, rl=1):\n",
    "        \"\"\"\n",
    "        Initialises the 'hunt' object variables and verifies inputs.\n",
    "        \"\"\"\n",
    "        assert len(locations) > 1,\\\n",
    "        \"Please ensure you have entered the (x, y) positions of at least one agent\"\n",
    "        assert len(velocities) > 1,\\\n",
    "        \"Please ensure you have entered the (x, y) velocities of at least one agent\"\n",
    "        try:\n",
    "            assert ((not (p_loc or p_vel)) or (p_loc and p_vel)), \\\n",
    "            \"Please ensure that the velocity is inserted when the\\\n",
    "            positions are given for the predator and vice-versa\"\n",
    "        except ValueError:\n",
    "            assert len(p_loc) > 1, \"Ensure that the predator location is given correctly\"\n",
    "            assert len(p_vel) > 1, \"Ensure that the predator velocity is given correctly\"\n",
    "        \n",
    "        # Note that the list of agents are the prey\n",
    "        self.rl = rl        # The radius in which the agents 'see' each other\n",
    "        self.pstep = 0      # The number of steps the predator has taken\n",
    "        self.agents = []    # A list to store agent objects\n",
    "        self.predators = [] # A list to store predator objects\n",
    "        # Transform 1-D inputs to 2-D\n",
    "        try:\n",
    "            np.shape(locations)[1]\n",
    "        except IndexError:\n",
    "            locations = np.array(locations)[:, np.newaxis].T\n",
    "        try:\n",
    "            np.shape(velocities)[1]\n",
    "        except IndexError:\n",
    "            velocities = np.array(velocities)[:, np.newaxis].T\n",
    "        # Compute predator step only if locations and velocities are available\n",
    "        \n",
    "        if (len(p_loc) > 1) and (len(p_vel) > 1):\n",
    "            try:\n",
    "                np.shape(p_loc)[1]\n",
    "            except IndexError:\n",
    "                p_loc = np.array(p_loc)[:, np.newaxis].T\n",
    "            try:\n",
    "                np.shape(p_vel)[1]\n",
    "            except IndexError:\n",
    "                p_vel = np.array(p_vel)[:, np.newaxis].T\n",
    "\n",
    "            # Store a list of predator objects\n",
    "            for loc, vel in zip(p_loc, p_vel):\n",
    "                self.predators.append(Predator(loc, vel))\n",
    "        # Store a list of agent objects\n",
    "        for loc, vel in zip(locations, velocities):\n",
    "            self.agents.append(Agent(loc, vel, S=s))\n",
    "        self.predators = np.array(self.predators)\n",
    "        self.agents = np.array(self.agents)\n",
    "    \n",
    "    \n",
    "    #@jit\n",
    "    def step(self, dt):\n",
    "        if len(self.agents)==0:\n",
    "            return\n",
    "        # Move the flock\n",
    "        for i, agent in enumerate(self.agents):\n",
    "            index = np.linalg.norm(self.locations(i) - np.array([agent.loc]).T, axis=0) < self.rl\n",
    "            index[i] = False\n",
    "            agent.steer(np.array(self.agents)[index], self.predators)\n",
    "        for agent in self.agents:\n",
    "            agent.step(dt)\n",
    "        \n",
    "        # Move the predators if they exist and remove agents within radius\n",
    "        if self.predators:\n",
    "            for predator in self.predators:\n",
    "                if self.pstep == 4:\n",
    "                    predator.steer(self.agents)\n",
    "                    self.pstep = 0\n",
    "                predator.step(dt)\n",
    "                self.pstep += 1\n",
    "                eat_index = np.linalg.norm(self.locations() - np.array([predator.loc]).T, axis=0) > 0.3\n",
    "                self.agents = self.agents[eat_index]\n",
    "            \n",
    "    \n",
    "    def locations(self, i=None):\n",
    "        # Returns a 2xN matrix with the (x, y) locations of \n",
    "        # each agent (prey), where N corresponds to the total\n",
    "        # number of agents\n",
    "        x = np.zeros(len(self.agents))\n",
    "        y = x.copy()\n",
    "        for j, agent in enumerate(self.agents):\n",
    "            if not i == j:\n",
    "                x[j], y[j] = agent.loc\n",
    "        return np.vstack((x, y))\n",
    "    \n",
    "    def p_locations(self):\n",
    "        # Returns a 2xN matrix with the (x, y) locations of each predator, \n",
    "        # where N corresponds to the total number of predators\n",
    "        x = np.zeros(len(self.predators))\n",
    "        y = x.copy()\n",
    "        for j, predator in enumerate(self.predators):\n",
    "            x[j], y[j] = predator.loc\n",
    "        return np.vstack((x, y))\n",
    "    \n",
    "    def velocities(self):\n",
    "        # Returns a 2xN matrix with the velocities of each agent (prey), \n",
    "        # where N corresponds to the total number of agents\n",
    "        vx = np.zeros(len(self.agents))\n",
    "        vy = vx.copy()\n",
    "        for i, agent in enumerate(self.agents):\n",
    "            vx[i], vy[i] = agent.v\n",
    "        return np.vstack((vx, vy))\n",
    "    \n",
    "    def p_velocities(self):\n",
    "        # Returns a 2xN matrix with the (x, y) velocities of each predator, \n",
    "        # where N corresponds to the total number of predators\n",
    "        vx = np.zeros(len(self.predators))\n",
    "        vy = vx.copy()\n",
    "        for i, predator in enumerate(self.predators):\n",
    "            vx[i], vy[i] = predator.v\n",
    "        return np.vstack((vx, vy))\n",
    "    \n",
    "    def average_location(self):\n",
    "        # Computes the average flock location\n",
    "        return np.mean(self.locations(), axis=1)\n",
    "    \n",
    "    def average_velocity(self):\n",
    "        # Computes the average velocity of the flock\n",
    "        return np.mean(self.velocities(), axis=1)\n",
    "    \n",
    "    def average_width(self):\n",
    "        # Returns the average width of the flock\n",
    "        locs = self.locations()\n",
    "        average_loc = self.average_location()\n",
    "        distances = np.linalg.norm(locs-average_loc[:,np.newaxis], axis=0)\n",
    "        return np.mean(distances)"
   ]
  },
  {
   "cell_type": "code",
   "execution_count": null,
   "metadata": {
    "collapsed": false
   },
   "outputs": [],
   "source": [
    "def test_suite():\n",
    "    \"\"\"Simple test suite to see if the classes behave correctly\"\"\"\n",
    "    def test_predator_chase_1():\n",
    "        dt = 0.1\n",
    "        bird_pos = [0.0, 0.0]\n",
    "        bird_v = [0.0, 1.0]\n",
    "        hawk_pos = [2.0, 2.0]\n",
    "        hawk_v = [0.0, -2.0]\n",
    "        hunt = Hunt(bird_pos, bird_v, hawk_pos, hawk_v, s=0.1)\n",
    "        i = 0\n",
    "        while len(hunt.agents) > 0:\n",
    "            hunt.step(dt)\n",
    "            i+=1\n",
    "        if i < 20:\n",
    "            return True\n",
    "        else:\n",
    "            return False\n",
    "    \n",
    "    def test_agent_travel():\n",
    "        dt = 0.1\n",
    "        bird_pos = np.array([[0.0, 0.0], [0.5, 0.8]])\n",
    "        bird_v = np.array([[0.0, 1.0], [0.0, 1.0]])\n",
    "        hunt = Hunt(bird_pos, bird_v, s=0.001)\n",
    "        i = 0\n",
    "        while np.linalg.norm(hunt.agents[0].loc - hunt.agents[1].loc) > 0.6:\n",
    "            hunt.step(dt)\n",
    "            i+=1\n",
    "            if i>100:\n",
    "                break\n",
    "        if i < 100:\n",
    "            return True\n",
    "        else:\n",
    "            return False\n",
    "    \n",
    "    if test_predator_chase_1():\n",
    "        print(\"Test 1: The one agent one predator test has ended succesfully. The predator has caught the prey\")\n",
    "    if test_agent_travel():\n",
    "        print(\"Test 2: The two agent test has ended succesfully. The agents cluster.\")"
   ]
  },
  {
   "cell_type": "code",
   "execution_count": null,
   "metadata": {
    "collapsed": false
   },
   "outputs": [],
   "source": [
    "test_suite()"
   ]
  },
  {
   "cell_type": "code",
   "execution_count": null,
   "metadata": {
    "collapsed": true
   },
   "outputs": [],
   "source": [
    "def flock_animation(flock, dt, frames=10, xlim=(-0.1, 5), ylim=(-0.1, 5)):\n",
    "    # First evolve\n",
    "    \n",
    "    locations = [flock.locations()]\n",
    "    p_loc = [flock.p_locations()]\n",
    "    ave_width = [flock.average_width()]\n",
    "    times = np.arange(0.0, frames*dt, dt)\n",
    "    for i in range(frames):\n",
    "        flock.step(dt)\n",
    "        #print(flock.predators)\n",
    "        locations.append(flock.locations())\n",
    "        p_loc.append(flock.p_locations())\n",
    "        ave_width.append(flock.average_width())\n",
    "    #print(len(flock.agents))\n",
    "    max_width = max(ave_width)\n",
    "    min_width = min(ave_width)\n",
    "    d_width = max_width - min_width\n",
    "    \n",
    "    fig = pyplot.figure()\n",
    "    ax1 = fig.add_subplot(121)\n",
    "    ax1.set_xlim(xlim[0], xlim[1])\n",
    "    ax1.set_ylim(ylim[0], ylim[1])\n",
    "    points, = ax1.plot([], [], 'ro')\n",
    "    pointsP, = ax1.plot([], [], 'bo')\n",
    "    ax1.set_xlabel(\"$x$\")\n",
    "    ax1.set_ylabel(\"$y$\")\n",
    "    ax2 = fig.add_subplot(122)\n",
    "    width, = ax2.plot([], [], 'b-')\n",
    "    ax2.set_xlabel(\"$t$\")\n",
    "    ax2.set_ylabel(\"Average width of flock\")\n",
    "    ax2.set_xlim(0.0, dt*frames)\n",
    "    ax2.set_ylim(min_width-0.1*d_width, max_width+0.1*d_width)\n",
    "    fig.tight_layout()\n",
    "\n",
    "    def init():\n",
    "        points.set_data([], [])\n",
    "        pointsP.set_data([], [])\n",
    "        width.set_data([], [])\n",
    "        return (points, width)\n",
    "\n",
    "    def animate(i):\n",
    "        points.set_data(locations[i][0,:], locations[i][1,:])\n",
    "        pointsP.set_data(p_loc[i][0,:], p_loc[i][1,:])\n",
    "        width.set_data(times[:i+1], ave_width[:i+1])\n",
    "        return (points, width)\n",
    "\n",
    "    return animation.FuncAnimation(fig, animate, init_func=init, interval=100, frames=frames, blit=True)"
   ]
  },
  {
   "cell_type": "markdown",
   "metadata": {},
   "source": [
    "Start with a flock of $100$ agents in an array within $[0, 5]^2$, all moving \"due north\". Start the predator at $(15, 15)$ with velocity \"due west\":"
   ]
  },
  {
   "cell_type": "code",
   "execution_count": null,
   "metadata": {
    "collapsed": false
   },
   "outputs": [],
   "source": [
    "x = np.linspace(0, 4.5, 10)\n",
    "[locations_flock_x, locations_flock_y] = np.meshgrid(x, x)\n",
    "locations_flock_x[:,::2] += 0.25\n",
    "locations_flock_y[:,::2] += 0.25\n",
    "locations = np.vstack((np.ravel(locations_flock_x), np.ravel(locations_flock_y))).T\n",
    "velocities = np.zeros_like(locations)\n",
    "velocities[:,1] = 1.0\n",
    "location_predator = np.array([15.0, 15.0])\n",
    "velocity_predator = np.array([-2.0, 0.0])\n",
    "pyplot.plot(locations[:,0], locations[:,1], 'ro', label='Flock')\n",
    "pyplot.quiver(locations[:,0], locations[:,1], velocities[:,0], velocities[:,1], pivot='mid', units='xy')\n",
    "pyplot.plot(15, 15, 'b*', markersize=16, label='Predator')\n",
    "pyplot.quiver(location_predator[0], location_predator[1], velocity_predator[0], velocity_predator[1], pivot='mid', units='xy')\n",
    "pyplot.legend(loc='lower right')\n",
    "pyplot.show()"
   ]
  },
  {
   "cell_type": "markdown",
   "metadata": {},
   "source": [
    "Fix the cohesion and alignment parameters for both the predator to be $C = 1, A = 10^{-2}$, and for the flock to be $C = 1, A = 5$. Show how the separation parameter $S$ for the flock changes the number of the flock that survive in evolutions up to $t=50$. A (small!) range of $S$ between $10^{-3}$ and $100$ should be considered."
   ]
  },
  {
   "cell_type": "code",
   "execution_count": null,
   "metadata": {
    "collapsed": false,
    "scrolled": true
   },
   "outputs": [],
   "source": [
    "hunt = Hunt(locations, velocities, location_predator, velocity_predator, s=0.001)\n",
    "flock_animation(hunt, 0.05, 1000, xlim=(-30.0,30.0), ylim=(-30.0,30.0))"
   ]
  },
  {
   "cell_type": "code",
   "execution_count": null,
   "metadata": {
    "collapsed": false
   },
   "outputs": [],
   "source": [
    "hunt = Hunt(locations, velocities, location_predator, velocity_predator, s=1)\n",
    "flock_animation(hunt, 0.05, 1000, xlim=(-30.0,30.0), ylim=(-30.0,30.0))"
   ]
  },
  {
   "cell_type": "markdown",
   "metadata": {
    "collapsed": true
   },
   "source": [
    "The code below computes the effect of separation on the number of agents surviving the predator attack"
   ]
  },
  {
   "cell_type": "code",
   "execution_count": null,
   "metadata": {
    "collapsed": false
   },
   "outputs": [],
   "source": [
    "dt = 0.05\n",
    "sep = []\n",
    "alive = []\n",
    "\"\"\"\n",
    "# Parallel implementation\n",
    "def run(arg):\n",
    "    flock, dt, steps, S = arg\n",
    "    for i in np.arange(steps):\n",
    "        flock.step(dt)\n",
    "    return len(flock.agents)\n",
    "pool = Pool()\n",
    "args = []\n",
    "for S in np.logspace(-3, 2, 16):\n",
    "    args.append((hunt, dt, 1000, S))\n",
    "results = pool.map(run, args)\n",
    "\n",
    "\"\"\"\n",
    "for S in np.logspace(-3, 2, 16):\n",
    "    hunt = Hunt(locations, velocities, location_predator, velocity_predator, s=S)\n",
    "    for i in np.arange(1000):\n",
    "        hunt.step(dt)\n",
    "        if len(hunt.agents)==0:\n",
    "            break\n",
    "    alive.append(len(hunt.agents))\n",
    "    sep.append(S)"
   ]
  },
  {
   "cell_type": "code",
   "execution_count": null,
   "metadata": {
    "collapsed": false
   },
   "outputs": [],
   "source": [
    "figure = pyplot.figure()\n",
    "ax = figure.add_subplot(111)\n",
    "ax.semilogx(sep, alive)\n",
    "ax.set_xlabel('Separation value')\n",
    "ax.set_ylabel('Alive members')\n",
    "ax.set_title(r'Number of flock members alive after $50s$')\n",
    "#ax.grid(b=True, which='major', color='r', linestyle='-')\n",
    "ax.grid(b=True, which='minor', axis='x', color='r', linestyle='--')\n",
    "ax.grid(b=True, which='major', axis='y', color='r', linestyle='--')"
   ]
  },
  {
   "cell_type": "markdown",
   "metadata": {},
   "source": [
    "To avoid running the funtion above, the figure below was produced. It shows how the number of members that survive the predator attack varies with the size of the separation value.\n",
    "\n",
    "For low separation none of the agents survive, while at higher values almost all of them survive. The reason for this is that the predator heads for the geometrical center of the flock and the flock spreads out thus causing the predator to constantly switch the direction of movement and becoming 'indecisive' as to which group of agents to follow. This can be seen in the two animations above."
   ]
  },
  {
   "cell_type": "markdown",
   "metadata": {},
   "source": [
    "<img src=\"hunt.png\">"
   ]
  },
  {
   "cell_type": "code",
   "execution_count": null,
   "metadata": {
    "collapsed": true
   },
   "outputs": [],
   "source": []
  }
 ],
 "metadata": {
  "kernelspec": {
   "display_name": "Python 3",
   "language": "python",
   "name": "python3"
  },
  "language_info": {
   "codemirror_mode": {
    "name": "ipython",
    "version": 3
   },
   "file_extension": ".py",
   "mimetype": "text/x-python",
   "name": "python",
   "nbconvert_exporter": "python",
   "pygments_lexer": "ipython3",
   "version": "3.5.0"
  }
 },
 "nbformat": 4,
 "nbformat_minor": 0
}
