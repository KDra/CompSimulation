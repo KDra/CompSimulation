{
 "cells": [
  {
   "cell_type": "markdown",
   "metadata": {},
   "source": [
    "# Agents: Lab 2"
   ]
  },
  {
   "cell_type": "code",
   "execution_count": 1,
   "metadata": {
    "collapsed": false
   },
   "outputs": [
    {
     "data": {
      "text/html": [
       "<link href='http://fonts.googleapis.com/css?family=Open+Sans:100,300,400,500,700,800,900,100italic,300italic,400italic,500italic,700italic,800italic,900italic' rel='stylesheet' type='text/css'>\n",
       "<link href='http://fonts.googleapis.com/css?family=Arvo:400,700,400italic' rel='stylesheet' type='text/css'>\n",
       "<link href='http://fonts.googleapis.com/css?family=PT+Mono' rel='stylesheet' type='text/css'>\n",
       "<link href='http://fonts.googleapis.com/css?family=Shadows+Into+Light' rel='stylesheet' type='text/css'>\n",
       "<link href='http://fonts.googleapis.com/css?family=Nixie+One' rel='stylesheet' type='text/css'>\n",
       "<style>\n",
       "\n",
       "@font-face {\n",
       "    font-family: \"Computer Modern\";\n",
       "    src: url('http://mirrors.ctan.org/fonts/cm-unicode/fonts/otf/cmunss.otf');\n",
       "}\n",
       "\n",
       "#notebook_panel { /* main background */\n",
       "    background: rgb(245,245,245);\n",
       "}\n",
       "\n",
       "div.cell { /* set cell width */\n",
       "    width: 1000px;\n",
       "}\n",
       "\n",
       "div #notebook { /* centre the content */\n",
       "    background: #fff; /* white background for content */\n",
       "    width: 1200px;\n",
       "    margin: auto;\n",
       "    padding-left: 0em;\n",
       "}\n",
       "\n",
       "#notebook li { /* More space between bullet points */\n",
       "margin-top:0.8em;\n",
       "}\n",
       "\n",
       "/* draw border around running cells */\n",
       "div.cell.border-box-sizing.code_cell.running { \n",
       "    border: 1px solid #111;\n",
       "}\n",
       "\n",
       "/* Put a solid color box around each cell and its output, visually linking them*/\n",
       "div.cell.code_cell {\n",
       "    background-color: rgb(256,256,256); \n",
       "    border-radius: 0px; \n",
       "    padding: 0.5em;\n",
       "    margin-left:1em;\n",
       "    margin-top: 1em;\n",
       "}\n",
       "\n",
       "div.text_cell_render{\n",
       "    font-family: 'Open Sans' sans-serif;\n",
       "    line-height: 140%;\n",
       "    font-size: 125%;\n",
       "    font-weight: 400;\n",
       "    width:900px;\n",
       "    margin-left:auto;\n",
       "    margin-right:auto;\n",
       "}\n",
       "\n",
       "\n",
       "/* Formatting for header cells */\n",
       ".text_cell_render h1 {\n",
       "    font-family: 'Arvo', serif;\n",
       "    font-style:regular;\n",
       "    font-weight: 400;    \n",
       "    font-size: 45pt;\n",
       "    line-height: 100%;\n",
       "    color: rgb(0,51,102);\n",
       "    margin-bottom: 0.5em;\n",
       "    margin-top: 0.5em;\n",
       "    display: block;\n",
       "}\t\n",
       ".text_cell_render h2 {\n",
       "    font-family: 'Arvo', serif;\n",
       "    font-weight: 400;\n",
       "    font-size: 30pt;\n",
       "    line-height: 100%;\n",
       "    color: rgb(0,51,102);\n",
       "    margin-bottom: 0.1em;\n",
       "    margin-top: 0.3em;\n",
       "    display: block;\n",
       "}\t\n",
       "\n",
       ".text_cell_render h3 {\n",
       "    font-family: 'Arvo', serif;\n",
       "    margin-top:16px;\n",
       "\tfont-size: 22pt;\n",
       "    font-weight: 600;\n",
       "    margin-bottom: 3px;\n",
       "    font-style: regular;\n",
       "    color: rgb(102,102,0);\n",
       "}\n",
       "\n",
       ".text_cell_render h4 {    /*Use this for captions*/\n",
       "    font-family: 'Arvo', serif;\n",
       "    font-size: 14pt;\n",
       "    text-align: center;\n",
       "    margin-top: 0em;\n",
       "    margin-bottom: 2em;\n",
       "    font-style: regular;\n",
       "}\n",
       "\n",
       ".text_cell_render h5 {  /*Use this for small titles*/\n",
       "    font-family: 'Arvo', sans-serif;\n",
       "    font-weight: 400;\n",
       "    font-size: 16pt;\n",
       "    color: rgb(163,0,0);\n",
       "    font-style: italic;\n",
       "    margin-bottom: .1em;\n",
       "    margin-top: 0.8em;\n",
       "    display: block;\n",
       "}\n",
       "\n",
       ".text_cell_render h6 { /*use this for copyright note*/\n",
       "    font-family: 'PT Mono', sans-serif;\n",
       "    font-weight: 300;\n",
       "    font-size: 9pt;\n",
       "    line-height: 100%;\n",
       "    color: grey;\n",
       "    margin-bottom: 1px;\n",
       "    margin-top: 1px;\n",
       "}\n",
       "\n",
       ".CodeMirror{\n",
       "        font-family: \"PT Mono\";\n",
       "        font-size: 90%;\n",
       "}\n",
       "\n",
       "</style>\n",
       "<script>\n",
       "    MathJax.Hub.Config({\n",
       "                        TeX: {\n",
       "                           extensions: [\"AMSmath.js\"],\n",
       "                           equationNumbers: { autoNumber: \"AMS\", useLabelIds: true}\n",
       "                           },\n",
       "                tex2jax: {\n",
       "                    inlineMath: [ ['$','$'], [\"\\\\(\",\"\\\\)\"] ],\n",
       "                    displayMath: [ ['$$','$$'], [\"\\\\[\",\"\\\\]\"] ]\n",
       "                },\n",
       "                displayAlign: 'center', // Change this to 'center' to center equations.\n",
       "                \"HTML-CSS\": {\n",
       "                    styles: {'.MathJax_Display': {\"margin\": 4}}\n",
       "                }\n",
       "        });\n",
       "</script>\n"
      ],
      "text/plain": [
       "<IPython.core.display.HTML object>"
      ]
     },
     "execution_count": 1,
     "metadata": {},
     "output_type": "execute_result"
    }
   ],
   "source": [
    "from IPython.core.display import HTML\n",
    "css_file = 'https://raw.githubusercontent.com/ngcm/training-public/master/ipython_notebook_styles/ngcmstyle.css'\n",
    "HTML(url=css_file)"
   ]
  },
  {
   "cell_type": "markdown",
   "metadata": {},
   "source": [
    "## Flocking behaviour"
   ]
  },
  {
   "cell_type": "markdown",
   "metadata": {},
   "source": [
    "Agents should both interact with their environment and each other, and change their behaviour to reach some goal (often by maximizing a utility function or similar). One example is a simple model of the behaviour of groups of birds (flocking) or fish (schooling). This *CSA* model says that all individuals only change direction in order to improve\n",
    "\n",
    "* **Cohesion**: they steer towards the local average location of their flockmates;\n",
    "* **Separation**: they steer to avoid crowding local flockmates;\n",
    "* **Alignment**: they steer towards the average heading of their local flockmates.\n",
    "\n",
    "Here we investigate how this model looks, depending on the initial velocity of the individuals."
   ]
  },
  {
   "cell_type": "code",
   "execution_count": 6,
   "metadata": {
    "collapsed": false
   },
   "outputs": [],
   "source": [
    "%matplotlib inline\n",
    "import math\n",
    "from math import atan2, cos, sin, pi\n",
    "import numpy as np\n",
    "from matplotlib import pyplot, animation\n",
    "from JSAnimation import IPython_display\n",
    "\n",
    "from matplotlib import rcParams\n",
    "rcParams['font.family'] = 'serif'\n",
    "rcParams['font.size'] = 16\n",
    "rcParams['figure.figsize'] = (12,6)\n",
    "\n",
    "import scipy\n",
    "from scipy.optimize import minimize\n",
    "\n",
    "from __future__ import division"
   ]
  },
  {
   "cell_type": "markdown",
   "metadata": {},
   "source": [
    "Define a class called `Agent`. This should store the 2-dimensional ${\\bf z} = (x, y)$ location of the individual, and its 2-dimensional velocity ${\\bf v} = (v_x, v_y)$. It should have a method that updates its location over a timestep $\\Delta t$ as\n",
    "\n",
    "\\begin{equation}\n",
    "  {\\bf z} = \\begin{pmatrix} x \\\\ y \\end{pmatrix} \\to \\begin{pmatrix} x \\\\ y \\end{pmatrix} + \\Delta t \\begin{pmatrix} v_x \\\\ v_y \\end{pmatrix} = {\\bf z} + \\Delta t \\, {\\bf v}.\n",
    "\\end{equation}"
   ]
  },
  {
   "cell_type": "markdown",
   "metadata": {},
   "source": [
    "The `Agent` should also have a method that changes its velocity to maximize its \"CSA utility\": given a list of other agents that are the \"local flockmates\", it should choose its heading to maximize cohesion, separation and alignment. The CSA utility is a function of the locations and velocities that returns a single number, and is to be maximized by varying the direction of the velocity of this `Agent`."
   ]
  },
  {
   "cell_type": "markdown",
   "metadata": {},
   "source": [
    "As an example, define the following utility function:\n",
    "\n",
    "\\begin{equation}\n",
    "  f \\left( {\\bf v} ; {\\bf z}, {\\bf z}_i, {\\bf v}_i \\right) = C \\frac{{\\bf v} \\cdot \\Delta {\\bf z}}{ \\| {\\bf v} \\| \\| \\Delta {\\bf z} \\| } + A \\frac{{\\bf v} \\cdot {\\bf V}}{ \\| {\\bf v} \\| \\| {\\bf V} \\| } - S \\frac{{\\bf v} \\cdot \\Delta {\\bf z}_{\\text{min}}}{ \\| {\\bf v} \\| \\| \\Delta {\\bf z}_{\\text{min}} \\|^3 }.\n",
    "\\end{equation}\n",
    "\n",
    "$f$ is the utility function itself. It depends on the velocity ${\\bf v}$ of the current `Agent`, which can be varied. It also depends on the location ${\\bf z}$ of the current `Agent`, as well as the locations ${\\bf z}_i$ and velocities ${\\bf v}_i$ of the local flockmates, which cannot be varied.\n",
    "\n",
    "The coefficients $C, S, A$ give the relative importance of improving the cohesion, separation, and alignment respectively.\n",
    "\n",
    "$\\Delta {\\bf z}$ is the *average location difference* between the current `Agent` position ${\\bf z}$ and the position of its local flockmates ${\\bf z}_i$, given by\n",
    "\n",
    "\\begin{equation}\n",
    "  \\Delta {\\bf z} = \\frac{1}{N} \\sum_{i=1}^{N} \\begin{pmatrix} x_i - x \\\\ y_i - y \\end{pmatrix}\n",
    "\\end{equation}\n",
    "\n",
    "${\\bf V}$ is the *average velocity* of the local flockmates, given by\n",
    "\n",
    "\\begin{equation}\n",
    "  {\\bf V} = \\frac{1}{N} \\sum_{i=1}^{N} \\begin{pmatrix} (v_x)_i \\\\ (v_y)_i \\end{pmatrix}.\n",
    "\\end{equation}\n",
    "\n",
    "$\\Delta {\\bf z}_{\\text{min}}$ is the location of the flockmate that is closest to the current `Agent`. Note that the norm of this difference in the denominator is cubed, to ensure that when two agents get close together they are strongly repelled.\n",
    "\n",
    "**Note**: it is only the *direction* of the velocity ${\\bf v}$ that matters in this function. We can define a set of magnitudes and angles:\n",
    "\n",
    "\\begin{align}\n",
    "  {\\bf v} &= v \\left( \\cos(\\theta) \\hat{\\bf i} + \\sin(\\theta) \\hat{\\bf j} \\right), \\\\\n",
    "  \\Delta {\\bf z} &= \\Delta z \\left( \\cos(\\theta_z) \\hat{\\bf i} + \\cos(\\theta_z) \\hat{\\bf j} \\right), \\\\\n",
    "  {\\bf V} &= V \\left( \\cos(\\theta_V) \\hat{\\bf i} + \\cos(\\theta_V) \\hat{\\bf j} \\right), \\\\\n",
    "  \\Delta {\\bf z}_{\\text{min}} &= \\Delta z_{\\text{min}} \\left( \\cos(\\theta_{z_{\\text{min}}}) \\hat{\\bf i} + \\cos(\\theta_{z_{\\text{min}}}) \\hat{\\bf j} \\right).\n",
    "\\end{align}\n",
    "\n",
    "We can then write\n",
    "\n",
    "\\begin{equation}\n",
    "  f \\left( \\theta ; {\\bf z}, {\\bf z}_i, {\\bf v}_i \\right) = C \\cos(\\theta - \\theta_z) + A \\cos(\\theta - \\theta_V) - S \\frac{\\cos(\\theta - \\theta_{z_{\\text{min}}})}{\\Delta z_{\\text{min}}^2 }.\n",
    "\\end{equation}"
   ]
  },
  {
   "cell_type": "markdown",
   "metadata": {},
   "source": [
    "To start, use values for the parameters of\n",
    "\n",
    "\\begin{align}\n",
    "  C &= 1, \\\\ A &=5, \\\\ S &= 0.1.\n",
    "\\end{align}"
   ]
  },
  {
   "cell_type": "code",
   "execution_count": 20,
   "metadata": {
    "collapsed": false
   },
   "outputs": [],
   "source": [
    "class Agent(object):\n",
    "    \n",
    "    def __init__(self, location, velocity, C=1, A=5, S=0.1):\n",
    "        self.loc = np.array(location)\n",
    "        self.v = np.array(velocity)\n",
    "        self.C = C\n",
    "        self.A = A\n",
    "        self.S = S\n",
    "    \n",
    "    def step(self, dt): \n",
    "        self.loc += self.v*dt\n",
    "        \n",
    "    def steer(self, neighbours):\n",
    "        N = len(neighbours)\n",
    "        if N == 0:\n",
    "            return\n",
    "        min_sep = 100.0\n",
    "        # Initialise vectors\n",
    "        diff_avg_loc = np.zeros_like(self.loc)\n",
    "        min_sep_direction = diff_avg_loc.copy()\n",
    "        avg_v = diff_avg_loc.copy()\n",
    "        for ag in neighbours:\n",
    "            diff_avg_loc += ag.loc - self.loc\n",
    "            avg_v += ag.v\n",
    "            sep = np.linalg.norm(ag.loc - self.loc)\n",
    "            if sep < min_sep:\n",
    "                min_sep = sep\n",
    "                min_sep_direction = ag.loc - self.loc\n",
    "        avg_v /= N\n",
    "        diff_avg_loc /= N\n",
    "        v = np.linalg.norm(self.v)\n",
    "        # Compute theta values\n",
    "        th = atan2(self.v[1], self.v[0])\n",
    "        th_z = atan2(diff_avg_loc[1], diff_avg_loc[0])\n",
    "        th_V = atan2(avg_v[1], avg_v[0])\n",
    "        th_min_z = atan2(min_sep_direction[1], min_sep_direction[0])\n",
    "        minz = np.linalg.norm(min_sep_direction)\n",
    "        \n",
    "        C = self.C\n",
    "        A = self.A\n",
    "        S = self.S\n",
    "        \n",
    "        utility = lambda theta: C * cos(theta - th_z)+\\\n",
    "                                A * cos(theta - th_V)-\\\n",
    "                                S * cos(theta - th_min_z) / minz**2\n",
    "        res = minimize(utility, th, bounds=[[-pi, pi]])\n",
    "        th_new = res.x[0]\n",
    "        self.v = np.array(v * cos(th_new), v * sin(th_new))\n"
   ]
  },
  {
   "cell_type": "markdown",
   "metadata": {},
   "source": [
    "Test that the `Agent` steers as expected given a list of zero or one local flockmates."
   ]
  },
  {
   "cell_type": "code",
   "execution_count": 23,
   "metadata": {
    "collapsed": false
   },
   "outputs": [
    {
     "name": "stdout",
     "output_type": "stream",
     "text": [
      "(array([ 0.,  0.]), array([ 0.,  1.]))\n",
      "(array([ 0. ,  0.1]), array([ 0.,  1.]))\n",
      "(array([ 0. ,  0.1]), array(0.006428053545109737))\n",
      "(array([ 0.,  0.]), array(-1.0))\n"
     ]
    }
   ],
   "source": [
    "# No neighbours\n",
    "a0 = Agent([0.0, 0.0], [0.0, 1.0])\n",
    "a0.steer([])\n",
    "print(a0.loc, a0.v)\n",
    "# Time step\n",
    "a0.step(0.1)\n",
    "print(a0.loc, a0.v)\n",
    "# One neighbour very close\n",
    "a1 = Agent([0.001, 0.0], [0.0, 1.0])\n",
    "# One neighbour very fast\n",
    "a2 = Agent([-0.5, 0.0], [10.0, 0.0])\n",
    "# Move\n",
    "a0 = Agent([0.0, 0.0], [0.0, 1.0])\n",
    "a0.steer([a1])\n",
    "a0.step\n",
    "print(a0.loc, a0.v)\n",
    "a0 = Agent([0.0, 0.0], [0.0, 1.0])\n",
    "a0.steer([a2])\n",
    "print(a0.loc, a0.v)"
   ]
  },
  {
   "cell_type": "markdown",
   "metadata": {},
   "source": [
    "Now define a `Flock` class containing a list of `Agents`. The flock should be initialized from appropriate `numpy` arrays and values for the locality radius $r_l$, which should default to `1`. The flock should be able to compute and return\n",
    "\n",
    "* the positions of all its members\n",
    "* the average location of all its members\n",
    "* the average velocity, or heading, of all its members\n",
    "* the average distance from the average location.\n",
    "\n",
    "Test, with flocks of one, two, and three agents, that it behaves as you expect. Timesteps of order $0.1$ for velocities of order $1$ are reasonable."
   ]
  },
  {
   "cell_type": "code",
   "execution_count": 24,
   "metadata": {
    "collapsed": true
   },
   "outputs": [],
   "source": [
    "class Flock(object):\n",
    "    def __init__(self, locations, velocities, rl=1):\n",
    "        self.rl = rl\n",
    "        self.agents = []\n",
    "        for loc, vel in zip(locations, velocities):\n",
    "            self.agents.append(Agent(loc, vel))\n",
    "    \n",
    "    def step(self, dt):\n",
    "        for i, agent in enumerate(self.agents):\n",
    "            index = np.linalg.norm(self.locations()[:, ] - agent.loc, axis=1) < self.rl and not self.agents == agent\n",
    "            local_agents = self.agents[index]\n",
    "            agent.steer(local_agents)\n",
    "        for agent in self.agents:\n",
    "            agent.step(dt)\n",
    "    \n",
    "    def locations(self, i=None):\n",
    "        x = np.zeros(len(self.agents))\n",
    "        y = x.copy()\n",
    "        for j, agent in enumerate(self.agents):\n",
    "            if not i == j:\n",
    "                x[j], y[j] = agent.loc\n",
    "        return np.vstack((x, y))\n",
    "    \n",
    "    def velocities(self):\n",
    "        vx = np.zeros(len(self.agents))\n",
    "        vy = x.copy()\n",
    "        for i, agent in enumerate(self.agents):\n",
    "            vx[i], vy[i] = agent.v\n",
    "        return np.vstack((x, y))\n",
    "    \n",
    "    def average_location(self):\n",
    "        return np.mean(self.locations(), axis=1)\n",
    "    \n",
    "    def average_velocity(self):\n",
    "        return np.mean(self.locations(), axis=1)\n",
    "    \n",
    "    def average_width(self):\n",
    "        locs = self.locations()\n",
    "        average_loc = self.average_location()\n",
    "        distances = numpy.linalg.norm(locs-average_loc[:,numpy.newaxis], axis=0)\n",
    "        return numpy.mean(distances)"
   ]
  },
  {
   "cell_type": "code",
   "execution_count": null,
   "metadata": {
    "collapsed": false
   },
   "outputs": [],
   "source": []
  },
  {
   "cell_type": "markdown",
   "metadata": {},
   "source": [
    "Create a flock of $50$ agents randomly distributed within $[0, 5]^2$. Give them initial velocities of $(1, 1) + 10^{-2} {\\bf v}_r$, where ${\\bf v}_r$ is a random velocity with each component a uniform random number in $[0, 1]$.\n",
    "\n",
    "Evolve the flock using timesteps of $0.05$ for $200$ steps and plot the flock behaviour. Also plot the \"width\" of the flock (the average distance from the average location), and the average location and heading with time."
   ]
  },
  {
   "cell_type": "code",
   "execution_count": null,
   "metadata": {
    "collapsed": false
   },
   "outputs": [],
   "source": []
  }
 ],
 "metadata": {
  "kernelspec": {
   "display_name": "Python 2",
   "language": "python",
   "name": "python2"
  },
  "language_info": {
   "codemirror_mode": {
    "name": "ipython",
    "version": 2
   },
   "file_extension": ".py",
   "mimetype": "text/x-python",
   "name": "python",
   "nbconvert_exporter": "python",
   "pygments_lexer": "ipython2",
   "version": "2.7.10"
  }
 },
 "nbformat": 4,
 "nbformat_minor": 0
}
