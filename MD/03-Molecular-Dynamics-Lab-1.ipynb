{
 "cells": [
  {
   "cell_type": "markdown",
   "metadata": {},
   "source": [
    "# Molecular Dynamics: Lab 1"
   ]
  },
  {
   "cell_type": "markdown",
   "metadata": {},
   "source": [
    "In part based on [Fortran code from Furio Ercolessi](http://www.fisica.uniud.it/~ercolessi/md/f90/)."
   ]
  },
  {
   "cell_type": "code",
   "execution_count": 1,
   "metadata": {
    "collapsed": false
   },
   "outputs": [
    {
     "data": {
      "text/html": [
       "<link href='http://fonts.googleapis.com/css?family=Open+Sans:100,300,400,500,700,800,900,100italic,300italic,400italic,500italic,700italic,800italic,900italic' rel='stylesheet' type='text/css'>\n",
       "<link href='http://fonts.googleapis.com/css?family=Arvo:400,700,400italic' rel='stylesheet' type='text/css'>\n",
       "<link href='http://fonts.googleapis.com/css?family=PT+Mono' rel='stylesheet' type='text/css'>\n",
       "<link href='http://fonts.googleapis.com/css?family=Shadows+Into+Light' rel='stylesheet' type='text/css'>\n",
       "<link href='http://fonts.googleapis.com/css?family=Nixie+One' rel='stylesheet' type='text/css'>\n",
       "<style>\n",
       "\n",
       "@font-face {\n",
       "    font-family: \"Computer Modern\";\n",
       "    src: url('http://mirrors.ctan.org/fonts/cm-unicode/fonts/otf/cmunss.otf');\n",
       "}\n",
       "\n",
       "#notebook_panel { /* main background */\n",
       "    background: rgb(245,245,245);\n",
       "}\n",
       "\n",
       "div.cell { /* set cell width */\n",
       "    width: 1000px;\n",
       "}\n",
       "\n",
       "div #notebook { /* centre the content */\n",
       "    background: #fff; /* white background for content */\n",
       "    width: 1200px;\n",
       "    margin: auto;\n",
       "    padding-left: 0em;\n",
       "}\n",
       "\n",
       "#notebook li { /* More space between bullet points */\n",
       "margin-top:0.8em;\n",
       "}\n",
       "\n",
       "/* draw border around running cells */\n",
       "div.cell.border-box-sizing.code_cell.running { \n",
       "    border: 1px solid #111;\n",
       "}\n",
       "\n",
       "/* Put a solid color box around each cell and its output, visually linking them*/\n",
       "div.cell.code_cell {\n",
       "    background-color: rgb(256,256,256); \n",
       "    border-radius: 0px; \n",
       "    padding: 0.5em;\n",
       "    margin-left:1em;\n",
       "    margin-top: 1em;\n",
       "}\n",
       "\n",
       "div.text_cell_render{\n",
       "    font-family: 'Open Sans' sans-serif;\n",
       "    line-height: 140%;\n",
       "    font-size: 125%;\n",
       "    font-weight: 400;\n",
       "    width:900px;\n",
       "    margin-left:auto;\n",
       "    margin-right:auto;\n",
       "}\n",
       "\n",
       "\n",
       "/* Formatting for header cells */\n",
       ".text_cell_render h1 {\n",
       "    font-family: 'Arvo', serif;\n",
       "    font-style:regular;\n",
       "    font-weight: 400;    \n",
       "    font-size: 45pt;\n",
       "    line-height: 100%;\n",
       "    color: rgb(0,51,102);\n",
       "    margin-bottom: 0.5em;\n",
       "    margin-top: 0.5em;\n",
       "    display: block;\n",
       "}\t\n",
       ".text_cell_render h2 {\n",
       "    font-family: 'Arvo', serif;\n",
       "    font-weight: 400;\n",
       "    font-size: 30pt;\n",
       "    line-height: 100%;\n",
       "    color: rgb(0,51,102);\n",
       "    margin-bottom: 0.1em;\n",
       "    margin-top: 0.3em;\n",
       "    display: block;\n",
       "}\t\n",
       "\n",
       ".text_cell_render h3 {\n",
       "    font-family: 'Arvo', serif;\n",
       "    margin-top:16px;\n",
       "\tfont-size: 22pt;\n",
       "    font-weight: 600;\n",
       "    margin-bottom: 3px;\n",
       "    font-style: regular;\n",
       "    color: rgb(102,102,0);\n",
       "}\n",
       "\n",
       ".text_cell_render h4 {    /*Use this for captions*/\n",
       "    font-family: 'Arvo', serif;\n",
       "    font-size: 14pt;\n",
       "    text-align: center;\n",
       "    margin-top: 0em;\n",
       "    margin-bottom: 2em;\n",
       "    font-style: regular;\n",
       "}\n",
       "\n",
       ".text_cell_render h5 {  /*Use this for small titles*/\n",
       "    font-family: 'Arvo', sans-serif;\n",
       "    font-weight: 400;\n",
       "    font-size: 16pt;\n",
       "    color: rgb(163,0,0);\n",
       "    font-style: italic;\n",
       "    margin-bottom: .1em;\n",
       "    margin-top: 0.8em;\n",
       "    display: block;\n",
       "}\n",
       "\n",
       ".text_cell_render h6 { /*use this for copyright note*/\n",
       "    font-family: 'PT Mono', sans-serif;\n",
       "    font-weight: 300;\n",
       "    font-size: 9pt;\n",
       "    line-height: 100%;\n",
       "    color: grey;\n",
       "    margin-bottom: 1px;\n",
       "    margin-top: 1px;\n",
       "}\n",
       "\n",
       ".CodeMirror{\n",
       "        font-family: \"PT Mono\";\n",
       "        font-size: 90%;\n",
       "}\n",
       "\n",
       "</style>\n",
       "<script>\n",
       "    MathJax.Hub.Config({\n",
       "                        TeX: {\n",
       "                           extensions: [\"AMSmath.js\"],\n",
       "                           equationNumbers: { autoNumber: \"AMS\", useLabelIds: true}\n",
       "                           },\n",
       "                tex2jax: {\n",
       "                    inlineMath: [ ['$','$'], [\"\\\\(\",\"\\\\)\"] ],\n",
       "                    displayMath: [ ['$$','$$'], [\"\\\\[\",\"\\\\]\"] ]\n",
       "                },\n",
       "                displayAlign: 'center', // Change this to 'center' to center equations.\n",
       "                \"HTML-CSS\": {\n",
       "                    styles: {'.MathJax_Display': {\"margin\": 4}}\n",
       "                }\n",
       "        });\n",
       "</script>\n"
      ],
      "text/plain": [
       "<IPython.core.display.HTML object>"
      ]
     },
     "execution_count": 1,
     "metadata": {},
     "output_type": "execute_result"
    }
   ],
   "source": [
    "from IPython.core.display import HTML\n",
    "css_file = 'https://raw.githubusercontent.com/ngcm/training-public/master/ipython_notebook_styles/ngcmstyle.css'\n",
    "HTML(url=css_file)"
   ]
  },
  {
   "cell_type": "markdown",
   "metadata": {},
   "source": [
    "## Basics of Molecular Dynamics"
   ]
  },
  {
   "cell_type": "code",
   "execution_count": 2,
   "metadata": {
    "collapsed": false
   },
   "outputs": [],
   "source": [
    "%matplotlib inline\n",
    "import numpy\n",
    "from matplotlib import pyplot\n",
    "from mpl_toolkits.mplot3d.axes3d import Axes3D\n",
    "from matplotlib import rcParams\n",
    "rcParams['font.family'] = 'serif'\n",
    "rcParams['font.size'] = 16\n",
    "rcParams['figure.figsize'] = (12,6)"
   ]
  },
  {
   "cell_type": "markdown",
   "metadata": {},
   "source": [
    "The basic idea of molecular dynamics is to follow the location of the particles in time using Newton's laws. Each particle has a location $\\vec{X}_i$ which obeys\n",
    "\n",
    "$$\n",
    "\\begin{equation}\n",
    "  m_i \\frac{d^2}{d t^2} \\vec{X}_i = m_i \\vec{A}_i = -\\nabla V \\left( \\vec{X}_1, \\dots, \\vec{X}_N \\right).\n",
    "\\end{equation}\n",
    "$$"
   ]
  },
  {
   "cell_type": "markdown",
   "metadata": {},
   "source": [
    "Most of the time we will work in computational coordinates, rescaled by a reference length $L$, so that the particles obey\n",
    "\n",
    "$$\n",
    "\\begin{equation}\n",
    "  \\frac{d^2}{d t^2} \\vec{x}_i = \\vec{a}_i = -\\nabla V \\left( \\vec{x}_1, \\dots, \\vec{x}_N \\right).\n",
    "\\end{equation}\n",
    "$$\n",
    "\n",
    "This gives us a computational domain, once translated to the centre-of-mass, of $\\vec{x} \\in [-0.5, 0.5]^3$."
   ]
  },
  {
   "cell_type": "markdown",
   "metadata": {},
   "source": [
    "The simplest possibility is that the interaction potential $V$ is the sum of pairwise interactions, \n",
    "\n",
    "$$\n",
    "\\begin{equation}\n",
    "  V \\left( \\vec{x}_1, \\dots, \\vec{x}_N \\right) = \\sum_i \\sum_{j>i} \\phi \\left( L \\left| \\vec{x}_i - \\vec{x}_j \\right| \\right).\n",
    "\\end{equation}\n",
    "$$\n",
    "\n",
    "The most commonly used pairwise interaction potential is the *Lennard-Jones* potential\n",
    "\n",
    "$$\n",
    "\\begin{equation}\n",
    "  \\phi(r) = 4 \\varepsilon \\left[ \\left( \\frac{\\sigma}{r} \\right)^{12} - \\left( \\frac{\\sigma}{r} \\right)^{6} \\right].\n",
    "\\end{equation}\n",
    "$$\n",
    "\n",
    "To stop this potential extending for infinite distance a cutoff is used; $\\phi(r) \\to \\phi(r) - \\phi(R_c)$, where $R_c$ is a constant (here $2.5$ when $\\sigma = 1 = \\varepsilon = M_i$).\n",
    "\n",
    "As, in this case,\n",
    "\n",
    "$$\n",
    "\\begin{equation}\n",
    "  \\frac{d}{dr} \\phi(r) = 24 \\left[ 2 \\left( \\frac{1}{r} \\right)^{14} - \\left( \\frac{1}{r} \\right)^{8} \\right],\n",
    "\\end{equation}\n",
    "$$\n",
    "\n",
    "we have\n",
    "\n",
    "$$\n",
    "\\begin{equation}\n",
    "  \\vec{a}_i = -\\left. \\nabla V \\right|_{i} = \\sum_{j>i}  (\\vec{x}_i - \\vec{x}_j) \\, \\frac{d}{dr} \\phi(r) - \\sum_{j<i}  (\\vec{x}_j - \\vec{x}_i) \\, \\frac{d}{dr} \\phi(r).\n",
    "\\end{equation}\n",
    "$$\n",
    "\n",
    "Note that Newton's third law means that the force on particle $i$ from particle $j$ must be exactly opposite to the force on particle $j$ from particle $i$. So the algorithm can be implemented by setting $\\vec{a}_i = 0$ and, for each particle $i$, and for all $j > i$, setting *both*\n",
    "\n",
    "1. $\\vec{a}_i = \\vec{a}_i + (\\vec{x}_i - \\vec{x}_j) \\, \\frac{d}{dr} \\phi(r)$,\n",
    "2. $\\vec{a}_j = \\vec{a}_j - (\\vec{x}_i - \\vec{x}_j) \\, \\frac{d}{dr} \\phi(r)$."
   ]
  },
  {
   "cell_type": "markdown",
   "metadata": {},
   "source": [
    "Implement an algorithm to calculate the acceleration given the positions."
   ]
  },
  {
   "cell_type": "code",
   "execution_count": 3,
   "metadata": {
    "collapsed": false
   },
   "outputs": [],
   "source": []
  },
  {
   "cell_type": "markdown",
   "metadata": {},
   "source": [
    "### Time evolution"
   ]
  },
  {
   "cell_type": "markdown",
   "metadata": {},
   "source": [
    "The problem with time integrating is that most numerical algorithms do not conserve the total energy of the system, which can be be crucial. Certain algorithms, such as the [velocity Verlet](http://en.wikipedia.org/wiki/Verlet_integration#Velocity_Verlet) algorithm, do conserve total energy."
   ]
  },
  {
   "cell_type": "markdown",
   "metadata": {},
   "source": [
    "#### Velocity Verlet"
   ]
  },
  {
   "cell_type": "markdown",
   "metadata": {},
   "source": [
    "Given initial positions $\\vec{x}$ and velocities $\\vec{v}$ of each particle, the algorithm can be written as\n",
    "\n",
    "1. $x^{n+1} = \\vec{x}^n + \\Delta t \\, \\vec{v}^n + \\tfrac{1}{2} \\Delta t^2 \\, \\vec{a}^n$\n",
    "2. $\\vec{v}^{*} = \\vec{v}^n + \\tfrac{1}{2} \\Delta t \\, \\vec{a}^n$;\n",
    "3. Derive $\\vec{a}^{n+1}$ from the interaction potential using $\\vec{x}^{n+1}$;\n",
    "4. $\\vec{v}^{n+1} = \\vec{v}^{*} + \\tfrac{1}{2} \\Delta t \\vec{a}^{n+1}$.\n",
    "\n",
    "Implement this algorithm."
   ]
  },
  {
   "cell_type": "code",
   "execution_count": 4,
   "metadata": {
    "collapsed": false
   },
   "outputs": [],
   "source": []
  },
  {
   "cell_type": "markdown",
   "metadata": {},
   "source": [
    "### Periodic boundaries"
   ]
  },
  {
   "cell_type": "markdown",
   "metadata": {},
   "source": [
    "If we just evolved the particles, they could fly off to infinity. Instead it is typical to work inside a box with periodic boundaries, so that there is an \"infinite lattice\" of particles.\n",
    "\n",
    "Implement a function that resets the position of particles that leave the given domain; the velocities and particles should remain unchanged."
   ]
  },
  {
   "cell_type": "code",
   "execution_count": 5,
   "metadata": {
    "collapsed": false
   },
   "outputs": [],
   "source": []
  },
  {
   "cell_type": "markdown",
   "metadata": {},
   "source": [
    "### What to compute"
   ]
  },
  {
   "cell_type": "markdown",
   "metadata": {},
   "source": [
    "The fundamental quantity is the location of the particles. However, the thing to analyze will be average properties of the particles; their mean temperature, pressure and energies.\n",
    "\n",
    "Implement a function, given the particle locations $\\vec{x}$ to compute the temperature, where\n",
    "\n",
    "$$\n",
    "\\begin{align}\n",
    "%  E_{\\text{potential},\\ i} &= \\sum_{j /ne i} \\phi \\left( L \\left| \\vec{x}_i - \\vec{x}_j \\right| \\right), \\\\\n",
    "  E_{\\text{kinetic},\\ i} &= \\tfrac{1}{2} L^2 \\left| \\vec{v}_i \\right|^2, \\\\\n",
    "  T & = \\frac{2}{3 N} \\sum_{i=1}^N E_{\\text{kinetic},\\ i}.\n",
    "\\end{align}\n",
    "$$"
   ]
  },
  {
   "cell_type": "code",
   "execution_count": 6,
   "metadata": {
    "collapsed": false
   },
   "outputs": [],
   "source": []
  },
  {
   "cell_type": "markdown",
   "metadata": {},
   "source": [
    "### Run in a box"
   ]
  },
  {
   "cell_type": "markdown",
   "metadata": {},
   "source": [
    "Fix the domain to be $\\vec{x} \\in [0, 6.1984]^3$. Fix the timestep to be $0.032$ and take 100 timesteps, given the initial data prescribed in `input.dat` (see `data/MD/input.dat` on github). Remember to rescale the initial coordinates so that\n",
    "\n",
    "1. The computational domain is $[-0.5, 0.5]^3$;\n",
    "2. The average particle location is the origin.\n",
    "\n",
    "That is, given the data $\\vec{X}$ from `input.dat` do\n",
    "\n",
    "1. $\\vec{x} = \\vec{X} / L$ where $L = 6.1984$;\n",
    "2. $\\vec{x} \\to \\vec{x} - \\text{average}(\\vec{x})$."
   ]
  },
  {
   "cell_type": "code",
   "execution_count": 7,
   "metadata": {
    "collapsed": false
   },
   "outputs": [],
   "source": []
  },
  {
   "cell_type": "markdown",
   "metadata": {},
   "source": [
    "Then plot some basic quantities, such as\n",
    "\n",
    "1. The temperature as a function of time;\n",
    "2. The trajectory of the first two particles as a function of time (using `plot3D`);\n",
    "3. The trajectories of all the particles."
   ]
  },
  {
   "cell_type": "code",
   "execution_count": null,
   "metadata": {
    "collapsed": false
   },
   "outputs": [],
   "source": []
  }
 ],
 "metadata": {
  "kernelspec": {
   "display_name": "Python 3",
   "language": "python",
   "name": "python3"
  },
  "language_info": {
   "codemirror_mode": {
    "name": "ipython",
    "version": 3
   },
   "file_extension": ".py",
   "mimetype": "text/x-python",
   "name": "python",
   "nbconvert_exporter": "python",
   "pygments_lexer": "ipython3",
   "version": "3.4.3"
  }
 },
 "nbformat": 4,
 "nbformat_minor": 0
}
