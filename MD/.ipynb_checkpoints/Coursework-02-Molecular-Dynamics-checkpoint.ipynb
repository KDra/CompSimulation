{
 "cells": [
  {
   "cell_type": "markdown",
   "metadata": {},
   "source": [
    "# Molecular Dynamics Coursework"
   ]
  },
  {
   "cell_type": "code",
   "execution_count": 1,
   "metadata": {
    "collapsed": false
   },
   "outputs": [
    {
     "data": {
      "text/html": [
       "<link href='http://fonts.googleapis.com/css?family=Open+Sans:100,300,400,500,700,800,900,100italic,300italic,400italic,500italic,700italic,800italic,900italic' rel='stylesheet' type='text/css'>\n",
       "<link href='http://fonts.googleapis.com/css?family=Arvo:400,700,400italic' rel='stylesheet' type='text/css'>\n",
       "<link href='http://fonts.googleapis.com/css?family=PT+Mono' rel='stylesheet' type='text/css'>\n",
       "<link href='http://fonts.googleapis.com/css?family=Shadows+Into+Light' rel='stylesheet' type='text/css'>\n",
       "<link href='http://fonts.googleapis.com/css?family=Nixie+One' rel='stylesheet' type='text/css'>\n",
       "<style>\n",
       "\n",
       "@font-face {\n",
       "    font-family: \"Computer Modern\";\n",
       "    src: url('http://mirrors.ctan.org/fonts/cm-unicode/fonts/otf/cmunss.otf');\n",
       "}\n",
       "\n",
       "#notebook_panel { /* main background */\n",
       "    background: rgb(245,245,245);\n",
       "}\n",
       "\n",
       "div.cell { /* set cell width */\n",
       "    width: 1000px;\n",
       "}\n",
       "\n",
       "div #notebook { /* centre the content */\n",
       "    background: #fff; /* white background for content */\n",
       "    width: 1200px;\n",
       "    margin: auto;\n",
       "    padding-left: 0em;\n",
       "}\n",
       "\n",
       "#notebook li { /* More space between bullet points */\n",
       "margin-top:0.8em;\n",
       "}\n",
       "\n",
       "/* draw border around running cells */\n",
       "div.cell.border-box-sizing.code_cell.running { \n",
       "    border: 1px solid #111;\n",
       "}\n",
       "\n",
       "/* Put a solid color box around each cell and its output, visually linking them*/\n",
       "div.cell.code_cell {\n",
       "    background-color: rgb(256,256,256); \n",
       "    border-radius: 0px; \n",
       "    padding: 0.5em;\n",
       "    margin-left:1em;\n",
       "    margin-top: 1em;\n",
       "}\n",
       "\n",
       "div.text_cell_render{\n",
       "    font-family: 'Open Sans' sans-serif;\n",
       "    line-height: 140%;\n",
       "    font-size: 125%;\n",
       "    font-weight: 400;\n",
       "    width:900px;\n",
       "    margin-left:auto;\n",
       "    margin-right:auto;\n",
       "}\n",
       "\n",
       "\n",
       "/* Formatting for header cells */\n",
       ".text_cell_render h1 {\n",
       "    font-family: 'Arvo', serif;\n",
       "    font-style:regular;\n",
       "    font-weight: 400;    \n",
       "    font-size: 45pt;\n",
       "    line-height: 100%;\n",
       "    color: rgb(0,51,102);\n",
       "    margin-bottom: 0.5em;\n",
       "    margin-top: 0.5em;\n",
       "    display: block;\n",
       "}\t\n",
       ".text_cell_render h2 {\n",
       "    font-family: 'Arvo', serif;\n",
       "    font-weight: 400;\n",
       "    font-size: 30pt;\n",
       "    line-height: 100%;\n",
       "    color: rgb(0,51,102);\n",
       "    margin-bottom: 0.1em;\n",
       "    margin-top: 0.3em;\n",
       "    display: block;\n",
       "}\t\n",
       "\n",
       ".text_cell_render h3 {\n",
       "    font-family: 'Arvo', serif;\n",
       "    margin-top:16px;\n",
       "\tfont-size: 22pt;\n",
       "    font-weight: 600;\n",
       "    margin-bottom: 3px;\n",
       "    font-style: regular;\n",
       "    color: rgb(102,102,0);\n",
       "}\n",
       "\n",
       ".text_cell_render h4 {    /*Use this for captions*/\n",
       "    font-family: 'Arvo', serif;\n",
       "    font-size: 14pt;\n",
       "    text-align: center;\n",
       "    margin-top: 0em;\n",
       "    margin-bottom: 2em;\n",
       "    font-style: regular;\n",
       "}\n",
       "\n",
       ".text_cell_render h5 {  /*Use this for small titles*/\n",
       "    font-family: 'Arvo', sans-serif;\n",
       "    font-weight: 400;\n",
       "    font-size: 16pt;\n",
       "    color: rgb(163,0,0);\n",
       "    font-style: italic;\n",
       "    margin-bottom: .1em;\n",
       "    margin-top: 0.8em;\n",
       "    display: block;\n",
       "}\n",
       "\n",
       ".text_cell_render h6 { /*use this for copyright note*/\n",
       "    font-family: 'PT Mono', sans-serif;\n",
       "    font-weight: 300;\n",
       "    font-size: 9pt;\n",
       "    line-height: 100%;\n",
       "    color: grey;\n",
       "    margin-bottom: 1px;\n",
       "    margin-top: 1px;\n",
       "}\n",
       "\n",
       ".CodeMirror{\n",
       "        font-family: \"PT Mono\";\n",
       "        font-size: 90%;\n",
       "}\n",
       "\n",
       "</style>\n",
       "<script>\n",
       "    MathJax.Hub.Config({\n",
       "                        TeX: {\n",
       "                           extensions: [\"AMSmath.js\"],\n",
       "                           equationNumbers: { autoNumber: \"AMS\", useLabelIds: true}\n",
       "                           },\n",
       "                tex2jax: {\n",
       "                    inlineMath: [ ['$','$'], [\"\\\\(\",\"\\\\)\"] ],\n",
       "                    displayMath: [ ['$$','$$'], [\"\\\\[\",\"\\\\]\"] ]\n",
       "                },\n",
       "                displayAlign: 'center', // Change this to 'center' to center equations.\n",
       "                \"HTML-CSS\": {\n",
       "                    styles: {'.MathJax_Display': {\"margin\": 4}}\n",
       "                }\n",
       "        });\n",
       "</script>\n"
      ],
      "text/plain": [
       "<IPython.core.display.HTML object>"
      ]
     },
     "execution_count": 1,
     "metadata": {},
     "output_type": "execute_result"
    }
   ],
   "source": [
    "from IPython.core.display import HTML\n",
    "css_file = 'https://raw.githubusercontent.com/ngcm/training-public/master/ipython_notebook_styles/ngcmstyle.css'\n",
    "HTML(url=css_file)"
   ]
  },
  {
   "cell_type": "markdown",
   "metadata": {},
   "source": [
    "The task is a straightforward (!) continuation of the final part of the lab 2 worksheet, and is based on [the same paper as used there](http://dx.doi.org/10.1021/jp046158d)."
   ]
  },
  {
   "cell_type": "markdown",
   "metadata": {},
   "source": [
    "## Water"
   ]
  },
  {
   "cell_type": "markdown",
   "metadata": {},
   "source": [
    "Take the potential given for *multiple* water molecules\n",
    "\n",
    "$$\n",
    "\\begin{align}\n",
    "  V(\\vec{r}) & = \\sum_{k=1}^N \\left\\{ \\sum_{l = 1}^2 D_0 \\left[ 1 - e^{\\alpha \\Delta r_{OH_{l_k}}} \\right]^2 + \\frac{1}{2} k_{\\theta} \\Delta r_{HH_k}^2 + k_{r \\theta} \\Delta r_{HH_k} \\left( \\Delta r_{OH_{1_k}} + \\Delta r_{OH_{2_k}} \\right) + k_{rr} \\Delta r_{OH_{1_k}} \\Delta r_{OH_{2_k}} \\right\\} + \\\\ & \\quad \\sum_{i>j} \\left( \\frac{e_i e_j}{4 \\pi e_0 r_{ij}} + 4 \\epsilon_{ij} \\left[ \\left( \\frac{\\sigma_{ij}}{r_{ij}} \\right)^{12} - \\left( \\frac{\\sigma_{ij}}{r_{ij}} \\right)^6 \\right] \\right).\n",
    "\\end{align}\n",
    "$$"
   ]
  },
  {
   "cell_type": "markdown",
   "metadata": {},
   "source": [
    "Here $k$ sums over the different water *molecules*, of which there are $N$. The first term corresponds to the forces internal to any one individual molecule. The $i, j$ indices sum over all *atoms*, and correspond to the forces coupling the atoms in different molecules."
   ]
  },
  {
   "cell_type": "markdown",
   "metadata": {},
   "source": [
    "From the lab 2 sheet, we have that the forces within the molecule on the appropriate atoms are, eg,\n",
    "\n",
    "$$\n",
    "\\begin{align}\n",
    "  \\vec{F}_{O} & = - \\frac{\\partial V}{\\partial \\vec{r}_O} \\\\\n",
    "  & = - \\left\\{ -2 D_0 \\sum_{l=1}^2 \\left[ 1 - e^{\\alpha \\Delta r_{OH_l}} \\right] \\frac{\\partial \\Delta r_{OH_l}} {\\partial \\vec{r}_O} \\alpha e^{\\alpha \\Delta r_{OH_l}} + \\right. \\\\ & \\qquad \\left. k_{r \\theta} \\Delta r_{HH} \\left( \\frac{\\partial \\Delta r_{OH_1}}{\\partial \\vec{r}_O} + \\frac{\\partial \\Delta r_{OH_2}}{\\partial \\vec{r}_O} \\right) + \\right. \\\\ & \\qquad\\left. k_{rr} \\left( \\frac{\\partial \\Delta r_{OH_1}}{\\partial \\vec{r}_O}  \\Delta r_{OH_2} + \\Delta r_{OH_1} \\frac{\\partial \\Delta r_{OH_2}}{\\partial \\vec{r}_O} \\right) \\right\\}, \\\\\n",
    "  \\vec{F}_{H_1} & = -\\left\\{  -2 D_0 \\left[ 1 - e^{\\alpha \\Delta r_{OH_1}} \\right] \\frac{\\partial \\Delta r_{OH_l}}{\\partial \\vec{r}_{H_1}}  \\alpha e^{\\alpha \\Delta r_{OH_1}} + \\right. \\\\& \\qquad \\left. k_{\\theta} \\Delta r_{HH} \\frac{\\partial \\Delta r_{HH}}{\\partial \\vec{r}_{H_1}} + k_{r \\theta} \\left[ \\frac{\\partial \\Delta r_{HH}}{\\partial \\vec{r}_{H_1}} \\left( \\Delta r_{OH_1} + \\Delta r_{OH_2} \\right) + \\Delta r_{HH} \\frac{\\partial r_{OH_1}}{\\partial \\vec{r}_{H_1}} \\right] + \\right. \\\\ & \\qquad \\left. k_{rr} \\Delta r_{OH_2} \\frac{\\partial \\Delta r_{OH_1}}{\\partial \\vec{r}_{H_1}} \\right\\}\n",
    "\\end{align}\n",
    "$$\n",
    "\n",
    "The total force of any atom in addition picks up a term from the Lennard-Jones interaction with all other atoms, with all atoms intereacting through the electronegativities $e_i$, and the oxygen atoms interacting through the Lennard-Jones potential, leading to the additional force on atom $j$ of\n",
    "\n",
    "$$\n",
    "\\begin{equation}\n",
    "  \\vec{F}_j = \\sum_{i>j} \\left\\{-\\frac{e_i e_j}{4 \\pi e_0 r_{ij}^3}  + 24 \\frac{\\epsilon_{ij}}{r_{ij}^2} \\left[ 2 \\left( \\frac{\\sigma_{ij}}{r_{ij}} \\right)^{12} - \\left( \\frac{\\sigma_{ij}}{r_{ij}} \\right)^6  \\right] \\right\\} \\left( \\vec{r}_i - \\vec{r}_j \\right).\n",
    "\\end{equation}\n",
    "$$"
   ]
  },
  {
   "cell_type": "markdown",
   "metadata": {},
   "source": [
    "The definitions of the terms are the same as in lab 2: $\\Delta r_{OH_l} = r_{OH_l} - r_{OH_{\\text{eq}}}$ is the stretch in the distance between the oxygen atom and the $l^{\\text{th}}$ hydrogen atom $r_{OH_l}$ and its equilibrium value, and $\\Delta r_{HH} = r_{HH_l} - r_{HH_{\\text{eq}}}$ is the stretch in the distance between the hydrogen atoms. The parameter values are\n",
    "\n",
    "1. $D_0 = 101.9188$ kcal/mol.\n",
    "2. $\\alpha = 2.567$ $Å^{-1}$\n",
    "3. $k_{\\theta} = 328.645606$ kcal/mol/$Å^2$\n",
    "4. $k_{r \\theta} = -211.4672$ kcal/mol/$Å^2$\n",
    "5. $k_{rr} = 111.70765$ kcal/mol/$Å^2$\n",
    "6. $r_{OH_{\\text{eq}}} = 1Å$\n",
    "7. $r_{HH_{\\text{eq}}} = 1.633Å$\n",
    "8. $e_H = 0.41 e_0$\n",
    "9. $e_O = -0.82 e_0$\n",
    "10. $\\sigma_{OO} = 3.166Å$\n",
    "11. $\\epsilon_{OO} = 0.1554$ kcal/mol\n",
    "12. $\\epsilon_{OH} = \\epsilon_{HH} = 0$ kcal/mol\n",
    "13. $e_0 = 1$ (unit charge).\n",
    "\n",
    "A cut-off radius $R_c = 14Å$ is enforced; the additional interaction term leading to the force $\\vec{F}_j$ is only calculated inside this radius."
   ]
  },
  {
   "cell_type": "markdown",
   "metadata": {},
   "source": [
    "### Set up"
   ]
  },
  {
   "cell_type": "markdown",
   "metadata": {},
   "source": [
    "Consider a periodic box setup as in lab 1. Each box will have $\\vec{x} \\in [0, 35Å]^3$.\n",
    "\n",
    "Put eight water molecules in the box. The locations of the oxygen atoms should be drawn \"randomly\" from a uniform distribution in $[0, 35]$ with random seed set to `100`. \n",
    "\n",
    "The hydrogen atoms should be located at\n",
    "\n",
    "$$\n",
    "\\begin{equation}\n",
    "  \\vec{r}_{H_{\\pm_k}} = \\vec{r}_{O_k} + [ \\pm 0.8, 0.6, 0].\n",
    "\\end{equation}\n",
    "$$"
   ]
  },
  {
   "cell_type": "markdown",
   "metadata": {},
   "source": [
    "Plot the initial locations of the atoms. Starting from this configuration, minimize the energy (allowing the locations of the oxygen atoms to vary, but maintaining the offset of the hydrogen atoms within the molecule as fixed) and plot the resulting location of the atoms."
   ]
  },
  {
   "cell_type": "code",
   "execution_count": 2,
   "metadata": {
    "collapsed": false
   },
   "outputs": [],
   "source": [
    "%matplotlib inline\n",
    "import numpy\n",
    "from matplotlib import pyplot\n",
    "from mpl_toolkits.mplot3d.axes3d import Axes3D\n",
    "from matplotlib import rcParams\n",
    "rcParams['font.family'] = 'serif'\n",
    "rcParams['font.size'] = 16\n",
    "rcParams['figure.figsize'] = (12,6)\n",
    "from scipy.optimize import minimize"
   ]
  },
  {
   "cell_type": "code",
   "execution_count": null,
   "metadata": {
    "collapsed": true
   },
   "outputs": [],
   "source": []
  },
  {
   "cell_type": "markdown",
   "metadata": {},
   "source": [
    "### Evolution"
   ]
  },
  {
   "cell_type": "markdown",
   "metadata": {},
   "source": [
    "Using a timestep $dt = 0.001$, evolve forward to $T = 5$ and plot the temperature as a function of time. [Note: when testing, you should only use a few timesteps. As a hint, the temperature should remain ${\\cal O}(1)$ and oscillate $\\sim 10$ times before $T=1$]."
   ]
  },
  {
   "cell_type": "code",
   "execution_count": null,
   "metadata": {
    "collapsed": true
   },
   "outputs": [],
   "source": []
  }
 ],
 "metadata": {
  "kernelspec": {
   "display_name": "Python 2",
   "language": "python",
   "name": "python2"
  },
  "language_info": {
   "codemirror_mode": {
    "name": "ipython",
    "version": 2
   },
   "file_extension": ".py",
   "mimetype": "text/x-python",
   "name": "python",
   "nbconvert_exporter": "python",
   "pygments_lexer": "ipython2",
   "version": "2.7.10"
  }
 },
 "nbformat": 4,
 "nbformat_minor": 0
}
