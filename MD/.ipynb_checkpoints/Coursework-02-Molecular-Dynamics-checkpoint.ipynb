{
 "cells": [
  {
   "cell_type": "markdown",
   "metadata": {},
   "source": [
    "# Molecular Dynamics Coursework"
   ]
  },
  {
   "cell_type": "code",
   "execution_count": 1,
   "metadata": {
    "collapsed": false
   },
   "outputs": [
    {
     "data": {
      "text/html": [
       "<link href='http://fonts.googleapis.com/css?family=Open+Sans:100,300,400,500,700,800,900,100italic,300italic,400italic,500italic,700italic,800italic,900italic' rel='stylesheet' type='text/css'>\n",
       "<link href='http://fonts.googleapis.com/css?family=Arvo:400,700,400italic' rel='stylesheet' type='text/css'>\n",
       "<link href='http://fonts.googleapis.com/css?family=PT+Mono' rel='stylesheet' type='text/css'>\n",
       "<link href='http://fonts.googleapis.com/css?family=Shadows+Into+Light' rel='stylesheet' type='text/css'>\n",
       "<link href='http://fonts.googleapis.com/css?family=Nixie+One' rel='stylesheet' type='text/css'>\n",
       "<style>\n",
       "\n",
       "@font-face {\n",
       "    font-family: \"Computer Modern\";\n",
       "    src: url('http://mirrors.ctan.org/fonts/cm-unicode/fonts/otf/cmunss.otf');\n",
       "}\n",
       "\n",
       "#notebook_panel { /* main background */\n",
       "    background: rgb(245,245,245);\n",
       "}\n",
       "\n",
       "div.cell { /* set cell width */\n",
       "    width: 1000px;\n",
       "}\n",
       "\n",
       "div #notebook { /* centre the content */\n",
       "    background: #fff; /* white background for content */\n",
       "    width: 1200px;\n",
       "    margin: auto;\n",
       "    padding-left: 0em;\n",
       "}\n",
       "\n",
       "#notebook li { /* More space between bullet points */\n",
       "margin-top:0.8em;\n",
       "}\n",
       "\n",
       "/* draw border around running cells */\n",
       "div.cell.border-box-sizing.code_cell.running { \n",
       "    border: 1px solid #111;\n",
       "}\n",
       "\n",
       "/* Put a solid color box around each cell and its output, visually linking them*/\n",
       "div.cell.code_cell {\n",
       "    background-color: rgb(256,256,256); \n",
       "    border-radius: 0px; \n",
       "    padding: 0.5em;\n",
       "    margin-left:1em;\n",
       "    margin-top: 1em;\n",
       "}\n",
       "\n",
       "div.text_cell_render{\n",
       "    font-family: 'Open Sans' sans-serif;\n",
       "    line-height: 140%;\n",
       "    font-size: 125%;\n",
       "    font-weight: 400;\n",
       "    width:900px;\n",
       "    margin-left:auto;\n",
       "    margin-right:auto;\n",
       "}\n",
       "\n",
       "\n",
       "/* Formatting for header cells */\n",
       ".text_cell_render h1 {\n",
       "    font-family: 'Arvo', serif;\n",
       "    font-style:regular;\n",
       "    font-weight: 400;    \n",
       "    font-size: 45pt;\n",
       "    line-height: 100%;\n",
       "    color: rgb(0,51,102);\n",
       "    margin-bottom: 0.5em;\n",
       "    margin-top: 0.5em;\n",
       "    display: block;\n",
       "}\t\n",
       ".text_cell_render h2 {\n",
       "    font-family: 'Arvo', serif;\n",
       "    font-weight: 400;\n",
       "    font-size: 30pt;\n",
       "    line-height: 100%;\n",
       "    color: rgb(0,51,102);\n",
       "    margin-bottom: 0.1em;\n",
       "    margin-top: 0.3em;\n",
       "    display: block;\n",
       "}\t\n",
       "\n",
       ".text_cell_render h3 {\n",
       "    font-family: 'Arvo', serif;\n",
       "    margin-top:16px;\n",
       "\tfont-size: 22pt;\n",
       "    font-weight: 600;\n",
       "    margin-bottom: 3px;\n",
       "    font-style: regular;\n",
       "    color: rgb(102,102,0);\n",
       "}\n",
       "\n",
       ".text_cell_render h4 {    /*Use this for captions*/\n",
       "    font-family: 'Arvo', serif;\n",
       "    font-size: 14pt;\n",
       "    text-align: center;\n",
       "    margin-top: 0em;\n",
       "    margin-bottom: 2em;\n",
       "    font-style: regular;\n",
       "}\n",
       "\n",
       ".text_cell_render h5 {  /*Use this for small titles*/\n",
       "    font-family: 'Arvo', sans-serif;\n",
       "    font-weight: 400;\n",
       "    font-size: 16pt;\n",
       "    color: rgb(163,0,0);\n",
       "    font-style: italic;\n",
       "    margin-bottom: .1em;\n",
       "    margin-top: 0.8em;\n",
       "    display: block;\n",
       "}\n",
       "\n",
       ".text_cell_render h6 { /*use this for copyright note*/\n",
       "    font-family: 'PT Mono', sans-serif;\n",
       "    font-weight: 300;\n",
       "    font-size: 9pt;\n",
       "    line-height: 100%;\n",
       "    color: grey;\n",
       "    margin-bottom: 1px;\n",
       "    margin-top: 1px;\n",
       "}\n",
       "\n",
       ".CodeMirror{\n",
       "        font-family: \"PT Mono\";\n",
       "        font-size: 90%;\n",
       "}\n",
       "\n",
       "</style>\n",
       "<script>\n",
       "    MathJax.Hub.Config({\n",
       "                        TeX: {\n",
       "                           extensions: [\"AMSmath.js\"],\n",
       "                           equationNumbers: { autoNumber: \"AMS\", useLabelIds: true}\n",
       "                           },\n",
       "                tex2jax: {\n",
       "                    inlineMath: [ ['$','$'], [\"\\\\(\",\"\\\\)\"] ],\n",
       "                    displayMath: [ ['$$','$$'], [\"\\\\[\",\"\\\\]\"] ]\n",
       "                },\n",
       "                displayAlign: 'center', // Change this to 'center' to center equations.\n",
       "                \"HTML-CSS\": {\n",
       "                    styles: {'.MathJax_Display': {\"margin\": 4}}\n",
       "                }\n",
       "        });\n",
       "</script>\n"
      ],
      "text/plain": [
       "<IPython.core.display.HTML object>"
      ]
     },
     "execution_count": 1,
     "metadata": {},
     "output_type": "execute_result"
    }
   ],
   "source": [
    "from IPython.core.display import HTML\n",
    "css_file = 'https://raw.githubusercontent.com/ngcm/training-public/master/ipython_notebook_styles/ngcmstyle.css'\n",
    "HTML(url=css_file)"
   ]
  },
  {
   "cell_type": "markdown",
   "metadata": {},
   "source": [
    "The task is a straightforward (!) continuation of the final part of the lab 2 worksheet, and is based on [the same paper as used there](http://dx.doi.org/10.1021/jp046158d)."
   ]
  },
  {
   "cell_type": "markdown",
   "metadata": {},
   "source": [
    "## Water"
   ]
  },
  {
   "cell_type": "markdown",
   "metadata": {},
   "source": [
    "Take the potential given for *multiple* water molecules\n",
    "\n",
    "$$\n",
    "\\begin{align}\n",
    "  V(\\vec{r}) & = \\sum_{k=1}^N \\left\\{ \\sum_{l = 1}^2 D_0 \\left[ 1 - e^{\\alpha \\Delta r_{OH_{l_k}}} \\right]^2 + \\frac{1}{2} k_{\\theta} \\Delta r_{HH_k}^2 + k_{r \\theta} \\Delta r_{HH_k} \\left( \\Delta r_{OH_{1_k}} + \\Delta r_{OH_{2_k}} \\right) + k_{rr} \\Delta r_{OH_{1_k}} \\Delta r_{OH_{2_k}} \\right\\} + \\\\ & \\quad \\sum_{i>j} \\left( \\frac{e_i e_j}{4 \\pi e_0 r_{ij}} + 4 \\epsilon_{ij} \\left[ \\left( \\frac{\\sigma_{ij}}{r_{ij}} \\right)^{12} - \\left( \\frac{\\sigma_{ij}}{r_{ij}} \\right)^6 \\right] \\right).\n",
    "\\end{align}\n",
    "$$"
   ]
  },
  {
   "cell_type": "code",
   "execution_count": null,
   "metadata": {
    "collapsed": true
   },
   "outputs": [],
   "source": []
  },
  {
   "cell_type": "markdown",
   "metadata": {},
   "source": [
    "Here $k$ sums over the different water *molecules*, of which there are $N$. The first term corresponds to the forces internal to any one individual molecule. The $i, j$ indices sum over all *atoms*, and correspond to the forces coupling the atoms in different molecules."
   ]
  },
  {
   "cell_type": "markdown",
   "metadata": {},
   "source": [
    "From the lab 2 sheet, we have that the forces within the molecule on the appropriate atoms are, eg,\n",
    "\n",
    "$$\n",
    "\\begin{align}\n",
    "  \\vec{F}_{O} & = - \\frac{\\partial V}{\\partial \\vec{r}_O} \\\\\n",
    "  & = - \\left\\{ -2 D_0 \\sum_{l=1}^2 \\left[ 1 - e^{\\alpha \\Delta r_{OH_l}} \\right] \\frac{\\partial \\Delta r_{OH_l}} {\\partial \\vec{r}_O} \\alpha e^{\\alpha \\Delta r_{OH_l}} + \\right. \\\\ & \\qquad \\left. k_{r \\theta} \\Delta r_{HH} \\left( \\frac{\\partial \\Delta r_{OH_1}}{\\partial \\vec{r}_O} + \\frac{\\partial \\Delta r_{OH_2}}{\\partial \\vec{r}_O} \\right) + \\right. \\\\ & \\qquad\\left. k_{rr} \\left( \\frac{\\partial \\Delta r_{OH_1}}{\\partial \\vec{r}_O}  \\Delta r_{OH_2} + \\Delta r_{OH_1} \\frac{\\partial \\Delta r_{OH_2}}{\\partial \\vec{r}_O} \\right) \\right\\}, \\\\\n",
    "  \\vec{F}_{H_1} & = -\\left\\{  -2 D_0 \\left[ 1 - e^{\\alpha \\Delta r_{OH_1}} \\right] \\frac{\\partial \\Delta r_{OH_l}}{\\partial \\vec{r}_{H_1}}  \\alpha e^{\\alpha \\Delta r_{OH_1}} + \\right. \\\\& \\qquad \\left. k_{\\theta} \\Delta r_{HH} \\frac{\\partial \\Delta r_{HH}}{\\partial \\vec{r}_{H_1}} + k_{r \\theta} \\left[ \\frac{\\partial \\Delta r_{HH}}{\\partial \\vec{r}_{H_1}} \\left( \\Delta r_{OH_1} + \\Delta r_{OH_2} \\right) + \\Delta r_{HH} \\frac{\\partial r_{OH_1}}{\\partial \\vec{r}_{H_1}} \\right] + \\right. \\\\ & \\qquad \\left. k_{rr} \\Delta r_{OH_2} \\frac{\\partial \\Delta r_{OH_1}}{\\partial \\vec{r}_{H_1}} \\right\\}\n",
    "\\end{align}\n",
    "$$\n",
    "\n",
    "The total force of any atom in addition picks up a term from the Lennard-Jones interaction with all other atoms, with all atoms intereacting through the electronegativities $e_i$, and the oxygen atoms interacting through the Lennard-Jones potential, leading to the additional force on atom $j$ of\n",
    "\n",
    "$$\n",
    "\\begin{equation}\n",
    "  \\vec{F}_j = \\sum_{i>j} \\left\\{-\\frac{e_i e_j}{4 \\pi e_0 r_{ij}^3}  + 24 \\frac{\\epsilon_{ij}}{r_{ij}^2} \\left[ 2 \\left( \\frac{\\sigma_{ij}}{r_{ij}} \\right)^{12} - \\left( \\frac{\\sigma_{ij}}{r_{ij}} \\right)^6  \\right] \\right\\} \\left( \\vec{r}_i - \\vec{r}_j \\right).\n",
    "\\end{equation}\n",
    "$$"
   ]
  },
  {
   "cell_type": "markdown",
   "metadata": {},
   "source": [
    "The definitions of the terms are the same as in lab 2: $\\Delta r_{OH_l} = r_{OH_l} - r_{OH_{\\text{eq}}}$ is the stretch in the distance between the oxygen atom and the $l^{\\text{th}}$ hydrogen atom $r_{OH_l}$ and its equilibrium value, and $\\Delta r_{HH} = r_{HH_l} - r_{HH_{\\text{eq}}}$ is the stretch in the distance between the hydrogen atoms. The parameter values are\n",
    "\n",
    "1. $D_0 = 101.9188$ kcal/mol.\n",
    "2. $\\alpha = 2.567$ $Å^{-1}$\n",
    "3. $k_{\\theta} = 328.645606$ kcal/mol/$Å^2$\n",
    "4. $k_{r \\theta} = -211.4672$ kcal/mol/$Å^2$\n",
    "5. $k_{rr} = 111.70765$ kcal/mol/$Å^2$\n",
    "6. $r_{OH_{\\text{eq}}} = 1Å$\n",
    "7. $r_{HH_{\\text{eq}}} = 1.633Å$\n",
    "8. $e_H = 0.41 e_0$\n",
    "9. $e_O = -0.82 e_0$\n",
    "10. $\\sigma_{OO} = 3.166Å$\n",
    "11. $\\epsilon_{OO} = 0.1554$ kcal/mol\n",
    "12. $\\epsilon_{OH} = \\epsilon_{HH} = 0$ kcal/mol\n",
    "13. $e_0 = 1$ (unit charge).\n",
    "\n",
    "A cut-off radius $R_c = 14Å$ is enforced; the additional interaction term leading to the force $\\vec{F}_j$ is only calculated inside this radius."
   ]
  },
  {
   "cell_type": "code",
   "execution_count": 2,
   "metadata": {
    "collapsed": false
   },
   "outputs": [],
   "source": [
    "ct = {'D0':101.9188,\n",
    "      'alpha':2.567,\n",
    "      'kt':328.645606,\n",
    "      'krt':-211.4672,\n",
    "      'krr':11.70765,\n",
    "      'rOHeq':1.0,\n",
    "      'rHHeq':1.633,\n",
    "      'eH':0.41,\n",
    "      'eO':-0.82,\n",
    "      'sig':3.166,\n",
    "      'eps':0.1554,\n",
    "      'rc':14.0,\n",
    "      'boxSize':35.0}"
   ]
  },
  {
   "cell_type": "markdown",
   "metadata": {},
   "source": [
    "### Set up"
   ]
  },
  {
   "cell_type": "markdown",
   "metadata": {},
   "source": [
    "Consider a periodic box setup as in lab 1. Each box will have $\\vec{x} \\in [0, 35Å]^3$.\n",
    "\n",
    "Put eight water molecules in the box. The locations of the oxygen atoms should be drawn \"randomly\" from a uniform distribution in $[0, 35]$ with random seed set to `100`. \n",
    "\n",
    "The hydrogen atoms should be located at\n",
    "\n",
    "$$\n",
    "\\begin{equation}\n",
    "  \\vec{r}_{H_{\\pm_k}} = \\vec{r}_{O_k} + [ \\pm 0.8, 0.6, 0].\n",
    "\\end{equation}\n",
    "$$"
   ]
  },
  {
   "cell_type": "markdown",
   "metadata": {},
   "source": [
    "Plot the initial locations of the atoms. Starting from this configuration, minimize the energy (allowing the locations of the oxygen atoms to vary, but maintaining the offset of the hydrogen atoms within the molecule as fixed) and plot the resulting location of the atoms."
   ]
  },
  {
   "cell_type": "code",
   "execution_count": 3,
   "metadata": {
    "collapsed": false
   },
   "outputs": [],
   "source": [
    "%matplotlib inline\n",
    "from numba import jit\n",
    "import numpy as np\n",
    "import matplotlib.pyplot as plt\n",
    "from mpl_toolkits.mplot3d.axes3d import Axes3D\n",
    "from matplotlib import rcParams\n",
    "rcParams['font.family'] = 'serif'\n",
    "rcParams['font.size'] = 16\n",
    "rcParams['figure.figsize'] = (12,6)\n",
    "from scipy.optimize import minimize"
   ]
  },
  {
   "cell_type": "code",
   "execution_count": 24,
   "metadata": {
    "collapsed": false
   },
   "outputs": [],
   "source": [
    "mass = np.array([15.999, 1.008, 1.008])\n",
    "rd = np.random.RandomState(100)\n",
    "pos = np.zeros((8, 3, 3))\n",
    "pos[:, 0, :] = (rd.rand(8,3))* 35.0\n",
    "pos[:, 1, :] = pos[:, 0, :] + np.array([0.8, 0.6, 0.0])\n",
    "pos[:, 2, :] = pos[:, 0, :] + np.array([-0.8, 0.6, 0.0])"
   ]
  },
  {
   "cell_type": "markdown",
   "metadata": {},
   "source": [
    "The positions of the particles are taken from an uniform distribution seeded at $100$ and scaled to a $[0, 35]$ domain. Initially it was tried to center the domain about $0$ but this produced problems in computing the $L_2$ norm between one of the $H$ atoms and one of the $O$ atoms, this issue most probably apeared due to an approximation made in the floating point approcimation."
   ]
  },
  {
   "cell_type": "code",
   "execution_count": 27,
   "metadata": {
    "collapsed": false
   },
   "outputs": [
    {
     "data": {
      "image/png": "[encoded data removed]",
      "text/plain": [
       "<matplotlib.figure.Figure at 0x7fca5d9aad90>"
      ]
     },
     "metadata": {},
     "output_type": "display_data"
    }
   ],
   "source": [
    "fig = plt.figure()\n",
    "ax = fig.add_subplot(111, projection='3d')\n",
    "#for i in range(np.shape(pos)[0]):\n",
    "ax.scatter3D(pos[:, 0, 0], pos[:, 0, 1], pos[:, 0, 2], c='r', marker='o', s=200)\n",
    "ax.scatter3D(pos[:, 1:, 0], pos[:, 1:, 1], pos[:, 1:, 2], c='b', marker='o', s=100)\n",
    "plt.show()"
   ]
  },
  {
   "cell_type": "code",
   "execution_count": null,
   "metadata": {
    "collapsed": true
   },
   "outputs": [],
   "source": [
    "def Ven():\n",
    "    pass"
   ]
  },
  {
   "cell_type": "code",
   "execution_count": 38,
   "metadata": {
    "collapsed": true
   },
   "outputs": [],
   "source": [
    "def accel_intra_molecular(x, mass, ct):\n",
    "    \"\"\"\n",
    "    Compute the accelerations given the locations for the Lennard-Jones potential.\n",
    "    \n",
    "    Parameters\n",
    "    ----------\n",
    "    \n",
    "    x : array of float\n",
    "        Particle positions\n",
    "    mass : array of float\n",
    "        Particle masses\n",
    "        \n",
    "    Returns\n",
    "    -------\n",
    "    \n",
    "    a : array of float\n",
    "        Particle accelerations\n",
    "    \"\"\"\n",
    "    \n",
    "    #ndim, N = x.shape\n",
    "    #assert(N==3)\n",
    "    \n",
    "    D0 = ct['D0']\n",
    "    alpha = ct['alpha']\n",
    "    kt = ct['kt']\n",
    "    krt = ct['krt']\n",
    "    krr = ct['krr']\n",
    "    r_OH_eq = ct['rOHeq']\n",
    "    r_HH_eq = ct['rHHeq']\n",
    "    \n",
    "    r_O = x[0, :]\n",
    "    r_H_1 = x[1, :]\n",
    "    r_H_2 = x[2, :]\n",
    "    diff_r_OH_1 = np.linalg.norm(r_O - r_H_1,2)\n",
    "    diff_r_OH_2 = np.linalg.norm(r_O - r_H_2,2)\n",
    "    diff_r_HH = np.linalg.norm(r_H_1 - r_H_2,2)\n",
    "    dr_OH_1 = np.abs(diff_r_OH_1 - r_OH_eq)\n",
    "    dr_OH_2 = np.abs(diff_r_OH_2 - r_OH_eq)\n",
    "    dr_HH = np.abs(diff_r_HH - r_HH_eq)\n",
    "    \n",
    "    # Derivatives\n",
    "    d_dr_OH_1_dO = 1.0/(dr_OH_1*diff_r_OH_1)*(diff_r_OH_1 - r_OH_eq)*(r_O - r_H_1)\n",
    "    d_dr_OH_2_dO = 1.0/(dr_OH_2*diff_r_OH_2)*(diff_r_OH_2 - r_OH_eq)*(r_O - r_H_2)\n",
    "    d_dr_OH_1_dH1 = -d_dr_OH_1_dO\n",
    "    d_dr_OH_2_dH2 = -d_dr_OH_2_dO\n",
    "    d_dr_HH_dH1 = 1.0/(dr_HH*diff_r_HH)*(diff_r_HH - r_HH_eq)*(r_H_1 - r_H_2)\n",
    "    d_dr_HH_dH2 = -d_dr_HH_dH1\n",
    "    \n",
    "    # Forces\n",
    "    F = np.zeros_like(x)\n",
    "    # Oxygen\n",
    "    F[0,:] = (2.0*D0*alpha*((1.0-np.exp(alpha*dr_OH_1))*np.exp(alpha*dr_OH_1)*d_dr_OH_1_dO\\\n",
    "                            +(1.0-np.exp(alpha*dr_OH_2))*np.exp(alpha*dr_OH_2)*d_dr_OH_2_dO)-\\\n",
    "              krt*dr_HH*(d_dr_OH_1_dO+d_dr_OH_2_dO)-\\\n",
    "              krr*(d_dr_OH_1_dO*dr_OH_2+dr_OH_1*d_dr_OH_2_dO))/mass[0]\n",
    "    # Hydrogen(s)\n",
    "    F[1,:] = (2.0*D0*alpha*(1.0-np.exp(alpha*dr_OH_1))*np.exp(alpha*dr_OH_1)*d_dr_OH_1_dH1-\\\n",
    "              kt*dr_HH*d_dr_HH_dH1-\\\n",
    "              krt*(d_dr_HH_dH1*(dr_OH_1+dr_OH_2)+dr_HH*d_dr_OH_1_dH1)-\\\n",
    "              krr*d_dr_OH_1_dH1*dr_OH_2)/mass[1]\n",
    "    F[2,:] = (2.0*D0*alpha*(1.0-np.exp(alpha*dr_OH_2))*np.exp(alpha*dr_OH_2)*d_dr_OH_2_dH2-\\\n",
    "              kt*dr_HH*d_dr_HH_dH2-\\\n",
    "              krt*(d_dr_HH_dH2*(dr_OH_1+dr_OH_2)+dr_HH*d_dr_OH_2_dH2)-\\\n",
    "              krr*d_dr_OH_2_dH2*dr_OH_1)/mass[2]\n",
    "                \n",
    "    return F"
   ]
  },
  {
   "cell_type": "code",
   "execution_count": 34,
   "metadata": {
    "collapsed": true
   },
   "outputs": [],
   "source": [
    "def accel_inter_molecular(pos, mass, ct):\n",
    "    a = np.zeros_like(pos)\n",
    "    n = np.shape(pos)[0]\n",
    "    local_LJ = 0\n",
    "    for i in np.arange(n*3):\n",
    "        for j in np.arange((int(i/3) + 1) * 3, n*3):\n",
    "            ox = 0\n",
    "            diff = pos[int(i/3), i%3, :] - pos[int(j/3), j%3, :]\n",
    "            if i%3 == 0:\n",
    "                ei = ct['eO']\n",
    "                ox += 1\n",
    "            else:\n",
    "                ei = ct['eH']\n",
    "            if j%3 == 0:\n",
    "                ej = ct['eO']\n",
    "                ox += 1\n",
    "            else:\n",
    "                ej = ct['eH']\n",
    "            if ox == 2:\n",
    "                local_LJ = dLJ(diff, ct)\n",
    "            a[int(i/3), i%3, :] += (-ei*ej/4/np.pi/np.linalg.norm(diff) + local_LJ) * diff / mass[i%3]\n",
    "            a[int(j/3), j%3, :] -= (-ei*ej/4/np.pi/np.linalg.norm(diff) + local_LJ) * diff / mass[j%3]\n",
    "    return a"
   ]
  },
  {
   "cell_type": "code",
   "execution_count": 35,
   "metadata": {
    "collapsed": true
   },
   "outputs": [],
   "source": [
    "@jit\n",
    "def dLJ(pos_diff, ct):\n",
    "    # Contains three cases: closer as is, closer to the left, closer to the right\n",
    "    cases = np.array([0, -35.0, 35.0])\n",
    "    for n in range(len(pos_diff)):\n",
    "        # Add to the directions of interest to see if particles are closer over\n",
    "        # the periodic boundaries\n",
    "        index = np.argmin(np.abs(pos_diff[n] + cases))\n",
    "        pos_diff[n] += cases[index]\n",
    "    r = np.linalg.norm(pos_diff)\n",
    "    #print r\n",
    "    if r < ct['rc']:\n",
    "        return 24 * (2 * (ct['sig']/r)**(14) - (ct['sig']/r)**(8)) / ct['eps']\n",
    "    else:\n",
    "        return 0.0"
   ]
  },
  {
   "cell_type": "code",
   "execution_count": 36,
   "metadata": {
    "collapsed": false
   },
   "outputs": [],
   "source": [
    "def accel(pos, mass, ct):\n",
    "    a_inner = np.zeros_like(pos)\n",
    "    a_outer = np.zeros_like(pos)\n",
    "    N = np.shape(pos)[0]\n",
    "    for i in np.arange(N):\n",
    "        a_inner[i, :, :] = accel_intra_molecular(pos[i, :, :], mass, ct)\n",
    "    a_outer = accel_inter_molecular(pos, mass, ct)\n",
    "    return a_outer + a_inner"
   ]
  },
  {
   "cell_type": "code",
   "execution_count": 39,
   "metadata": {
    "collapsed": false,
    "scrolled": true
   },
   "outputs": [
    {
     "name": "stdout",
     "output_type": "stream",
     "text": [
      "(array([[[  4.07390421e-02,  -2.10463454e-02,   1.66345653e-04],\n",
      "        [ -6.79987449e-04,   4.00776693e-03,   2.95634079e-04],\n",
      "        [ -8.19393851e-04,   3.82761942e-03,   2.45180180e-04]],\n",
      "\n",
      "       [[ -6.30232262e-03,   3.93398966e-01,   4.96740726e-02],\n",
      "        [ -1.13558202e+00,   4.00864269e+00,   8.46892881e-01],\n",
      "        [ -8.36018239e-01,   4.00867864e+00,   8.46827010e-01]],\n",
      "\n",
      "       [[ -2.91344060e+00,   2.38329222e+00,   2.25152183e+00],\n",
      "        [  3.60571272e-01,  -2.47367169e+00,   2.75439087e-01],\n",
      "        [  5.69531604e-01,  -2.47374470e+00,   2.74717991e-01]],\n",
      "\n",
      "       [[  1.01096063e+00,  -6.95114654e-01,  -7.54311327e-01],\n",
      "        [  1.22784389e+01,  -1.46847493e+01,  -1.19547017e+01],\n",
      "        [  1.98550651e+01,  -1.46851444e+01,  -1.19542513e+01]],\n",
      "\n",
      "       [[  3.13619079e-02,   3.01687289e-03,  -6.16410747e-03],\n",
      "        [  9.19629139e-01,   3.80632311e-01,  -7.21748011e-02],\n",
      "        [  9.89557811e-01,   3.80550067e-01,  -7.21226920e-02]],\n",
      "\n",
      "       [[ -2.91686637e-01,   1.24469080e-01,   1.07068729e+00],\n",
      "        [ -2.65753873e+01,  -5.91835119e+01,   4.41274734e+01],\n",
      "        [ -1.68559339e+01,  -5.91830609e+01,   4.41273919e+01]],\n",
      "\n",
      "       [[  6.98806494e-01,   2.41203700e+00,  -1.16354963e+00],\n",
      "        [  9.36826446e+00,   3.74402590e+01,  -1.84443141e+01],\n",
      "        [  1.26415701e+01,   3.74405853e+01,  -1.84443141e+01]],\n",
      "\n",
      "       [[  2.37359940e-01,   2.31558231e-02,  -1.10478570e+00],\n",
      "        [  1.24380888e+00,  -2.18151798e+00,  -1.75026241e+01],\n",
      "        [  6.10063500e+00,  -2.18146506e+00,  -1.75026740e+01]]]), array([[[  0.        ,  -0.52341403,   0.        ],\n",
      "        [ 16.29765782,   4.15382   ,   0.        ],\n",
      "        [-16.29765782,   4.15382   ,   0.        ]],\n",
      "\n",
      "       [[  0.        ,  -0.52341403,   0.        ],\n",
      "        [ 16.29765782,   4.15382   ,   0.        ],\n",
      "        [-16.29765782,   4.15382   ,   0.        ]],\n",
      "\n",
      "       [[  0.        ,  -0.52341403,   0.        ],\n",
      "        [ 16.29765782,   4.15382   ,   0.        ],\n",
      "        [-16.29765782,   4.15382   ,   0.        ]],\n",
      "\n",
      "       [[  0.        ,  -0.52341403,   0.        ],\n",
      "        [ 16.29765782,   4.15382   ,   0.        ],\n",
      "        [-16.29765782,   4.15382   ,   0.        ]],\n",
      "\n",
      "       [[  0.        ,   0.52341403,   0.        ],\n",
      "        [  5.22080448,  -4.15382   ,   0.        ],\n",
      "        [ -5.22080448,  -4.15382   ,   0.        ]],\n",
      "\n",
      "       [[  0.        ,   0.52341403,   0.        ],\n",
      "        [  5.22080448,  -4.15382   ,   0.        ],\n",
      "        [ -5.22080448,  -4.15382   ,   0.        ]],\n",
      "\n",
      "       [[  0.        ,  -0.52341403,   0.        ],\n",
      "        [ 16.29765782,   4.15382   ,   0.        ],\n",
      "        [-16.29765782,   4.15382   ,   0.        ]],\n",
      "\n",
      "       [[  0.        ,   0.52341403,   0.        ],\n",
      "        [  5.22080448,  -4.15382   ,   0.        ],\n",
      "        [ -5.22080448,  -4.15382   ,   0.        ]]]))\n"
     ]
    }
   ],
   "source": [
    "a = accel(pos, mass, ct)\n",
    "print a"
   ]
  },
  {
   "cell_type": "code",
   "execution_count": 11,
   "metadata": {
    "collapsed": false
   },
   "outputs": [],
   "source": [
    "@jit\n",
    "def part_reset(pos):\n",
    "    \"\"\"\n",
    "    Function to reset particle positions based on the position of the oxygen atom \n",
    "    because the interactions between these atoms affect the L-J potential.\n",
    "    \"\"\"\n",
    "    assert np.shape(pos) == (8, 3, 3),\\\n",
    "    \"Please check the position matrix to be of an acceptable shape (see 'sim' function).\"\n",
    "    over = pos[:, 0, :] > 35.0\n",
    "    under = pos[:, 0, :] < 0.0\n",
    "    for i in range(3):\n",
    "        pos[:, i, :][over] -= 35.0\n",
    "        pos[:, i, :][under] += 35.0\n",
    "    return pos"
   ]
  },
  {
   "cell_type": "code",
   "execution_count": 12,
   "metadata": {
    "collapsed": true
   },
   "outputs": [],
   "source": [
    "@jit\n",
    "def sim(init, mass, dt, steps, ct):\n",
    "    \"\"\"\n",
    "    \n",
    "    The matrix containing the initial positions ('init') should be of shape 8, 3, 3,\n",
    "    with the first number giving the no of molecules, the second: the number of atoms\n",
    "    in a molcule and the third: the number of dimensions\n",
    "    \"\"\"\n",
    "    cpos = init.copy()\n",
    "    all_pos = np.zeros((steps+1, cpos.shape[0], cpos.shape[1], cpos.shape[2]))\n",
    "    all_pos[0, :, :, :] = cpos\n",
    "    cvel = np.zeros_like(cpos)\n",
    "    cacc = np.zeros_like(cpos)\n",
    "    time = np.arange(0.0, steps*dt, dt)\n",
    "    time = np.append(time, steps*dt)\n",
    "    T = np.zeros_like(time)\n",
    "    T[0] = temperature(cvel, boxSize)\n",
    "    for i in np.arange(1, steps+1):\n",
    "        cpos, cvel, cacc = vv(cpos, cvel, cacc, mass, dt, ct)\n",
    "        all_pos[i, :, :] = cpos[:]\n",
    "        T[i] = temperature(cvel, boxSize)\n",
    "        #print \"pos of first two are \\n{}\\n{}\\n Temperature is {}\\n\".format(cpos[0,:], cpos[1, :], T[i])\n",
    "    return all_pos, time, T"
   ]
  },
  {
   "cell_type": "code",
   "execution_count": 13,
   "metadata": {
    "collapsed": true
   },
   "outputs": [],
   "source": [
    "@jit\n",
    "def temperature(vel, boxSize):\n",
    "    N = vel.shape[0]\n",
    "    energy = np.sum(np.einsum('ij,ji->i', vel, vel.T))\n",
    "    return boxSize**2 * energy / float(3 * N)"
   ]
  },
  {
   "cell_type": "code",
   "execution_count": 14,
   "metadata": {
    "collapsed": true
   },
   "outputs": [],
   "source": [
    "@jit\n",
    "def vv(pos, vel, acc, mass, dt, ct):\n",
    "    N, dim = np.shape(pos)\n",
    "    pos_new = pos + vel * dt + 0.5 * dt**2 * acc\n",
    "    pos_new = part_reset(pos_new)\n",
    "    vel_star = vel + 0.5 * dt * acc\n",
    "    acc_new = accel(pos_new, mass, ct)\n",
    "    vel_new = vel_star + 0.5 * dt * acc_new\n",
    "    return pos_new, vel_new, acc_new"
   ]
  },
  {
   "cell_type": "code",
   "execution_count": 15,
   "metadata": {
    "collapsed": false
   },
   "outputs": [
    {
     "data": {
      "text/plain": [
       "array([[[ 19.01917296,   9.74292848,  14.85811568],\n",
       "        [ 19.81917296,  10.34292848,  14.85811568],\n",
       "        [ 18.21917296,  10.34292848,  14.85811568]],\n",
       "\n",
       "       [[ 29.56716463,   0.16515997,   4.25491923],\n",
       "        [ 30.36716463,   0.76515997,   4.25491923],\n",
       "        [ 28.76716463,   0.76515997,   4.25491923]],\n",
       "\n",
       "       [[ 23.47621797,  28.90484643,   4.78473064],\n",
       "        [ 24.27621797,  29.50484643,   4.78473064],\n",
       "        [ 22.67621797,  29.50484643,   4.78473064]],\n",
       "\n",
       "       [[ 20.12826653,  31.1962684 ,   7.32207427],\n",
       "        [ 20.92826653,  31.7962684 ,   7.32207427],\n",
       "        [ 19.32826653,  31.7962684 ,   7.32207427]],\n",
       "\n",
       "       [[  6.48648768,   3.79319117,   7.68941224],\n",
       "        [  7.28648768,   4.39319117,   7.68941224],\n",
       "        [  5.68648768,   4.39319117,   7.68941224]],\n",
       "\n",
       "       [[ 34.25183246,  28.40891022,   6.01793545],\n",
       "        [ 35.05183246,  29.00891022,   6.01793545],\n",
       "        [ 33.45183246,  29.00891022,   6.01793545]],\n",
       "\n",
       "       [[ 28.56786621,   9.59258115,  15.10964643],\n",
       "        [ 29.36786621,  10.19258115,  15.10964643],\n",
       "        [ 27.76786621,  10.19258115,  15.10964643]],\n",
       "\n",
       "       [[ 32.90104369,  28.61772826,  11.76391825],\n",
       "        [ 33.70104369,  29.21772826,  11.76391825],\n",
       "        [ 32.10104369,  29.21772826,  11.76391825]]])"
      ]
     },
     "execution_count": 15,
     "metadata": {},
     "output_type": "execute_result"
    }
   ],
   "source": [
    "accel(pos, mass, ct)\n",
    "pos"
   ]
  },
  {
   "cell_type": "code",
   "execution_count": 16,
   "metadata": {
    "collapsed": false
   },
   "outputs": [],
   "source": [
    "a=accel(pos, mass, ct)"
   ]
  },
  {
   "cell_type": "markdown",
   "metadata": {},
   "source": [
    "### Evolution"
   ]
  },
  {
   "cell_type": "markdown",
   "metadata": {},
   "source": [
    "Using a timestep $dt = 0.001$, evolve forward to $T = 5$ and plot the temperature as a function of time. [Note: when testing, you should only use a few timesteps. As a hint, the temperature should remain ${\\cal O}(1)$ and oscillate $\\sim 10$ times before $T=1$]."
   ]
  },
  {
   "cell_type": "code",
   "execution_count": null,
   "metadata": {
    "collapsed": true
   },
   "outputs": [],
   "source": []
  },
  {
   "cell_type": "code",
   "execution_count": null,
   "metadata": {
    "collapsed": true
   },
   "outputs": [],
   "source": []
  }
 ],
 "metadata": {
  "kernelspec": {
   "display_name": "Python 2",
   "language": "python",
   "name": "python2"
  },
  "language_info": {
   "codemirror_mode": {
    "name": "ipython",
    "version": 2
   },
   "file_extension": ".py",
   "mimetype": "text/x-python",
   "name": "python",
   "nbconvert_exporter": "python",
   "pygments_lexer": "ipython2",
   "version": "2.7.10"
  }
 },
 "nbformat": 4,
 "nbformat_minor": 0
}
