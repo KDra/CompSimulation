{
 "cells": [
  {
   "cell_type": "markdown",
   "metadata": {},
   "source": [
    "# Molecular Dynamics: Lab 2"
   ]
  },
  {
   "cell_type": "markdown",
   "metadata": {},
   "source": [
    "In part based on [Fortran code from Furio Ercolessi](http://www.fisica.uniud.it/~ercolessi/md/f90/) and the [CHEM126 course of Kalju Khan](http://web.chem.ucsb.edu/~kalju/chem126)."
   ]
  },
  {
   "cell_type": "code",
   "execution_count": 3,
   "metadata": {
    "collapsed": false
   },
   "outputs": [
    {
     "data": {
      "text/html": [
       "<link href='http://fonts.googleapis.com/css?family=Open+Sans:100,300,400,500,700,800,900,100italic,300italic,400italic,500italic,700italic,800italic,900italic' rel='stylesheet' type='text/css'>\n",
       "<link href='http://fonts.googleapis.com/css?family=Arvo:400,700,400italic' rel='stylesheet' type='text/css'>\n",
       "<link href='http://fonts.googleapis.com/css?family=PT+Mono' rel='stylesheet' type='text/css'>\n",
       "<link href='http://fonts.googleapis.com/css?family=Shadows+Into+Light' rel='stylesheet' type='text/css'>\n",
       "<link href='http://fonts.googleapis.com/css?family=Nixie+One' rel='stylesheet' type='text/css'>\n",
       "<style>\n",
       "\n",
       "@font-face {\n",
       "    font-family: \"Computer Modern\";\n",
       "    src: url('http://mirrors.ctan.org/fonts/cm-unicode/fonts/otf/cmunss.otf');\n",
       "}\n",
       "\n",
       "#notebook_panel { /* main background */\n",
       "    background: rgb(245,245,245);\n",
       "}\n",
       "\n",
       "div.cell { /* set cell width */\n",
       "    width: 1000px;\n",
       "}\n",
       "\n",
       "div #notebook { /* centre the content */\n",
       "    background: #fff; /* white background for content */\n",
       "    width: 1200px;\n",
       "    margin: auto;\n",
       "    padding-left: 0em;\n",
       "}\n",
       "\n",
       "#notebook li { /* More space between bullet points */\n",
       "margin-top:0.8em;\n",
       "}\n",
       "\n",
       "/* draw border around running cells */\n",
       "div.cell.border-box-sizing.code_cell.running { \n",
       "    border: 1px solid #111;\n",
       "}\n",
       "\n",
       "/* Put a solid color box around each cell and its output, visually linking them*/\n",
       "div.cell.code_cell {\n",
       "    background-color: rgb(256,256,256); \n",
       "    border-radius: 0px; \n",
       "    padding: 0.5em;\n",
       "    margin-left:1em;\n",
       "    margin-top: 1em;\n",
       "}\n",
       "\n",
       "div.text_cell_render{\n",
       "    font-family: 'Open Sans' sans-serif;\n",
       "    line-height: 140%;\n",
       "    font-size: 125%;\n",
       "    font-weight: 400;\n",
       "    width:900px;\n",
       "    margin-left:auto;\n",
       "    margin-right:auto;\n",
       "}\n",
       "\n",
       "\n",
       "/* Formatting for header cells */\n",
       ".text_cell_render h1 {\n",
       "    font-family: 'Arvo', serif;\n",
       "    font-style:regular;\n",
       "    font-weight: 400;    \n",
       "    font-size: 45pt;\n",
       "    line-height: 100%;\n",
       "    color: rgb(0,51,102);\n",
       "    margin-bottom: 0.5em;\n",
       "    margin-top: 0.5em;\n",
       "    display: block;\n",
       "}\t\n",
       ".text_cell_render h2 {\n",
       "    font-family: 'Arvo', serif;\n",
       "    font-weight: 400;\n",
       "    font-size: 30pt;\n",
       "    line-height: 100%;\n",
       "    color: rgb(0,51,102);\n",
       "    margin-bottom: 0.1em;\n",
       "    margin-top: 0.3em;\n",
       "    display: block;\n",
       "}\t\n",
       "\n",
       ".text_cell_render h3 {\n",
       "    font-family: 'Arvo', serif;\n",
       "    margin-top:16px;\n",
       "\tfont-size: 22pt;\n",
       "    font-weight: 600;\n",
       "    margin-bottom: 3px;\n",
       "    font-style: regular;\n",
       "    color: rgb(102,102,0);\n",
       "}\n",
       "\n",
       ".text_cell_render h4 {    /*Use this for captions*/\n",
       "    font-family: 'Arvo', serif;\n",
       "    font-size: 14pt;\n",
       "    text-align: center;\n",
       "    margin-top: 0em;\n",
       "    margin-bottom: 2em;\n",
       "    font-style: regular;\n",
       "}\n",
       "\n",
       ".text_cell_render h5 {  /*Use this for small titles*/\n",
       "    font-family: 'Arvo', sans-serif;\n",
       "    font-weight: 400;\n",
       "    font-size: 16pt;\n",
       "    color: rgb(163,0,0);\n",
       "    font-style: italic;\n",
       "    margin-bottom: .1em;\n",
       "    margin-top: 0.8em;\n",
       "    display: block;\n",
       "}\n",
       "\n",
       ".text_cell_render h6 { /*use this for copyright note*/\n",
       "    font-family: 'PT Mono', sans-serif;\n",
       "    font-weight: 300;\n",
       "    font-size: 9pt;\n",
       "    line-height: 100%;\n",
       "    color: grey;\n",
       "    margin-bottom: 1px;\n",
       "    margin-top: 1px;\n",
       "}\n",
       "\n",
       ".CodeMirror{\n",
       "        font-family: \"PT Mono\";\n",
       "        font-size: 90%;\n",
       "}\n",
       "\n",
       "</style>\n",
       "<script>\n",
       "    MathJax.Hub.Config({\n",
       "                        TeX: {\n",
       "                           extensions: [\"AMSmath.js\"],\n",
       "                           equationNumbers: { autoNumber: \"AMS\", useLabelIds: true}\n",
       "                           },\n",
       "                tex2jax: {\n",
       "                    inlineMath: [ ['$','$'], [\"\\\\(\",\"\\\\)\"] ],\n",
       "                    displayMath: [ ['$$','$$'], [\"\\\\[\",\"\\\\]\"] ]\n",
       "                },\n",
       "                displayAlign: 'center', // Change this to 'center' to center equations.\n",
       "                \"HTML-CSS\": {\n",
       "                    styles: {'.MathJax_Display': {\"margin\": 4}}\n",
       "                }\n",
       "        });\n",
       "</script>\n"
      ],
      "text/plain": [
       "<IPython.core.display.HTML object>"
      ]
     },
     "execution_count": 3,
     "metadata": {},
     "output_type": "execute_result"
    }
   ],
   "source": [
    "from IPython.core.display import HTML\n",
    "css_file = 'https://raw.githubusercontent.com/ngcm/training-public/master/ipython_notebook_styles/ngcmstyle.css'\n",
    "HTML(url=css_file)"
   ]
  },
  {
   "cell_type": "markdown",
   "metadata": {},
   "source": [
    "## Energy minimization"
   ]
  },
  {
   "cell_type": "markdown",
   "metadata": {},
   "source": [
    "In lab 1 we worked with the Lennard-Jones potential. Other simple potentials include the **harmonic** potential\n",
    "\n",
    "$$\n",
    "\\begin{equation}\n",
    "  V = \\frac{1}{2} k \\left( r - r_{\\text{eq}} \\right)^2\n",
    "\\end{equation}\n",
    "$$\n",
    "\n",
    "with harmonic constant $k$ and equilibrium position $r_{\\text{eq}}$, the **Kratzer** potential\n",
    "\n",
    "$$\n",
    "\\begin{equation}\n",
    "  V = D_0 \\left( \\frac{r-r_{\\text{eq}}}{r} \\right)^2\n",
    "\\end{equation}\n",
    "$$\n",
    "\n",
    "with dissociation energy $D_0$, and the **Morse** potential\n",
    "\n",
    "$$\n",
    "\\begin{equation}\n",
    " V = D_0 \\left[ 1 - e^{-\\alpha (r - r_{\\text{eq}})} \\right]^2\n",
    "\\end{equation}\n",
    "$$\n",
    "\n",
    "where $\\alpha$ is the Morse parameter."
   ]
  },
  {
   "cell_type": "markdown",
   "metadata": {},
   "source": [
    "### Carbon Monoxide"
   ]
  },
  {
   "cell_type": "markdown",
   "metadata": {},
   "source": [
    "For example, carbon monoxide (CO) consists of one carbon atom (atomic weight 12.011) and one oxygen atom (atomic weight 15.999) separated by 1.1283 Angstroms. This can be modelled by \n",
    "\n",
    "1. a harmonic potential with $k = 2743.0$ and $r_{\\text{eq}} = 1.1283$ Angstroms, or\n",
    "2. a Kratzer potential with $D_0 = 258.9$ kcal/mol and the same equilibrium distance, or\n",
    "3. a Morse potential with $\\alpha = 2.302$ Angstroms${}^{-1}$, and the same dissociation energy and equilibrium distance."
   ]
  },
  {
   "cell_type": "markdown",
   "metadata": {},
   "source": [
    "Using standard minimization algorithms (e.g. `scipy.optimize.minimize`) show that, for suitable initial guesses, all of the above potentials have minima at the expected location. \n",
    "\n",
    "By plotting the potentials, understand why the success of the algorithms changes. \n",
    "\n",
    "Briefly test how changing the potential changes the number of steps required by the algorithm. \n",
    "\n",
    "Also compute the force $\\frac{dV}{dr}$ at the minimum point for each potential to check that it vanishes as expected."
   ]
  },
  {
   "cell_type": "code",
   "execution_count": 2,
   "metadata": {
    "collapsed": false
   },
   "outputs": [],
   "source": [
    "%matplotlib inline\n",
    "import numpy as np\n",
    "import matplotlib.pyplot as plt\n",
    "from mpl_toolkits.mplot3d.axes3d import Axes3D\n",
    "from matplotlib import rcParams\n",
    "rcParams['font.family'] = 'serif'\n",
    "rcParams['font.size'] = 16\n",
    "rcParams['figure.figsize'] = (12,6)\n",
    "from scipy.optimize import minimize\n",
    "from numba import jit"
   ]
  },
  {
   "cell_type": "code",
   "execution_count": 9,
   "metadata": {
    "collapsed": true
   },
   "outputs": [],
   "source": [
    "# constants\n",
    "k = 2743.0\n",
    "req = 1.1283\n",
    "D0 = 258.9\n",
    "alpha = 2.302"
   ]
  },
  {
   "cell_type": "code",
   "execution_count": 10,
   "metadata": {
    "collapsed": false
   },
   "outputs": [],
   "source": [
    "@jit\n",
    "def harmonic(r):\n",
    "    return 0.5 * k * (r - req)**2\n",
    "\n",
    "@jit\n",
    "def kretzer(r):\n",
    "    return D0 * ((r - req)/r)**2\n",
    "\n",
    "@jit\n",
    "def morse(r):\n",
    "    return D0 * (1 - np.exp(-alpha * (r - req)))**2"
   ]
  },
  {
   "cell_type": "code",
   "execution_count": 11,
   "metadata": {
    "collapsed": false
   },
   "outputs": [
    {
     "name": "stdout",
     "output_type": "stream",
     "text": [
      "Starting from 1.0 the Kretzer potential found:\n",
      " Separation [ 1.12829997]            \n",
      " in 33 function evaluations\n",
      "and 11 Jacobian evalutions\n",
      "Starting from 1.0 the Harmonic potential found:\n",
      " Separation [ 1.12829999]            \n",
      " in 12 function evaluations\n",
      "and 4 Jacobian evalutions\n",
      "Initialisation with x = 1.0 for the Morse method failed\n",
      "Starting from 1.1 the Kretzer potential found:\n",
      " Separation [ 1.12829999]            \n",
      " in 27 function evaluations\n",
      "and 9 Jacobian evalutions\n",
      "Initialisation with x = 1.1 for the Harmonic method failed\n",
      "Starting from 1.1 the Morse potential found:\n",
      " Separation [ 1.12829999]            \n",
      " in 30 function evaluations\n",
      "and 10 Jacobian evalutions\n",
      "Starting from 1.2 the Kretzer potential found:\n",
      " Separation [ 1.1283]            \n",
      " in 24 function evaluations\n",
      "and 8 Jacobian evalutions\n",
      "Starting from 1.2 the Harmonic potential found:\n",
      " Separation [ 1.12829999]            \n",
      " in 12 function evaluations\n",
      "and 4 Jacobian evalutions\n",
      "Initialisation with x = 1.2 for the Morse method failed\n",
      "Starting from 1.3 the Kretzer potential found:\n",
      " Separation [ 1.1283]            \n",
      " in 30 function evaluations\n",
      "and 10 Jacobian evalutions\n",
      "Starting from 1.3 the Harmonic potential found:\n",
      " Separation [ 1.12829999]            \n",
      " in 12 function evaluations\n",
      "and 4 Jacobian evalutions\n",
      "Initialisation with x = 1.3 for the Morse method failed\n",
      "Starting from 1.4 the Kretzer potential found:\n",
      " Separation [ 1.12829999]            \n",
      " in 33 function evaluations\n",
      "and 11 Jacobian evalutions\n",
      "Starting from 1.4 the Harmonic potential found:\n",
      " Separation [ 1.12829999]            \n",
      " in 12 function evaluations\n",
      "and 4 Jacobian evalutions\n",
      "Initialisation with x = 1.4 for the Morse method failed\n",
      "Starting from 1.5 the Kretzer potential found:\n",
      " Separation [ 1.12829999]            \n",
      " in 33 function evaluations\n",
      "and 11 Jacobian evalutions\n",
      "Starting from 1.5 the Harmonic potential found:\n",
      " Separation [ 1.12829999]            \n",
      " in 12 function evaluations\n",
      "and 4 Jacobian evalutions\n",
      "Initialisation with x = 1.5 for the Morse method failed\n"
     ]
    },
    {
     "name": "stderr",
     "output_type": "stream",
     "text": [
      "//anaconda/lib/python2.7/site-packages/scipy/optimize/optimize.py:282: RuntimeWarning: overflow encountered in multiply\n",
      "  return function(*(wrapper_args + args))\n",
      "//anaconda/lib/python2.7/site-packages/scipy/optimize/optimize.py:282: RuntimeWarning: overflow encountered in square\n",
      "  return function(*(wrapper_args + args))\n"
     ]
    }
   ],
   "source": [
    "rinit = [1.0, 1.1, 1.2, 1.3, 1.4, 1.5]\n",
    "methods = {\"Harmonic\":harmonic, \"Kretzer\":kretzer, \"Morse\":morse}\n",
    "\n",
    "for r in rinit:\n",
    "    for method in methods:\n",
    "        minima = minimize(methods[method], r)\n",
    "        if minima.success:\n",
    "            print(\"Starting from {} the {} potential found:\\n Separation {}\\\n",
    "            \\n in {} function evaluations\\nand {} Jacobian evalutions\".format(r, method, minima.x,\n",
    "                                                                              minima.nfev, minima.njev))\n",
    "        else:\n",
    "            print(\"Initialisation with x = {} for the {} method failed\".format(r, method))\n"
   ]
  },
  {
   "cell_type": "code",
   "execution_count": 12,
   "metadata": {
    "collapsed": false
   },
   "outputs": [
    {
     "data": {
      "image/png": "[encoded data removed]",
      "text/plain": [
       "<matplotlib.figure.Figure at 0x103e86350>"
      ]
     },
     "metadata": {},
     "output_type": "display_data"
    }
   ],
   "source": [
    "r = np.linspace(1, 1.5)\n",
    "h = harmonic(r)\n",
    "k = kretzer(r)\n",
    "m = morse(r)\n",
    "plt.plot(r, h, label='Harmonic')\n",
    "plt.plot(r, k, label='Kretzer')\n",
    "plt.plot(r, m, label='Morse')\n",
    "plt.title(\"Potentials\")\n",
    "plt.xlabel(r\"$r$\")\n",
    "plt.ylabel(r\"$E$\")\n",
    "plt.legend(loc='upper left')\n",
    "plt.show()"
   ]
  },
  {
   "cell_type": "markdown",
   "metadata": {},
   "source": [
    "### Evolution"
   ]
  },
  {
   "cell_type": "markdown",
   "metadata": {},
   "source": [
    "Using your velocity-Verlet integrator from lab 1, evolve the CO molecule using the Morse potential. Note that, unlike lab 1, the two particles now have different mass. It is perhaps easiest to scale it so that the carbon particle has mass $1$ and the oxygen mass $1.332029$. Do *not* use periodic boundaries! Try using $\\Delta t = 0.001$ up to $t=1$. Start from the equilibrium position and show that it does not evolve. The move the location of the oxygen atom slightly and see how it evolves."
   ]
  },
  {
   "cell_type": "code",
   "execution_count": 66,
   "metadata": {
    "collapsed": true
   },
   "outputs": [],
   "source": [
    "@jit\n",
    "def dmorse(r):\n",
    "    return 2 * D0 * alpha * np.exp(-alpha * (r - req)) * (np.exp(-alpha * (r - req)) - 1)"
   ]
  },
  {
   "cell_type": "code",
   "execution_count": 67,
   "metadata": {
    "collapsed": true
   },
   "outputs": [],
   "source": [
    "@jit\n",
    "def part_reset(pos):\n",
    "    #while np.any(pos > 0.5):\n",
    "    pos[pos > 0.5] -= 1.0\n",
    "    #while np.any(pos < 0.5):\n",
    "    pos[pos < -0.5] += 1.0\n",
    "    return pos"
   ]
  },
  {
   "cell_type": "code",
   "execution_count": 68,
   "metadata": {
    "collapsed": false
   },
   "outputs": [],
   "source": [
    "@jit\n",
    "def accel(pos, mass, potential=dmorse):\n",
    "    N = pos.shape[0]\n",
    "    acc = np.zeros_like(pos)\n",
    "    for i in np.arange(N):\n",
    "        for j in np.arange(i+1, N):\n",
    "            pos_diff = pos[i, :] - pos[j, :]\n",
    "            r = np.linalg.norm(pos_diff)\n",
    "            dV_local = potential(r)\n",
    "            acc[i, :] += pos_diff * dV_local/mass[i]\n",
    "            acc[j, :] -= pos_diff * dV_local/mass[j]\n",
    "    return acc"
   ]
  },
  {
   "cell_type": "code",
   "execution_count": 69,
   "metadata": {
    "collapsed": true
   },
   "outputs": [],
   "source": [
    "@jit\n",
    "def vv(pos, vel, acc, mass, dt):\n",
    "    N, dim = np.shape(pos)\n",
    "    pos_new = pos + vel * dt + 0.5 * dt**2 * acc\n",
    "    vel_star = vel + 0.5 * dt * acc\n",
    "    acc_new = accel(pos_new, mass)\n",
    "    vel_new = vel_star + 0.5 * dt * acc_new\n",
    "    return pos_new, vel_new, acc_new"
   ]
  },
  {
   "cell_type": "code",
   "execution_count": 70,
   "metadata": {
    "collapsed": true
   },
   "outputs": [],
   "source": [
    "@jit\n",
    "def temperature(vel, boxSize):\n",
    "    N = vel.shape[0]\n",
    "    energy = np.sum(np.einsum('ij,ji->i', vel, vel.T))\n",
    "    return boxSize**2 * energy / float(3 * N)"
   ]
  },
  {
   "cell_type": "code",
   "execution_count": 71,
   "metadata": {
    "collapsed": true
   },
   "outputs": [],
   "source": [
    "@jit\n",
    "def sim(init, mass, dt, steps):\n",
    "    cpos = init.copy()\n",
    "    all_pos = np.zeros((steps+1, cpos.shape[0], cpos.shape[1]))\n",
    "    all_pos[0, :, :] = cpos\n",
    "    cvel = np.zeros_like(cpos)\n",
    "    cacc = np.zeros_like(cpos)\n",
    "    time = np.arange(0.0, steps*dt, dt)\n",
    "    time = np.append(time, steps*dt)\n",
    "    T = np.zeros_like(time)\n",
    "    T[0] = temperature(cvel, boxSize)\n",
    "    for i in np.arange(1, steps+1):\n",
    "        cpos, cvel, cacc = vv(cpos, cvel, cacc, mass, dt)\n",
    "        all_pos[i, :, :] = cpos[:]\n",
    "        T[i] = temperature(cvel, boxSize)\n",
    "        #print \"pos of first two are \\n{}\\n{}\\n Temperature is {}\\n\".format(cpos[0,:], cpos[1, :], T[i])\n",
    "    return all_pos, time, T"
   ]
  },
  {
   "cell_type": "code",
   "execution_count": 72,
   "metadata": {
    "collapsed": false
   },
   "outputs": [],
   "source": [
    "init = np.zeros((2, 3))\n",
    "init[1, 0] = 1.1285\n",
    "boxSize = 6.1984\n",
    "dt = 0.001\n",
    "steps = 1000\n",
    "rc = 2.5\n",
    "mass = np.array([1, 1.332029])\n",
    "pos, t, T = sim(init, mass, dt, steps)"
   ]
  },
  {
   "cell_type": "code",
   "execution_count": 73,
   "metadata": {
    "collapsed": false
   },
   "outputs": [
    {
     "data": {
      "image/png": "[encoded data removed]",
      "text/plain": [
       "<matplotlib.figure.Figure at 0x1023948d0>"
      ]
     },
     "metadata": {},
     "output_type": "display_data"
    }
   ],
   "source": [
    "plt.plot(t, pos[:, 1, 0])\n",
    "plt.xlabel(r\"$t$\")\n",
    "plt.ylabel(r\"$x$ location of oxygen atom.\");"
   ]
  },
  {
   "cell_type": "markdown",
   "metadata": {},
   "source": [
    "## Water"
   ]
  },
  {
   "cell_type": "markdown",
   "metadata": {},
   "source": [
    "The paper of [Praprotnik, Janezic, and Mavri](http://dx.doi.org/10.1021/jp046158d) suggests a potential for a single water molecule (one oxygen atom and two hydrogen with atomic weights $1.008$) of\n",
    "\n",
    "$$\n",
    "\\begin{equation}\n",
    "  V = \\sum_{l = 1}^2 D_0 \\left[ 1 - e^{\\alpha \\Delta r_{OH_l}} \\right]^2 + \\frac{1}{2} k_{\\theta} \\Delta r_{HH}^2 + k_{r \\theta} \\Delta r_{HH} \\left( \\Delta r_{OH_1} + \\Delta r_{OH_2} \\right) + k_{rr} \\Delta r_{OH_1} \\Delta r_{OH_2}.\n",
    "\\end{equation}\n",
    "$$\n",
    "\n",
    "The first term is the Morse potential again, and the other terms are the intra-molecule bond potentials. $\\Delta r_{OH_l} = r_{OH_l} - r_{OH_{\\text{eq}}}$ is the stretch in the distance between the oxygen atom and the $l^{\\text{th}}$ hydrogen atom $r_{OH_l}$ and its equilibrium value, and $\\Delta r_{HH} = r_{HH_l} - r_{HH_{\\text{eq}}}$ is the stretch in the distance between the hydrogen atoms. The parameter values are\n",
    "\n",
    "1. $D_0 = 101.9188$ kcal/mol.\n",
    "2. $\\alpha = 2.567$ Angstrom${}^{-1}$\n",
    "3. $k_{\\theta} = 328.645606$ kcal/mol/Angstrom${}^2$\n",
    "4. $k_{r \\theta} = -211.4672$ kcal/mol/Angstrom${}^2$\n",
    "5. $k_{rr} = 111.70765$ kcal/mol/Angstrom${}^2$\n",
    "6. $r_{OH_{\\text{eq}}} = 1$ Angstrom\n",
    "7. $r_{HH_{\\text{eq}}} = 1.633$ Angstrom\n"
   ]
  },
  {
   "cell_type": "markdown",
   "metadata": {},
   "source": [
    "Fix the oxygen atom at the origin and start the hydrogen atoms at $(\\pm 0.8, 0.6, 0)$. Use the minimization techniques to find the equilibrium position of the atoms, [comparing against the known structure of water](http://en.wikipedia.org/wiki/Water_model).\n",
    "\n",
    "**NOTE**: if using `scipy`'s minimization routine, you may have to increase the tolerance as high as $10^{-4}$ to make it converge."
   ]
  },
  {
   "cell_type": "code",
   "execution_count": null,
   "metadata": {
    "collapsed": false
   },
   "outputs": [],
   "source": []
  },
  {
   "cell_type": "markdown",
   "metadata": {},
   "source": [
    "Using your integrator, evolve the molecule and see how it behaves."
   ]
  },
  {
   "cell_type": "code",
   "execution_count": null,
   "metadata": {
    "collapsed": false
   },
   "outputs": [],
   "source": []
  }
 ],
 "metadata": {
  "kernelspec": {
   "display_name": "Python 2",
   "language": "python",
   "name": "python2"
  },
  "language_info": {
   "codemirror_mode": {
    "name": "ipython",
    "version": 2
   },
   "file_extension": ".py",
   "mimetype": "text/x-python",
   "name": "python",
   "nbconvert_exporter": "python",
   "pygments_lexer": "ipython2",
   "version": "2.7.10"
  }
 },
 "nbformat": 4,
 "nbformat_minor": 0
}
