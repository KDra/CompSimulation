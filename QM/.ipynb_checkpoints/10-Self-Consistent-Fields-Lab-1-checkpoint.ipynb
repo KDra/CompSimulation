{
 "cells": [
  {
   "cell_type": "markdown",
   "metadata": {},
   "source": [
    "# Self Consistent Field Theory - Lab 1"
   ]
  },
  {
   "cell_type": "code",
   "execution_count": 1,
   "metadata": {
    "collapsed": false
   },
   "outputs": [
    {
     "data": {
      "text/html": [
       "<link href='http://fonts.googleapis.com/css?family=Open+Sans:100,300,400,500,700,800,900,100italic,300italic,400italic,500italic,700italic,800italic,900italic' rel='stylesheet' type='text/css'>\n",
       "<link href='http://fonts.googleapis.com/css?family=Arvo:400,700,400italic' rel='stylesheet' type='text/css'>\n",
       "<link href='http://fonts.googleapis.com/css?family=PT+Mono' rel='stylesheet' type='text/css'>\n",
       "<link href='http://fonts.googleapis.com/css?family=Shadows+Into+Light' rel='stylesheet' type='text/css'>\n",
       "<link href='http://fonts.googleapis.com/css?family=Nixie+One' rel='stylesheet' type='text/css'>\n",
       "<style>\n",
       "\n",
       "@font-face {\n",
       "    font-family: \"Computer Modern\";\n",
       "    src: url('http://mirrors.ctan.org/fonts/cm-unicode/fonts/otf/cmunss.otf');\n",
       "}\n",
       "\n",
       "#notebook_panel { /* main background */\n",
       "    background: rgb(245,245,245);\n",
       "}\n",
       "\n",
       "div.cell { /* set cell width */\n",
       "    width: 1000px;\n",
       "}\n",
       "\n",
       "div #notebook { /* centre the content */\n",
       "    background: #fff; /* white background for content */\n",
       "    width: 1200px;\n",
       "    margin: auto;\n",
       "    padding-left: 0em;\n",
       "}\n",
       "\n",
       "#notebook li { /* More space between bullet points */\n",
       "margin-top:0.8em;\n",
       "}\n",
       "\n",
       "/* draw border around running cells */\n",
       "div.cell.border-box-sizing.code_cell.running { \n",
       "    border: 1px solid #111;\n",
       "}\n",
       "\n",
       "/* Put a solid color box around each cell and its output, visually linking them*/\n",
       "div.cell.code_cell {\n",
       "    background-color: rgb(256,256,256); \n",
       "    border-radius: 0px; \n",
       "    padding: 0.5em;\n",
       "    margin-left:1em;\n",
       "    margin-top: 1em;\n",
       "}\n",
       "\n",
       "div.text_cell_render{\n",
       "    font-family: 'Open Sans' sans-serif;\n",
       "    line-height: 140%;\n",
       "    font-size: 125%;\n",
       "    font-weight: 400;\n",
       "    width:900px;\n",
       "    margin-left:auto;\n",
       "    margin-right:auto;\n",
       "}\n",
       "\n",
       "\n",
       "/* Formatting for header cells */\n",
       ".text_cell_render h1 {\n",
       "    font-family: 'Arvo', serif;\n",
       "    font-style:regular;\n",
       "    font-weight: 400;    \n",
       "    font-size: 45pt;\n",
       "    line-height: 100%;\n",
       "    color: rgb(0,51,102);\n",
       "    margin-bottom: 0.5em;\n",
       "    margin-top: 0.5em;\n",
       "    display: block;\n",
       "}\t\n",
       ".text_cell_render h2 {\n",
       "    font-family: 'Arvo', serif;\n",
       "    font-weight: 400;\n",
       "    font-size: 30pt;\n",
       "    line-height: 100%;\n",
       "    color: rgb(0,51,102);\n",
       "    margin-bottom: 0.1em;\n",
       "    margin-top: 0.3em;\n",
       "    display: block;\n",
       "}\t\n",
       "\n",
       ".text_cell_render h3 {\n",
       "    font-family: 'Arvo', serif;\n",
       "    margin-top:16px;\n",
       "\tfont-size: 22pt;\n",
       "    font-weight: 600;\n",
       "    margin-bottom: 3px;\n",
       "    font-style: regular;\n",
       "    color: rgb(102,102,0);\n",
       "}\n",
       "\n",
       ".text_cell_render h4 {    /*Use this for captions*/\n",
       "    font-family: 'Arvo', serif;\n",
       "    font-size: 14pt;\n",
       "    text-align: center;\n",
       "    margin-top: 0em;\n",
       "    margin-bottom: 2em;\n",
       "    font-style: regular;\n",
       "}\n",
       "\n",
       ".text_cell_render h5 {  /*Use this for small titles*/\n",
       "    font-family: 'Arvo', sans-serif;\n",
       "    font-weight: 400;\n",
       "    font-size: 16pt;\n",
       "    color: rgb(163,0,0);\n",
       "    font-style: italic;\n",
       "    margin-bottom: .1em;\n",
       "    margin-top: 0.8em;\n",
       "    display: block;\n",
       "}\n",
       "\n",
       ".text_cell_render h6 { /*use this for copyright note*/\n",
       "    font-family: 'PT Mono', sans-serif;\n",
       "    font-weight: 300;\n",
       "    font-size: 9pt;\n",
       "    line-height: 100%;\n",
       "    color: grey;\n",
       "    margin-bottom: 1px;\n",
       "    margin-top: 1px;\n",
       "}\n",
       "\n",
       ".CodeMirror{\n",
       "        font-family: \"PT Mono\";\n",
       "        font-size: 90%;\n",
       "}\n",
       "\n",
       "</style>\n",
       "<script>\n",
       "    MathJax.Hub.Config({\n",
       "                        TeX: {\n",
       "                           extensions: [\"AMSmath.js\"],\n",
       "                           equationNumbers: { autoNumber: \"AMS\", useLabelIds: true}\n",
       "                           },\n",
       "                tex2jax: {\n",
       "                    inlineMath: [ ['$','$'], [\"\\\\(\",\"\\\\)\"] ],\n",
       "                    displayMath: [ ['$$','$$'], [\"\\\\[\",\"\\\\]\"] ]\n",
       "                },\n",
       "                displayAlign: 'center', // Change this to 'center' to center equations.\n",
       "                \"HTML-CSS\": {\n",
       "                    styles: {'.MathJax_Display': {\"margin\": 4}}\n",
       "                }\n",
       "        });\n",
       "</script>\n"
      ],
      "text/plain": [
       "<IPython.core.display.HTML object>"
      ]
     },
     "execution_count": 1,
     "metadata": {},
     "output_type": "execute_result"
    }
   ],
   "source": [
    "from IPython.core.display import HTML\n",
    "css_file = 'https://raw.githubusercontent.com/ngcm/training-public/master/ipython_notebook_styles/ngcmstyle.css'\n",
    "HTML(url=css_file)"
   ]
  },
  {
   "cell_type": "code",
   "execution_count": 5,
   "metadata": {
    "collapsed": true
   },
   "outputs": [],
   "source": [
    "%matplotlib inline\n",
    "import numpy as np\n",
    "from matplotlib import pyplot\n",
    "from matplotlib import rcParams\n",
    "rcParams['font.family'] = 'serif'\n",
    "rcParams['font.size'] = 16\n",
    "rcParams['figure.figsize'] = (12,6)\n",
    "from scipy.integrate import quad"
   ]
  },
  {
   "cell_type": "markdown",
   "metadata": {},
   "source": [
    "In Hartree-Fock theory the time-independent Schrödinger equation\n",
    "\n",
    "\\begin{equation}\n",
    "  H \\psi = E \\psi\n",
    "\\end{equation}\n",
    "\n",
    "is solved (approximately), where $H$ is the Hamiltonian operator, $\\psi$ the wavefunction, and $E$ the energy. The theory assumes that the wave function depends on the locations of the electrons ${\\bf r}_i$, where eg ${\\bf r}_1$ is the spatial location of the first electron, and that the wave function can be written as the *Slater determinant*\n",
    "\n",
    "\\begin{equation}\n",
    "  \\psi = \\frac{1}{\\sqrt{N}} \\begin{vmatrix} \\chi_1({\\bf r}_1) & \\chi_2({\\bf r}_1) & \\dots &\\chi_N({\\bf r}_1) \\\\ \\chi_1({\\bf r}_2) & \\chi_2({\\bf r}_2) & \\dots &\\chi_N({\\bf r}_2) \\\\ \\vdots & \\vdots & \\ddots & \\vdots \\\\ \\chi_1({\\bf r}_N) & \\chi_2({\\bf r}_N) & \\dots &\\chi_N({\\bf r}_N) \\end{vmatrix}\n",
    "\\end{equation}"
   ]
  },
  {
   "cell_type": "markdown",
   "metadata": {},
   "source": [
    "After some considerable theoretical work, the Hartree-Fock equations are\n",
    "\n",
    "\\begin{equation}\n",
    "  F({\\bf x}_1) \\chi_i({\\bf x}_1) = \\epsilon_i \\chi_i({\\bf x}_1),\n",
    "\\end{equation}\n",
    "\n",
    "where $F$ is the *Fock* operator\n",
    "\n",
    "\\begin{equation}\n",
    "  F({\\bf x}_1) = H({\\bf x}_1) + \\sum_j \\left( J_j({\\bf x}_1) - K_j({\\bf x}_1) \\right),\n",
    "\\end{equation}\n",
    "\n",
    "with $J$ being the Coulomb operator\n",
    "\n",
    "\\begin{equation}\n",
    "  J_j({\\bf x}_1) = \\int \\text{d} {\\bf x}_2 \\, \\frac{| \\chi_j ({\\bf x}_2) |^2}{r_{12}}\n",
    "\\end{equation}\n",
    "\n",
    "and $K$ is the exchange operator\n",
    "\n",
    "\\begin{equation}\n",
    "  K_j({\\bf x}_1) \\chi_i({\\bf x}_1) = \\left[ \\int \\text{d} {\\bf x}_2 \\, \\chi^*_j ({\\bf x}_2) \\frac{1}{r_{12}} \\chi_i ({\\bf x}_2) \\right] \\chi_j({\\bf x}_1).\n",
    "\\end{equation}\n",
    "\n",
    "In the above $r_{12}$ is the distance between the first and second electrons, $r_{12} = \\| {\\bf x}_1 - {\\bf x}_2 \\|$."
   ]
  },
  {
   "cell_type": "markdown",
   "metadata": {},
   "source": [
    "As the Hamiltonian operator $H$ contains a second partial derivative ($H = -\\frac{1}{2} \\nabla^2 + \\dots$) this is a set of integro-differential equations, which is painful to solve numerically (see [this review](http://dx.doi.org/10.1016/j.cpc.2012.09.033) for an example). Instead, as with Finite Elements, it's better to write the orbitals $\\chi$ in terms of a function basis, as\n",
    "\n",
    "\\begin{equation}\n",
    "  \\chi_i = \\sum_{\\mu=1}^K C_{i\\mu} \\tilde{\\chi}_{\\mu}.\n",
    "\\end{equation}\n",
    "\n",
    "Here the function basis is *global*: there is one expansion that holds over all of space.\n",
    "\n",
    "This leads to the Hartree-Fock-Roothaan equations\n",
    "\n",
    "\\begin{equation}\n",
    "  {\\bf F} {\\bf C} = {\\bf S} {\\bf C} \\epsilon\n",
    "\\end{equation}\n",
    "\n",
    "where all of the terms are matrices representing the operators. Written in more detail we have\n",
    "\n",
    "\\begin{equation}\n",
    "  \\sum_{\\nu} F_{\\mu\\nu} C_{\\nu i} = \\epsilon_i \\sum_{\\nu} S_{\\mu \\nu} C_{\\nu i}\n",
    "\\end{equation}\n",
    "\n",
    "where the matrices are\n",
    "\n",
    "\\begin{align}\n",
    "  S_{\\mu \\nu} &= \\int \\text{d} {\\bf x}_1 \\, \\tilde{\\chi}^*_{\\mu}({\\bf x}_1) \\tilde{\\chi}_{\\nu}({\\bf x}_1), \\\\\n",
    "  F_{\\mu \\nu} &= \\int \\text{d} {\\bf x}_1 \\, \\tilde{\\chi}^*_{\\mu}({\\bf x}_1) F({\\bf x}_1) \\tilde{\\chi}_{\\nu}({\\bf x}_1).\n",
    "\\end{align}\n",
    "\n",
    "For later purposes we define the *density matrix* ${\\bf D}$ as\n",
    "\n",
    "\\begin{equation}\n",
    "  D_{\\mu \\nu} = \\sum_{j=1}^{N_{\\text{electrons}}/2} 2 C_{\\mu j} C_{\\nu j},\n",
    "\\end{equation}\n",
    "\n",
    "from which we write the Fock matrix as\n",
    "\n",
    "\\begin{equation}\n",
    "  F_{\\mu \\nu} = H_{\\mu \\nu} + \\sum_{\\alpha} \\sum_{\\beta} \\left( G_{\\mu \\nu \\alpha \\beta} - \\frac{1}{2} G_{\\mu \\beta \\alpha \\nu} \\right) D_{\\alpha \\beta},\n",
    "\\end{equation}\n",
    "\n",
    "where $H$ is the one-electron operator in the function basis\n",
    "\n",
    "\\begin{equation}\n",
    "  H_{\\mu \\nu} = \\int \\text{d}{\\bf x}_1 \\, \\chi_{\\mu}({\\bf x}_1) \\left( - \\frac{1}{2} \\nabla^2 \\right) \\chi_{\\nu}({\\bf x}_1) + \\sum_a \\int \\text{d}{\\bf x}_1 \\, \\chi_{\\mu}({\\bf x}_1) \\frac{Z_a}{|{\\bf R}_a - {\\bf r}_1|} \\chi_{\\nu}({\\bf x}_1)\n",
    "\\end{equation}\n",
    "\n",
    "and $G$ is the two-electron operator in the function basis\n",
    "\n",
    "\\begin{equation}\n",
    "  G_{\\mu \\nu \\alpha \\beta} = \\int \\text{d}{\\bf x}_1 \\, \\text{d}{\\bf x}_2 \\, \\chi_{\\mu}({\\bf x}_1) \\chi_{\\nu}({\\bf x}_2) \\frac{1}{r_{12}} \\chi_{\\alpha}({\\bf x}_1) \\chi_{\\beta}({\\bf x}_2).\n",
    "\\end{equation}\n",
    "\n",
    "Finally, the total energy $E$ is given by\n",
    "\n",
    "\\begin{equation}\n",
    "  E = \\frac{1}{2} \\sum_{\\mu=1}^N \\sum_{\\nu=1}^N D_{\\mu\\nu} \\left( H_{\\mu\\nu} + F_{\\mu\\nu} \\right) + V_{\\text{nn}},\n",
    "\\end{equation}\n",
    "\n",
    "where $V_{\\text{nn}}$ is the nucleon-nucleon interaction energy\n",
    "\n",
    "\\begin{equation}\n",
    "  V_{\\text{nn}} = \\sum_{a} \\sum_{b} \\frac{Z_a Z_b}{\\| {\\bf R}_a - {\\bf R}_b \\|}.\n",
    "\\end{equation}"
   ]
  },
  {
   "cell_type": "markdown",
   "metadata": {},
   "source": [
    "## Self-consistent field solution procedure"
   ]
  },
  {
   "cell_type": "markdown",
   "metadata": {},
   "source": [
    "This is an iterative prcedure, so must start from some initial guess.\n",
    "\n",
    "1. Calculate all one- and two-electron integrals, $H$ and $G$.\n",
    "2. Generate starting guess for the $C$ (molecular orbital [MO]) coefficients.\n",
    "3. Form the density matrix $D$.\n",
    "4. Form the Fock matrix $F$ from the core (one-electron) integrals $H$ plus the density matrix $D$ times the two-electron integrals $G$.\n",
    "5. Diagonalize the Fock matrix $F$. The eigenvectors contain the new MO coefficients.\n",
    "6. Form the new density matrix $D$. If sufficiently close to the old matrix we are done; otherwise, return to step 4."
   ]
  },
  {
   "cell_type": "markdown",
   "metadata": {},
   "source": [
    "The first step is difficult, so we will assume here that the elements of the $H$ matrix and $G$ tensor are given.\n",
    "\n",
    "The crucial point is that all steps must be performed in the right basis, and whilst the basis changes between steps, the transformation matrix stays fixed. Given the overlap matrix $S$ between the basis functions, the transformation matrix $X$ is given by $U \\Lambda^{-1/2} U^*$, where $U$ and $\\Lambda$ are the eigenvectors and eigenvalues of $S$ respectively."
   ]
  },
  {
   "cell_type": "markdown",
   "metadata": {},
   "source": [
    "### Code"
   ]
  },
  {
   "cell_type": "markdown",
   "metadata": {},
   "source": [
    "Write a function that, given $S$, computes the transformation matrix $X = U \\Lambda^{-1/2} U^*$ (using `numpy.linalg.eig`)."
   ]
  },
  {
   "cell_type": "code",
   "execution_count": 77,
   "metadata": {
    "collapsed": false
   },
   "outputs": [],
   "source": [
    "def tranformMat(S):\n",
    "    w, v = np.linalg.eig(S)\n",
    "    w = np.diag(w**(-1/2))\n",
    "    return np.dot(np.dot(v, w), v.conj().T)"
   ]
  },
  {
   "cell_type": "markdown",
   "metadata": {},
   "source": [
    "Write a function that, given $C$ and the number of electrons, computes the density matrix $D$, where\n",
    "\n",
    "\\begin{equation}\n",
    "  D_{\\mu \\nu} = \\sum_{j=1}^{N_{\\text{electrons}}/2} 2 C_{\\mu j} C_{\\nu j}.\n",
    "\\end{equation}"
   ]
  },
  {
   "cell_type": "code",
   "execution_count": 74,
   "metadata": {
    "collapsed": false
   },
   "outputs": [],
   "source": [
    "def denseMat(C, Nelec):\n",
    "    D = np.zeros_like(C)\n",
    "    n = int(Nelec/2.0)\n",
    "    for mu in np.arange(len(C)):\n",
    "        for nu in np.arange(len(C)):\n",
    "            for j in np.arange(n):\n",
    "                D[mu, nu] += 2*C[mu, j]*C[nu, j]\n",
    "    return D"
   ]
  },
  {
   "cell_type": "markdown",
   "metadata": {},
   "source": [
    "Write a function that, given $H, G$ and $D$, computes the Fock matrix $F$, where\n",
    "\n",
    "\n",
    "\\begin{equation}\n",
    "  F_{\\mu \\nu} = H_{\\mu \\nu} + \\sum_{\\alpha} \\sum_{\\beta} \\left( G_{\\mu \\nu \\alpha \\beta} - \\frac{1}{2} G_{\\mu \\beta \\alpha \\nu} \\right) D_{\\alpha \\beta}.\n",
    "\\end{equation}"
   ]
  },
  {
   "cell_type": "code",
   "execution_count": 97,
   "metadata": {
    "collapsed": false
   },
   "outputs": [],
   "source": [
    "def fock(H, G, D):\n",
    "    F = np.zeros_like(D)\n",
    "    n = len(D)\n",
    "    for mu in np.arange(n):\n",
    "        for nu in np.arange(n):\n",
    "            F[mu, nu] = H[mu, nu]\n",
    "            for a in np.arange(n):\n",
    "                for b in np.arange(n):\n",
    "                    F[mu, nu] += (G[mu, nu, a, b] - 0.5 * G[mu, b, a, nu]) * D[a,b]\n",
    "        #F[mu, nu] = H[mu, nu] + np.sum((G[mu, nu, :, :] - 0.5 * G[mu, :, :, nu])* D)\n",
    "    return F"
   ]
  },
  {
   "cell_type": "markdown",
   "metadata": {},
   "source": [
    "Write a function that, given $F$, uses the `numpy.linalg.eigh` function to extract the eigenvalues and eigenvectors. It should return the orbital energies (the eigenvalues in order) and the new orbital coefficients ($X V$, where $V$ is the matrix of eigenvectors). It should compute $F' = X^* F X$ in the transformed basis, compute its eigenvalues $\\epsilon$ and eigenvectors $V$, and hence get the new coefficients $X V$."
   ]
  },
  {
   "cell_type": "code",
   "execution_count": 79,
   "metadata": {
    "collapsed": true
   },
   "outputs": [],
   "source": [
    "def coef(F, X):\n",
    "    #X = np.diag(X)\n",
    "    F = np.dot(X.conj().T, F)\n",
    "    F = np.dot(F, X)\n",
    "    w, v = np.linalg.eigh(F)\n",
    "    return w, np.dot(X, v)"
   ]
  },
  {
   "cell_type": "markdown",
   "metadata": {},
   "source": [
    "Write a function that, given $X, H, G$, and a guess for $C$ with its associated density matrix $D$, returns the new density matrix, new basis coefficients, and orbital energies."
   ]
  },
  {
   "cell_type": "code",
   "execution_count": 51,
   "metadata": {
    "collapsed": true
   },
   "outputs": [],
   "source": [
    "def dens(X, H, G, C, D, Nelec):\n",
    "    F = fock(H, G, D)\n",
    "    eps, C = coef(F, X)\n",
    "    D = denseMat(C, Nelec)\n",
    "    return D, C, eps"
   ]
  },
  {
   "cell_type": "markdown",
   "metadata": {},
   "source": [
    "Write a function that, given $D, H, F$ and $V_{\\text{nn}}$, returns the total energy of the configuration."
   ]
  },
  {
   "cell_type": "markdown",
   "metadata": {},
   "source": [
    "\\begin{equation}\n",
    "  E = \\frac{1}{2} \\sum_{\\mu=1}^N \\sum_{\\nu=1}^N D_{\\mu\\nu} \\left( H_{\\mu\\nu} + F_{\\mu\\nu} \\right) + V_{\\text{nn}},\n",
    "\\end{equation}"
   ]
  },
  {
   "cell_type": "code",
   "execution_count": 87,
   "metadata": {
    "collapsed": true
   },
   "outputs": [],
   "source": [
    "def energy(D, H, F, Vnn):\n",
    "    \"\"\"E = 0\n",
    "    n = len(D)\n",
    "    for mu in np.arange(n):\n",
    "        for nu in np.arange(n):\n",
    "            E += 0.5 * D[mu, nu] * (H[mu, nu] + F[mu, nu])\n",
    "    return E + Vnn #\"\"\"\n",
    "    return 0.5 * np.sum(D * (H + F)) + Vnn"
   ]
  },
  {
   "cell_type": "markdown",
   "metadata": {},
   "source": [
    "Write a function that, given $S, H, G, V_{\\text{nn}}$ and a guess for $C$, iterates the Hartree-Fock method until it converges to a certain tolerance. It should print the total energy of the configuration."
   ]
  },
  {
   "cell_type": "code",
   "execution_count": 63,
   "metadata": {
    "collapsed": false
   },
   "outputs": [],
   "source": [
    "def iterate(S, H, G, C, Vnn, Nelec, tol=1e-4):\n",
    "    D_old = denseMat(C, Nelec)\n",
    "    D_new = D_old + 10\n",
    "    i=0\n",
    "    while np.max(np.abs(D_old-D_new)) > tol:\n",
    "        D_old = D_new.copy()\n",
    "        X = tranformMat(S)\n",
    "        D_new, C, eps = dens(X, H, G, C, D_old, Nelec)\n",
    "        i+=1\n",
    "    F = fock(H, G, D_new)\n",
    "    en = energy(D_new, H, F, Vnn)\n",
    "    print(\"The total Energy of the configuration is {} at iter = {}\".format(en, i))"
   ]
  },
  {
   "cell_type": "markdown",
   "metadata": {},
   "source": [
    "### Example"
   ]
  },
  {
   "cell_type": "markdown",
   "metadata": {},
   "source": [
    "A two-electron system would be $\\text{He} - \\text{H}_+$ - one Helium and one Hydrogen, with an electron missing. The required input data is:"
   ]
  },
  {
   "cell_type": "code",
   "execution_count": 56,
   "metadata": {
    "collapsed": true
   },
   "outputs": [],
   "source": [
    "Nelectrons = 2\n",
    "S = numpy.array([[1.0, 0.434311], [0.434311, 1.0]])\n",
    "H = numpy.array([[-1.559058, -1.111004], [-1.111004, -2.49499]])\n",
    "G = numpy.array([[[[ 0.77460594,  0.27894304],[ 0.27894304,  0.52338927]],\n",
    "                  [[ 0.27894304,  0.14063907],[ 0.14063907,  0.34321967]]],\n",
    "                 [[[ 0.27894304,  0.14063907],[ 0.14063907,  0.34321967]],\n",
    "                  [[ 0.52338927,  0.34321967],[ 0.34321967,  1.05571294]]]])\n",
    "Vnn = 1.3668670357"
   ]
  },
  {
   "cell_type": "markdown",
   "metadata": {},
   "source": [
    "Check that your algorithm works: the total energy should be approximately $-2.626$ (Hartrees), and the initial guess can be pure zeros. It should take around 15 iterations."
   ]
  },
  {
   "cell_type": "code",
   "execution_count": 99,
   "metadata": {
    "collapsed": false
   },
   "outputs": [
    {
     "name": "stdout",
     "output_type": "stream",
     "text": [
      "The total Energy of the configuration is -2.6261330458669705 at iter = 7\n"
     ]
    }
   ],
   "source": [
    "C = np.zeros_like(H)\n",
    "iterate(S, H, G, C, Vnn, Nelectrons, tol=1e-4)"
   ]
  },
  {
   "cell_type": "code",
   "execution_count": null,
   "metadata": {
    "collapsed": true
   },
   "outputs": [],
   "source": []
  }
 ],
 "metadata": {
  "kernelspec": {
   "display_name": "Python 3",
   "language": "python",
   "name": "python3"
  },
  "language_info": {
   "codemirror_mode": {
    "name": "ipython",
    "version": 3
   },
   "file_extension": ".py",
   "mimetype": "text/x-python",
   "name": "python",
   "nbconvert_exporter": "python",
   "pygments_lexer": "ipython3",
   "version": "3.5.1"
  }
 },
 "nbformat": 4,
 "nbformat_minor": 0
}
