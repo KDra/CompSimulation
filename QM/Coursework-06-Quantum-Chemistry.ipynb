{
 "cells": [
  {
   "cell_type": "code",
   "execution_count": null,
   "metadata": {
    "collapsed": true
   },
   "outputs": [],
   "source": [
    "# Quantum Chemistry - Coursework"
   ]
  },
  {
   "cell_type": "code",
   "execution_count": null,
   "metadata": {
    "collapsed": false
   },
   "outputs": [],
   "source": [
    "from IPython.core.display import HTML\n",
    "css_file = 'https://raw.githubusercontent.com/ngcm/training-public/master/ipython_notebook_styles/ngcmstyle.css'\n",
    "HTML(url=css_file)"
   ]
  },
  {
   "cell_type": "code",
   "execution_count": null,
   "metadata": {
    "collapsed": true
   },
   "outputs": [],
   "source": [
    "%matplotlib inline\n",
    "import numpy as np\n",
    "from matplotlib import pyplot as plt\n",
    "from matplotlib import rcParams\n",
    "rcParams['font.family'] = 'serif'\n",
    "rcParams['font.size'] = 16\n",
    "rcParams['figure.figsize'] = (12,6)\n",
    "rcParams['contour.negative_linestyle'] = 'solid'\n",
    "from scipy.integrate import quad\n",
    "from numpy import pi\n",
    "from numpy.linalg import norm"
   ]
  },
  {
   "cell_type": "markdown",
   "metadata": {},
   "source": [
    "## Water\n",
    "\n",
    "Perform the self-consistent field calculation for a water molecule, $\\text{H}_2\\text{O}$."
   ]
  },
  {
   "cell_type": "markdown",
   "metadata": {},
   "source": [
    "### Parameters\n",
    "\n",
    "The locations of the atoms are:"
   ]
  },
  {
   "cell_type": "code",
   "execution_count": null,
   "metadata": {
    "collapsed": false
   },
   "outputs": [],
   "source": [
    "R_O = np.array([0.0, 1.809*np.cos(104.52/180.0*np.pi/2.0), 0.0])\n",
    "R_H1 = np.array([-1.809*np.sin(104.52/180.0*np.pi/2.0), 0.0, 0.0])\n",
    "R_H2 = np.array([+1.809*np.sin(104.52/180.0*np.pi/2.0), 0.0, 0.0])\n",
    "scale = norm(R_O-R_H1) *1.5"
   ]
  },
  {
   "cell_type": "markdown",
   "metadata": {},
   "source": [
    "The nuclear repulsion energy is:"
   ]
  },
  {
   "cell_type": "code",
   "execution_count": null,
   "metadata": {
    "collapsed": true
   },
   "outputs": [],
   "source": [
    "Vnn = 8.90770810"
   ]
  },
  {
   "cell_type": "markdown",
   "metadata": {},
   "source": [
    "The overlap matrix is:"
   ]
  },
  {
   "cell_type": "code",
   "execution_count": null,
   "metadata": {
    "collapsed": true
   },
   "outputs": [],
   "source": [
    "S = np.array([[ 1.       ,  0.2367039,  0.       ,  0.       , -0.       ,\n",
    "         0.0500137,  0.0500137],\n",
    "       [ 0.2367039,  1.       ,  0.       ,  0.       , -0.       ,\n",
    "         0.4539953,  0.4539953],\n",
    "       [ 0.       ,  0.       ,  1.       ,  0.       ,  0.       ,\n",
    "         0.       ,  0.       ],\n",
    "       [ 0.       ,  0.       ,  0.       ,  1.       ,  0.       ,\n",
    "         0.2927386, -0.2927386],\n",
    "       [-0.       , -0.       ,  0.       ,  0.       ,  1.       ,\n",
    "         0.2455507,  0.2455507],\n",
    "       [ 0.0500137,  0.4539953,  0.       ,  0.2927386,  0.2455507,\n",
    "         1.       ,  0.2510021],\n",
    "       [ 0.0500137,  0.4539953,  0.       , -0.2927386,  0.2455507,\n",
    "         0.2510021,  1.       ]])"
   ]
  },
  {
   "cell_type": "markdown",
   "metadata": {},
   "source": [
    "The core Hamiltonian is:"
   ]
  },
  {
   "cell_type": "code",
   "execution_count": null,
   "metadata": {
    "collapsed": true
   },
   "outputs": [],
   "source": [
    "H = np.array([[ -3.26850823e+01,  -7.60432270e+00,   0.00000000e+00,\n",
    "          0.00000000e+00,  -1.86797000e-02,  -1.61960350e+00,\n",
    "         -1.61960350e+00],\n",
    "       [ -7.60432270e+00,  -9.30206280e+00,   0.00000000e+00,\n",
    "          0.00000000e+00,  -2.22159800e-01,  -3.54321070e+00,\n",
    "         -3.54321070e+00],\n",
    "       [  0.00000000e+00,   0.00000000e+00,  -7.43083560e+00,\n",
    "          0.00000000e+00,   0.00000000e+00,   0.00000000e+00,\n",
    "          0.00000000e+00],\n",
    "       [  0.00000000e+00,   0.00000000e+00,   0.00000000e+00,\n",
    "         -7.56702220e+00,   0.00000000e+00,  -1.89085610e+00,\n",
    "          1.89085610e+00],\n",
    "       [ -1.86797000e-02,  -2.22159800e-01,   0.00000000e+00,\n",
    "          0.00000000e+00,  -7.52665570e+00,  -1.65878930e+00,\n",
    "         -1.65878930e+00],\n",
    "       [ -1.61960350e+00,  -3.54321070e+00,   0.00000000e+00,\n",
    "         -1.89085610e+00,  -1.65878930e+00,  -4.95649010e+00,\n",
    "         -1.56026360e+00],\n",
    "       [ -1.61960350e+00,  -3.54321070e+00,   0.00000000e+00,\n",
    "          1.89085610e+00,  -1.65878930e+00,  -1.56026360e+00,\n",
    "         -4.95649010e+00]])"
   ]
  },
  {
   "cell_type": "markdown",
   "metadata": {},
   "source": [
    "The number of electrons is:"
   ]
  },
  {
   "cell_type": "code",
   "execution_count": null,
   "metadata": {
    "collapsed": true
   },
   "outputs": [],
   "source": [
    "Nelectrons = 10"
   ]
  },
  {
   "cell_type": "markdown",
   "metadata": {},
   "source": [
    "The two electron integrals are:"
   ]
  },
  {
   "cell_type": "code",
   "execution_count": null,
   "metadata": {
    "collapsed": false
   },
   "outputs": [],
   "source": [
    "G=np.fromfile('./H2O-two-electron.dat')\n",
    "G = np.reshape(G,(7,7,7,7));"
   ]
  },
  {
   "cell_type": "markdown",
   "metadata": {},
   "source": [
    "## Plotting\n",
    "\n",
    "There is useful information contained in the basis functions. The calculations here used the *STO-3G* basis, which are Gaussians with carefully chosen coefficients. There is one basis function per atomic orbital: so one for each hydrogen (the \"1s\" orbital) and five for the oxygen (one for the \"1s\" orbital, one for the \"2s\" orbital, and three for the \"2p\" orbitals - one for each Cartesian direction, associated with the quantum spins). Each basis function is written\n",
    "\n",
    "\\begin{equation}\n",
    "  \\tilde{\\chi} (r) = \\sum_{i=1}^3 c_{i} \\left( \\frac{2 \\alpha_i}{\\pi} \\right)^{3/4} e^{-\\alpha_i r^2},\n",
    "\\end{equation}\n",
    "\n",
    "where $r$ is the distance to the nucleus of this particular atom, and the $c_i, \\alpha_i$ coefficients depend on the atom and the orbital.\n",
    "\n",
    "For the \"1s\" orbitals the values of the coefficients are\n",
    "\n",
    "\\begin{align}\n",
    "  c_1 &= 0.444635, & c_2 &= 0.535328, & c_3 &= 0.154329, \\\\\n",
    "  \\alpha_1 &= 0.109818 \\zeta_1^2, & \\alpha_2 &= 0.405771 \\zeta_1^2, & \\alpha_3 &= 2.22766 \\zeta_1^2.\n",
    "\\end{align}\n",
    "\n",
    "Here $\\zeta_1 = 1.24$ for hydrogen and $\\zeta_1 = 7.66$ for oxygen.\n",
    "\n",
    "For the \"2s\" orbital the coefficients are\n",
    "\n",
    "\\begin{align}\n",
    "  c_1 &= 0.700115, & c_2 &= 0.399513, & c_3 &= -0.0999672, \\\\\n",
    "  \\alpha_1 &= 0.0751386 \\zeta_2^2, & \\alpha_2 &= 0.231031 \\zeta_2^2, & \\alpha_3 &= 0.994203 \\zeta_2^2.\n",
    "\\end{align}\n",
    "\n",
    "Here $\\zeta_2 = 2.25$ for oxygen.\n",
    "\n",
    "Finally, for the \"2p\" orbital, the coefficients are\n",
    "\n",
    "\\begin{align}\n",
    "  c_1 &= 0.391957, & c_2 &= 0.607684, & c_3 &= 0.1559163, \\\\\n",
    "  \\alpha_1 &= 0.0751386 \\zeta_2^2, & \\alpha_2 &= 0.231031 \\zeta_2^2, & \\alpha_3 &= 0.994203 \\zeta_2^2.\n",
    "\\end{align}\n",
    "\n",
    "In the above matrices, the seven entries correspond to:\n",
    "\n",
    "\\begin{align}\n",
    "  0 &: \\text{Oxygen, 1s}, \\\\\n",
    "  1 &: \\text{Oxygen, 2s}, \\\\\n",
    "  2 &: \\text{Oxygen, 2p (x)}, \\\\\n",
    "  3 &: \\text{Oxygen, 2p (y)}, \\\\\n",
    "  4 &: \\text{Oxygen, 2p (z)}, \\\\\n",
    "  5 &: \\text{Hydrogen (1), 1s}, \\\\\n",
    "  6 &: \\text{Hydrogen (2), 1s}.\n",
    "\\end{align}\n",
    "\n",
    "### Constructing the full molecular orbitals\n",
    "\n",
    "Given these basis functions, the single orbital molecular orbitals can be constructed as\n",
    "\n",
    "\\begin{equation}\n",
    "  \\chi_i = \\sum_{\\mu=1}^K C_{i\\mu} \\tilde{\\chi}_{\\mu}.\n",
    "\\end{equation}\n",
    "\n",
    "The iso-surfaces of the molecular orbitals give useful information about the reaction properties of the molecule."
   ]
  },
  {
   "cell_type": "code",
   "execution_count": null,
   "metadata": {
    "collapsed": true
   },
   "outputs": [],
   "source": [
    "def tranformMat(S):\n",
    "    \"\"\"\n",
    "    Returns the transformation matrix X given the separation matrix S.\n",
    "    \n",
    "    Internal variables:\n",
    "    w       eigenvalues of S\n",
    "    v       eigenvectors of S\n",
    "    Inputs:\n",
    "    S       matrix of double\n",
    "            Separation of atoms           \n",
    "    Output:\n",
    "    X       matrix of double\n",
    "            Transformation matrix\n",
    "    \"\"\"\n",
    "    w, v = np.linalg.eig(S)\n",
    "    w = np.diag(w**(-1/2))\n",
    "    X = np.dot(np.dot(v, w), v.conj().T)\n",
    "    return X\n",
    "\n",
    "def denseMat(C, Nelec):\n",
    "    \"\"\"\n",
    "    Return the density matrix D given the total number of electrons and the \n",
    "    coefficient matrix C used to obtain the molecular orbitals.\n",
    "    \"\"\"\n",
    "    assert np.shape(C)[0] == np.shape(C)[1],\\\n",
    "        \"The coefficient matrix should be square.\"\"\"\n",
    "    \n",
    "    D = np.zeros_like(C)\n",
    "    n = int(Nelec/2.0)\n",
    "    \n",
    "    for mu in np.arange(len(C)):\n",
    "        for nu in np.arange(len(C)):\n",
    "            for j in np.arange(n):\n",
    "                D[mu, nu] += 2*C[mu, j]*C[nu, j]\n",
    "    return D\n",
    "\n",
    "def fock(H, G, D):\n",
    "    \"\"\"\n",
    "    Return the Fock 'operator' F given the Hamiltonian 'operator' H, the two\n",
    "    electron interaction 'operator' G and the density matrix D.\n",
    "    \"\"\"\n",
    "    assert len(np.shape(H)) == len(np.shape(D)) == 2,\\\n",
    "    \"H and D must be 2 dimensional\"\n",
    "    assert np.shape(H)[0] == np.shape(D)[0],\\\n",
    "    \"H and D must have the same dimensions\"\n",
    "    assert len(np.shape(G)), \"G must be 4 dimensional\"\n",
    "    assert np.shape(G)[0] == np.shape(G)[1] == np.shape(G)[2] == np.shape(G)[3],\\\n",
    "    \"Ensure that all dimensions of G are equal.\"\n",
    "    assert np.shape(D)[0] == np.shape(D)[1], \"Ensure that D is a square matrix\"\n",
    "    F = np.zeros_like(D)\n",
    "    n = len(D)\n",
    "    for mu in np.arange(n):\n",
    "        for nu in np.arange(n):\n",
    "            F[mu, nu] = H[mu, nu]\n",
    "            for a in np.arange(n):\n",
    "                for b in np.arange(n):\n",
    "                    F[mu, nu] += (G[mu, nu, a, b] - 0.5 * G[mu, b, a, nu]) * D[a,b]\n",
    "    return F\n",
    "\n",
    "def coef(F, X):\n",
    "    \"\"\"\n",
    "    Returns the orbital energies and a new approximation of the coefficient\n",
    "    matrix C by doing an eigen decomposition on the transformed Fock operator.\n",
    "    \"\"\"\n",
    "    assert np.shape(F)[0] == np.shape(F)[1], \"Ensure that F is a square matrix\"\n",
    "    assert np.shape(X)[0] == np.shape(X)[1], \"Ensure that X is a square matrix\"\n",
    "    F = np.dot(X.conj().T, F)\n",
    "    F = np.dot(F, X)\n",
    "    orb_enrg, v = np.linalg.eigh(F)\n",
    "    C = np.dot(X, v)\n",
    "    return orb_enrg, C\n",
    "\n",
    "def dens(X, H, G, C, D, Nelec):\n",
    "    \"\"\"\n",
    "    Returns a new approximation of the density matrix D by computing the\n",
    "    the Fock operator and then using it to compute a new coefficient matrix C.\n",
    "    The function also returns the improved guess for C and the orbital energies\n",
    "    in 'eps'.\n",
    "    \"\"\"\n",
    "    assert np.shape(X)[0] == np.shape(X)[1], \"Ensure that X is a square matrix\"\n",
    "    assert len(np.shape(G)), \"G must be 4 dimensional\"\n",
    "    assert np.shape(G)[0] == np.shape(G)[1] == np.shape(G)[2] == np.shape(G)[3],\\\n",
    "    \"Ensure that all dimensions of G are equal.\"\n",
    "    assert np.shape(H)[0] == np.shape(H)[1], \"Ensure that H is a square matrix\"\n",
    "    assert np.shape(C)[0] == np.shape(C)[1], \"Ensure that C is a square matrix\"\n",
    "    assert np.shape(D)[0] == np.shape(D)[1], \"Ensure that D is a square matrix\"\n",
    "    assert np.shape(C)[0] == np.shape(D)[0], \"Ensure D and C have equal size\"\n",
    "    F = fock(H, G, D)\n",
    "    eps, C = coef(F, X)\n",
    "    D = denseMat(C, Nelec)\n",
    "    return D, C, eps\n",
    "\n",
    "def energy(D, H, F, Vnn):\n",
    "    \"\"\"\n",
    "    Returns the total energy of the system, given an orbital configuration.\n",
    "    \"\"\"\n",
    "    return 0.5 * np.sum(D * (H + F)) + Vnn\n",
    "\n",
    "def iterate(S, H, G, C, Vnn, Nelec, tol=1e-12):\n",
    "    \"\"\"\n",
    "    Returns the matrix of coefficients for the molecular orbitals in C for the \n",
    "    lowest energy configuration of the system. This is computed by looking at\n",
    "    the changes in the density matrix to avoid an additional function evaluation\n",
    "    at each step. The methods are nevertheless equivalent.\n",
    "    \"\"\"\n",
    "    D_old = denseMat(C, Nelec)\n",
    "    D_new = D_old + 10\n",
    "    i=0\n",
    "    while np.max(np.abs(D_old-D_new)) > tol:\n",
    "        D_old = D_new.copy()\n",
    "        X = tranformMat(S)\n",
    "        D_new, C, eps = dens(X, H, G, C, D_old, Nelec)\n",
    "        i+=1\n",
    "    F = fock(H, G, D_new)\n",
    "    en = energy(D_new, H, F, Vnn)\n",
    "    print(\"The total Energy of the configuration is {}, reached at iteration = {}\".format(en, i))\n",
    "    return C"
   ]
  },
  {
   "cell_type": "markdown",
   "metadata": {},
   "source": [
    "## Tasks\n",
    "\n",
    "Compute the total energy using the self-consistent field method. Ensure that your code prints the energy to the screen and returns the basis coefficients $C$ for later use."
   ]
  },
  {
   "cell_type": "code",
   "execution_count": null,
   "metadata": {
    "collapsed": true
   },
   "outputs": [],
   "source": [
    "# Vectors to contain all the gaussian coefficients\n",
    "c = np.array([[0.444635, 0.535328, 0.154329], [0.700115, 0.399513, -0.0999672], [0.391957, 0.607684, 0.1559163]])\n",
    "alpha = np.array([[0.109818, 0.405771, 2.22766], [0.0751386, 0.231031, 0.994203], [0.0751386, 0.231031, 0.994203]])"
   ]
  },
  {
   "cell_type": "code",
   "execution_count": null,
   "metadata": {
    "collapsed": false
   },
   "outputs": [],
   "source": [
    "# Compute the orbital coefficient matrix\n",
    "C = np.zeros_like(S)\n",
    "C = iterate(S, H, G, C, Vnn, Nelectrons, tol=1e-10)"
   ]
  },
  {
   "cell_type": "markdown",
   "metadata": {},
   "source": [
    "Construct the molecular orbitals and plot isocontours of each in the $x-y$ plane."
   ]
  },
  {
   "cell_type": "markdown",
   "metadata": {},
   "source": [
    "\\begin{equation}\n",
    "\\tilde{\\chi} (r) = \\sum_{i=1}^3 c_{i} \\left( \\frac{2 \\alpha_i}{\\pi} \\right)^{3/4} e^{-\\alpha_i r^2},\n",
    "\\end{equation}"
   ]
  },
  {
   "cell_type": "code",
   "execution_count": null,
   "metadata": {
    "collapsed": true
   },
   "outputs": [],
   "source": [
    "def basisH(r, c, alpha, zeta = 1.24**2):\n",
    "    \"\"\"\n",
    "    Function to compute the gaussians given a set of coefficients c and alpha,\n",
    "    with a default value of zeta included for hydrogen.\n",
    "    \"\"\"\n",
    "    assert len(np.shape(c)) == 1, \"Ensure that c is a vector\"\n",
    "    assert len(np.shape(alpha)) == 1, \"Ensure that alpha is a vector\"\n",
    "    assert len(c) == len(alpha), \"Vectors alpha and c must be of equal length\"\n",
    "    assert np.shape(r)[0] == np.shape(r)[1], \"Ensure that r is a square matrix\"\n",
    "    assert type(zeta) == float, \"Zeta must be of type float\"\n",
    "    \n",
    "    basis = np.zeros_like(r)\n",
    "    for i in np.arange(len(c)):\n",
    "        basis += c[i]*(2 * alpha[i] * zeta / np.pi)**0.75 * np.exp(-alpha[i] * zeta * r**2)\n",
    "    return basis\n",
    "\n",
    "def basisO(r, c, alpha, orb=0):\n",
    "    \"\"\"\n",
    "    Function to compute the gaussians given a set of coefficients c and alpha,\n",
    "    with default values of zeta for the s1 and other orbitals harcoded for Oxygen.\n",
    "    The preffered orbital is chosen by selecting an integer between 0 and 4 in\n",
    "    the 'orb' variable, where the values correspond to enumerated orbital names\n",
    "    from the innermost at 1s - 0 to the outermost at 2p - 2, 3, 4.\n",
    "    \"\"\"\n",
    "    assert np.shape(c) == np.shape(alpha),\\\n",
    "    \"Gaussian coefficient matrices alpha and c must be of equal length\"\n",
    "    assert np.shape(r)[0] == np.shape(r)[1], \"Ensure that r is a square matrix\"\n",
    "    \n",
    "    zeta_s1 = 7.66**2\n",
    "    zeta = 2.25**2\n",
    "    if orb == 0: \n",
    "        return basisH(r, c[0], alpha[0], zeta = zeta_s1)\n",
    "    elif orb == 1: \n",
    "        return basisH(r, c[1], alpha[1], zeta = zeta)\n",
    "    elif orb < 5 and orb >1:\n",
    "        return basisH(r, c[2], alpha[2], zeta = zeta)\n",
    "    else:\n",
    "        raise ValueError(\"Error! The number of orbitals for oxygen must be between 0 and 5\")\n",
    "\n",
    "def coord():\n",
    "    \"\"\"\n",
    "    Computes the real coordinates of the orbitals of water and it returns the \n",
    "    values in a 3D matrix where the 0th dimension points to the coordinates for\n",
    "    each orbital.\n",
    "    \"\"\"\n",
    "    # Produce a grid\n",
    "    l = np.linspace(-scale, scale, 100)\n",
    "    x, y = np.meshgrid(l, l)\n",
    "    # Compute distances from each atom\n",
    "    rO = np.sqrt((x-R_O[0])**2 + (y-R_O[1])**2)\n",
    "    rH1 = np.sqrt((x-R_H1[0])**2 + (y-R_H1[1])**2)\n",
    "    rH2 = np.sqrt((x-R_H2[0])**2 + (y-R_H2[1])**2)\n",
    "    \n",
    "    chir = np.zeros((7, len(l), len(l)))\n",
    "    # Compute gaussians corresponding to oxygen\n",
    "    for i in np.arange(5):\n",
    "        chir[i] = basisO(rO, c, alpha, orb=i)\n",
    "    # Compute gaussians corresponding to hydrogen\n",
    "    chir[5] = basisH(rH1, c[0], alpha[0])\n",
    "    chir[6] = basisH(rH2, c[0], alpha[0])\n",
    "    # Transform gaussians to obtain orbitals\n",
    "    chi = np.zeros_like(chir)\n",
    "    for i in np.arange(len(C)):\n",
    "        for j in np.arange(len(C)):\n",
    "            chi[i] += C[i, j] * chir[j]\n",
    "    return chi"
   ]
  },
  {
   "cell_type": "code",
   "execution_count": null,
   "metadata": {
    "collapsed": false
   },
   "outputs": [],
   "source": [
    "# Compute coordinates\n",
    "r = coord()\n",
    "# Plot\n",
    "titles = [\"Oxygen 1s\", \"Oxygen 2s\", \"Oxygen 2p (x)\", \"Oxygen 2p (y)\", \"Oxygen 2p (z)\", \"Hydrogen-1 1s\", \"Hydrogen-2 1s\"]\n",
    "ext = np.array([scale]*4)\n",
    "ext[1::2] *= -1\n",
    "for i in np.arange(7):\n",
    "    plt.figure()\n",
    "    lvl = np.linspace(np.max(r[i]), np.min(r[i]), 10)\n",
    "    mplt = plt.contour(r[i], extent=ext, cmap=\"copper\", levels=lvl)\n",
    "    plt.clabel(mplt, inline=1, fontsize=12, colors='k')\n",
    "    plt.title(titles[i])"
   ]
  },
  {
   "cell_type": "code",
   "execution_count": null,
   "metadata": {
    "collapsed": true
   },
   "outputs": [],
   "source": [
    "def tests():\n",
    "    def test_transformMat():\n",
    "        I = np.eye(5)\n",
    "        if np.any(tranformMat(I) == I):\n",
    "            return True\n",
    "        else:\n",
    "            return False\n",
    "        \n",
    "    def test_denseMat():\n",
    "        C = np.eye(5)\n",
    "        C[1, 3] = 1.0\n",
    "        D = C.copy()*2\n",
    "        D[1, 3] = D[3, 1] = 2.0\n",
    "        D[1, 1] = 4.0\n",
    "        D[4, 4] = 0.0\n",
    "        if np.all(denseMat(np.eye(5), 10) == np.eye(5)*2) and np.all(denseMat(C, 9) == D):\n",
    "            return True\n",
    "        else:\n",
    "            return False\n",
    "        \n",
    "    def test_fock():\n",
    "         a = np.eye(3)\n",
    "         g = g=np.array([[a]*3]*3)\n",
    "         F = np.array([[ 3.5,  2.5,  2.5],[ 2.5,  3.5,  2.5],[ 2.5,  2.5,  3.5]])\n",
    "         if np.all(fock(a, g, a) == F):\n",
    "             return True\n",
    "         else:\n",
    "             return False\n",
    "    \n",
    "    print(\"Transformation operation is successful: {}\".format(test_transformMat()))\n",
    "    print(\"Density matrix operation is successful: {}\".format(test_denseMat()))\n",
    "    print(\"Fock operation is successful: {}\".format(test_fock()))"
   ]
  },
  {
   "cell_type": "code",
   "execution_count": null,
   "metadata": {
    "collapsed": true
   },
   "outputs": [],
   "source": []
  }
 ],
 "metadata": {
  "kernelspec": {
   "display_name": "Python 3",
   "language": "python",
   "name": "python3"
  },
  "language_info": {
   "codemirror_mode": {
    "name": "ipython",
    "version": 3
   },
   "file_extension": ".py",
   "mimetype": "text/x-python",
   "name": "python",
   "nbconvert_exporter": "python",
   "pygments_lexer": "ipython3",
   "version": "3.5.1"
  }
 },
 "nbformat": 4,
 "nbformat_minor": 0
}
