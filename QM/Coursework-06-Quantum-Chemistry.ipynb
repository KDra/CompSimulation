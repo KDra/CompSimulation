{
 "cells": [
  {
   "cell_type": "markdown",
   "metadata": {},
   "source": [
    "# Quantum Chemistry - Coursework"
   ]
  },
  {
   "cell_type": "code",
   "execution_count": 1,
   "metadata": {
    "collapsed": false
   },
   "outputs": [
    {
     "data": {
      "text/html": [
       "<link href='http://fonts.googleapis.com/css?family=Open+Sans:100,300,400,500,700,800,900,100italic,300italic,400italic,500italic,700italic,800italic,900italic' rel='stylesheet' type='text/css'>\n",
       "<link href='http://fonts.googleapis.com/css?family=Arvo:400,700,400italic' rel='stylesheet' type='text/css'>\n",
       "<link href='http://fonts.googleapis.com/css?family=PT+Mono' rel='stylesheet' type='text/css'>\n",
       "<link href='http://fonts.googleapis.com/css?family=Shadows+Into+Light' rel='stylesheet' type='text/css'>\n",
       "<link href='http://fonts.googleapis.com/css?family=Nixie+One' rel='stylesheet' type='text/css'>\n",
       "<style>\n",
       "\n",
       "@font-face {\n",
       "    font-family: \"Computer Modern\";\n",
       "    src: url('http://mirrors.ctan.org/fonts/cm-unicode/fonts/otf/cmunss.otf');\n",
       "}\n",
       "\n",
       "#notebook_panel { /* main background */\n",
       "    background: rgb(245,245,245);\n",
       "}\n",
       "\n",
       "div.cell { /* set cell width */\n",
       "    width: 1000px;\n",
       "}\n",
       "\n",
       "div #notebook { /* centre the content */\n",
       "    background: #fff; /* white background for content */\n",
       "    width: 1200px;\n",
       "    margin: auto;\n",
       "    padding-left: 0em;\n",
       "}\n",
       "\n",
       "#notebook li { /* More space between bullet points */\n",
       "margin-top:0.8em;\n",
       "}\n",
       "\n",
       "/* draw border around running cells */\n",
       "div.cell.border-box-sizing.code_cell.running { \n",
       "    border: 1px solid #111;\n",
       "}\n",
       "\n",
       "/* Put a solid color box around each cell and its output, visually linking them*/\n",
       "div.cell.code_cell {\n",
       "    background-color: rgb(256,256,256); \n",
       "    border-radius: 0px; \n",
       "    padding: 0.5em;\n",
       "    margin-left:1em;\n",
       "    margin-top: 1em;\n",
       "}\n",
       "\n",
       "div.text_cell_render{\n",
       "    font-family: 'Open Sans' sans-serif;\n",
       "    line-height: 140%;\n",
       "    font-size: 125%;\n",
       "    font-weight: 400;\n",
       "    width:900px;\n",
       "    margin-left:auto;\n",
       "    margin-right:auto;\n",
       "}\n",
       "\n",
       "\n",
       "/* Formatting for header cells */\n",
       ".text_cell_render h1 {\n",
       "    font-family: 'Arvo', serif;\n",
       "    font-style:regular;\n",
       "    font-weight: 400;    \n",
       "    font-size: 45pt;\n",
       "    line-height: 100%;\n",
       "    color: rgb(0,51,102);\n",
       "    margin-bottom: 0.5em;\n",
       "    margin-top: 0.5em;\n",
       "    display: block;\n",
       "}\t\n",
       ".text_cell_render h2 {\n",
       "    font-family: 'Arvo', serif;\n",
       "    font-weight: 400;\n",
       "    font-size: 30pt;\n",
       "    line-height: 100%;\n",
       "    color: rgb(0,51,102);\n",
       "    margin-bottom: 0.1em;\n",
       "    margin-top: 0.3em;\n",
       "    display: block;\n",
       "}\t\n",
       "\n",
       ".text_cell_render h3 {\n",
       "    font-family: 'Arvo', serif;\n",
       "    margin-top:16px;\n",
       "\tfont-size: 22pt;\n",
       "    font-weight: 600;\n",
       "    margin-bottom: 3px;\n",
       "    font-style: regular;\n",
       "    color: rgb(102,102,0);\n",
       "}\n",
       "\n",
       ".text_cell_render h4 {    /*Use this for captions*/\n",
       "    font-family: 'Arvo', serif;\n",
       "    font-size: 14pt;\n",
       "    text-align: center;\n",
       "    margin-top: 0em;\n",
       "    margin-bottom: 2em;\n",
       "    font-style: regular;\n",
       "}\n",
       "\n",
       ".text_cell_render h5 {  /*Use this for small titles*/\n",
       "    font-family: 'Arvo', sans-serif;\n",
       "    font-weight: 400;\n",
       "    font-size: 16pt;\n",
       "    color: rgb(163,0,0);\n",
       "    font-style: italic;\n",
       "    margin-bottom: .1em;\n",
       "    margin-top: 0.8em;\n",
       "    display: block;\n",
       "}\n",
       "\n",
       ".text_cell_render h6 { /*use this for copyright note*/\n",
       "    font-family: 'PT Mono', sans-serif;\n",
       "    font-weight: 300;\n",
       "    font-size: 9pt;\n",
       "    line-height: 100%;\n",
       "    color: grey;\n",
       "    margin-bottom: 1px;\n",
       "    margin-top: 1px;\n",
       "}\n",
       "\n",
       ".CodeMirror{\n",
       "        font-family: \"PT Mono\";\n",
       "        font-size: 90%;\n",
       "}\n",
       "\n",
       "</style>\n",
       "<script>\n",
       "    MathJax.Hub.Config({\n",
       "                        TeX: {\n",
       "                           extensions: [\"AMSmath.js\"],\n",
       "                           equationNumbers: { autoNumber: \"AMS\", useLabelIds: true}\n",
       "                           },\n",
       "                tex2jax: {\n",
       "                    inlineMath: [ ['$','$'], [\"\\\\(\",\"\\\\)\"] ],\n",
       "                    displayMath: [ ['$$','$$'], [\"\\\\[\",\"\\\\]\"] ]\n",
       "                },\n",
       "                displayAlign: 'center', // Change this to 'center' to center equations.\n",
       "                \"HTML-CSS\": {\n",
       "                    styles: {'.MathJax_Display': {\"margin\": 4}}\n",
       "                }\n",
       "        });\n",
       "</script>\n"
      ],
      "text/plain": [
       "<IPython.core.display.HTML object>"
      ]
     },
     "execution_count": 1,
     "metadata": {},
     "output_type": "execute_result"
    }
   ],
   "source": [
    "from IPython.core.display import HTML\n",
    "css_file = 'https://raw.githubusercontent.com/ngcm/training-public/master/ipython_notebook_styles/ngcmstyle.css'\n",
    "HTML(url=css_file)"
   ]
  },
  {
   "cell_type": "code",
   "execution_count": 2,
   "metadata": {
    "collapsed": true
   },
   "outputs": [],
   "source": [
    "%matplotlib inline\n",
    "import numpy as np\n",
    "from matplotlib import pyplot\n",
    "from matplotlib import rcParams\n",
    "rcParams['font.family'] = 'serif'\n",
    "rcParams['font.size'] = 16\n",
    "rcParams['figure.figsize'] = (12,6)\n",
    "from scipy.integrate import quad\n",
    "from numpy import pi\n",
    "from numpy.linalg import norm"
   ]
  },
  {
   "cell_type": "markdown",
   "metadata": {},
   "source": [
    "## Water\n",
    "\n",
    "Perform the self-consistent field calculation for a water molecule, $\\text{H}_2\\text{O}$."
   ]
  },
  {
   "cell_type": "markdown",
   "metadata": {},
   "source": [
    "### Parameters\n",
    "\n",
    "The locations of the atoms are:"
   ]
  },
  {
   "cell_type": "code",
   "execution_count": 3,
   "metadata": {
    "collapsed": false
   },
   "outputs": [],
   "source": [
    "R_O = [0.0, 1.809*np.cos(104.52/180.0*np.pi/2.0), 0.0]\n",
    "R_H1 = [-1.809*np.sin(104.52/180.0*np.pi/2.0), 0.0, 0.0]\n",
    "R_H2 = [+1.809*np.sin(104.52/180.0*np.pi/2.0), 0.0, 0.0]"
   ]
  },
  {
   "cell_type": "markdown",
   "metadata": {},
   "source": [
    "The nuclear repulsion energy is:"
   ]
  },
  {
   "cell_type": "code",
   "execution_count": 4,
   "metadata": {
    "collapsed": true
   },
   "outputs": [],
   "source": [
    "Vnn = 8.90770810"
   ]
  },
  {
   "cell_type": "markdown",
   "metadata": {},
   "source": [
    "The overlap matrix is:"
   ]
  },
  {
   "cell_type": "code",
   "execution_count": 5,
   "metadata": {
    "collapsed": true
   },
   "outputs": [],
   "source": [
    "S = np.array([[ 1.       ,  0.2367039,  0.       ,  0.       , -0.       ,\n",
    "         0.0500137,  0.0500137],\n",
    "       [ 0.2367039,  1.       ,  0.       ,  0.       , -0.       ,\n",
    "         0.4539953,  0.4539953],\n",
    "       [ 0.       ,  0.       ,  1.       ,  0.       ,  0.       ,\n",
    "         0.       ,  0.       ],\n",
    "       [ 0.       ,  0.       ,  0.       ,  1.       ,  0.       ,\n",
    "         0.2927386, -0.2927386],\n",
    "       [-0.       , -0.       ,  0.       ,  0.       ,  1.       ,\n",
    "         0.2455507,  0.2455507],\n",
    "       [ 0.0500137,  0.4539953,  0.       ,  0.2927386,  0.2455507,\n",
    "         1.       ,  0.2510021],\n",
    "       [ 0.0500137,  0.4539953,  0.       , -0.2927386,  0.2455507,\n",
    "         0.2510021,  1.       ]])"
   ]
  },
  {
   "cell_type": "markdown",
   "metadata": {},
   "source": [
    "The core Hamiltonian is:"
   ]
  },
  {
   "cell_type": "code",
   "execution_count": 6,
   "metadata": {
    "collapsed": true
   },
   "outputs": [],
   "source": [
    "H = np.array([[ -3.26850823e+01,  -7.60432270e+00,   0.00000000e+00,\n",
    "          0.00000000e+00,  -1.86797000e-02,  -1.61960350e+00,\n",
    "         -1.61960350e+00],\n",
    "       [ -7.60432270e+00,  -9.30206280e+00,   0.00000000e+00,\n",
    "          0.00000000e+00,  -2.22159800e-01,  -3.54321070e+00,\n",
    "         -3.54321070e+00],\n",
    "       [  0.00000000e+00,   0.00000000e+00,  -7.43083560e+00,\n",
    "          0.00000000e+00,   0.00000000e+00,   0.00000000e+00,\n",
    "          0.00000000e+00],\n",
    "       [  0.00000000e+00,   0.00000000e+00,   0.00000000e+00,\n",
    "         -7.56702220e+00,   0.00000000e+00,  -1.89085610e+00,\n",
    "          1.89085610e+00],\n",
    "       [ -1.86797000e-02,  -2.22159800e-01,   0.00000000e+00,\n",
    "          0.00000000e+00,  -7.52665570e+00,  -1.65878930e+00,\n",
    "         -1.65878930e+00],\n",
    "       [ -1.61960350e+00,  -3.54321070e+00,   0.00000000e+00,\n",
    "         -1.89085610e+00,  -1.65878930e+00,  -4.95649010e+00,\n",
    "         -1.56026360e+00],\n",
    "       [ -1.61960350e+00,  -3.54321070e+00,   0.00000000e+00,\n",
    "          1.89085610e+00,  -1.65878930e+00,  -1.56026360e+00,\n",
    "         -4.95649010e+00]])"
   ]
  },
  {
   "cell_type": "markdown",
   "metadata": {},
   "source": [
    "The number of electrons is:"
   ]
  },
  {
   "cell_type": "code",
   "execution_count": 7,
   "metadata": {
    "collapsed": true
   },
   "outputs": [],
   "source": [
    "Nelectrons = 10"
   ]
  },
  {
   "cell_type": "markdown",
   "metadata": {},
   "source": [
    "The two electron integrals are:"
   ]
  },
  {
   "cell_type": "code",
   "execution_count": 8,
   "metadata": {
    "collapsed": false
   },
   "outputs": [],
   "source": [
    "G=np.fromfile('./H2O-two-electron.dat')\n",
    "G = np.reshape(G,(7,7,7,7));"
   ]
  },
  {
   "cell_type": "markdown",
   "metadata": {},
   "source": [
    "## Plotting\n",
    "\n",
    "There is useful information contained in the basis functions. The calculations here used the *STO-3G* basis, which are Gaussians with carefully chosen coefficients. There is one basis function per atomic orbital: so one for each hydrogen (the \"1s\" orbital) and five for the oxygen (one for the \"1s\" orbital, one for the \"2s\" orbital, and three for the \"2p\" orbitals - one for each Cartesian direction, associated with the quantum spins). Each basis function is written\n",
    "\n",
    "\\begin{equation}\n",
    "  \\tilde{\\chi} (r) = \\sum_{i=1}^3 c_{i} \\left( \\frac{2 \\alpha_i}{\\pi} \\right)^{3/4} e^{-\\alpha_i r^2},\n",
    "\\end{equation}\n",
    "\n",
    "where $r$ is the distance to the nucleus of this particular atom, and the $c_i, \\alpha_i$ coefficients depend on the atom and the orbital.\n",
    "\n",
    "For the \"1s\" orbitals the values of the coefficients are\n",
    "\n",
    "\\begin{align}\n",
    "  c_1 &= 0.444635, & c_2 &= 0.535328, & c_3 &= 0.154329, \\\\\n",
    "  \\alpha_1 &= 0.109818 \\zeta_1^2, & \\alpha_2 &= 0.405771 \\zeta_1^2, & \\alpha_3 &= 2.22766 \\zeta_1^2.\n",
    "\\end{align}\n",
    "\n",
    "Here $\\zeta_1 = 1.24$ for hydrogen and $\\zeta_1 = 7.66$ for oxygen.\n",
    "\n",
    "For the \"2s\" orbital the coefficients are\n",
    "\n",
    "\\begin{align}\n",
    "  c_1 &= 0.700115, & c_2 &= 0.399513, & c_3 &= -0.0999672, \\\\\n",
    "  \\alpha_1 &= 0.0751386 \\zeta_2^2, & \\alpha_2 &= 0.231031 \\zeta_2^2, & \\alpha_3 &= 0.994203 \\zeta_2^2.\n",
    "\\end{align}\n",
    "\n",
    "Here $\\zeta_2 = 2.25$ for oxygen.\n",
    "\n",
    "Finally, for the \"2p\" orbital, the coefficients are\n",
    "\n",
    "\\begin{align}\n",
    "  c_1 &= 0.391957, & c_2 &= 0.607684, & c_3 &= 0.1559163, \\\\\n",
    "  \\alpha_1 &= 0.0751386 \\zeta_2^2, & \\alpha_2 &= 0.231031 \\zeta_2^2, & \\alpha_3 &= 0.994203 \\zeta_2^2.\n",
    "\\end{align}\n",
    "\n",
    "In the above matrices, the seven entries correspond to:\n",
    "\n",
    "\\begin{align}\n",
    "  0 &: \\text{Oxygen, 1s}, \\\\\n",
    "  1 &: \\text{Oxygen, 2s}, \\\\\n",
    "  2 &: \\text{Oxygen, 2p (x)}, \\\\\n",
    "  3 &: \\text{Oxygen, 2p (y)}, \\\\\n",
    "  4 &: \\text{Oxygen, 2p (z)}, \\\\\n",
    "  5 &: \\text{Hydrogen (1), 1s}, \\\\\n",
    "  6 &: \\text{Hydrogen (2), 1s}.\n",
    "\\end{align}\n",
    "\n",
    "### Constructing the full molecular orbitals\n",
    "\n",
    "Given these basis functions, the single orbital molecular orbitals can be constructed as\n",
    "\n",
    "\\begin{equation}\n",
    "  \\chi_i = \\sum_{\\mu=1}^K C_{i\\mu} \\tilde{\\chi}_{\\mu}.\n",
    "\\end{equation}\n",
    "\n",
    "The iso-surfaces of the molecular orbitals give useful information about the reaction properties of the molecule."
   ]
  },
  {
   "cell_type": "code",
   "execution_count": 9,
   "metadata": {
    "collapsed": true
   },
   "outputs": [],
   "source": [
    "c = np.array([[0.444635, 0.535328, 0.154329], [0.700115, 0.399513, -0.0999672], [0.391957, 0.607684, 0.1559163]])\n",
    "alpha = np.array([[0.109818, 0.405771, 2.22766], [0.0751386, 0.231031, 0.994203], [0.0751386, 0.231031, 0.994203]])\n",
    "zeta = np.array([[1.24, 7.66], [0, 2.25]])"
   ]
  },
  {
   "cell_type": "code",
   "execution_count": 10,
   "metadata": {
    "collapsed": true
   },
   "outputs": [],
   "source": [
    "def tranformMat(S):\n",
    "    w, v = np.linalg.eig(S)\n",
    "    w = np.diag(w**(-1/2))\n",
    "    return np.dot(np.dot(v, w), v.conj().T)\n",
    "\n",
    "def denseMat(C, Nelec):\n",
    "    D = np.zeros_like(C)\n",
    "    n = int(Nelec/2.0)\n",
    "    for mu in np.arange(len(C)):\n",
    "        for nu in np.arange(len(C)):\n",
    "            for j in np.arange(n):\n",
    "                D[mu, nu] += 2*C[mu, j]*C[nu, j]\n",
    "    return D\n",
    "\n",
    "def fock(H, G, D):\n",
    "    F = np.zeros_like(D)\n",
    "    n = len(D)\n",
    "    for mu in np.arange(n):\n",
    "        for nu in np.arange(n):\n",
    "            F[mu, nu] = H[mu, nu]\n",
    "            for a in np.arange(n):\n",
    "                for b in np.arange(n):\n",
    "                    F[mu, nu] += (G[mu, nu, a, b] - 0.5 * G[mu, b, a, nu]) * D[a,b]\n",
    "        #F[mu, nu] = H[mu, nu] + np.sum((G[mu, nu, :, :] - 0.5 * G[mu, :, :, nu])* D)\n",
    "    return F\n",
    "\n",
    "def coef(F, X):\n",
    "    #X = np.diag(X)\n",
    "    F = np.dot(X.conj().T, F)\n",
    "    F = np.dot(F, X)\n",
    "    w, v = np.linalg.eigh(F)\n",
    "    return w, np.dot(X, v)\n",
    "\n",
    "def dens(X, H, G, C, D, Nelec):\n",
    "    F = fock(H, G, D)\n",
    "    eps, C = coef(F, X)\n",
    "    D = denseMat(C, Nelec)\n",
    "    return D, C, eps\n",
    "\n",
    "def energy(D, H, F, Vnn):\n",
    "    return 0.5 * np.sum(D * (H + F)) + Vnn\n",
    "\n",
    "def iterate(S, H, G, C, Vnn, Nelec, tol=1e-4):\n",
    "    D_old = denseMat(C, Nelec)\n",
    "    D_new = D_old + 10\n",
    "    i=0\n",
    "    while np.max(np.abs(D_old-D_new)) > tol:\n",
    "        D_old = D_new.copy()\n",
    "        X = tranformMat(S)\n",
    "        D_new, C, eps = dens(X, H, G, C, D_old, Nelec)\n",
    "        i+=1\n",
    "    F = fock(H, G, D_new)\n",
    "    en = energy(D_new, H, F, Vnn)\n",
    "    print(\"The total Energy of the configuration is {} at iter = {}\".format(en, i))\n",
    "    return C"
   ]
  },
  {
   "cell_type": "markdown",
   "metadata": {},
   "source": [
    "## Tasks\n",
    "\n",
    "Compute the total energy using the self-consistent field method. Ensure that your code prints the energy to the screen and returns the basis coefficients $C$ for later use."
   ]
  },
  {
   "cell_type": "code",
   "execution_count": 12,
   "metadata": {
    "collapsed": false
   },
   "outputs": [
    {
     "name": "stdout",
     "output_type": "stream",
     "text": [
      "The total Energy of the configuration is -74.96590106014926 at iter = 23\n"
     ]
    }
   ],
   "source": [
    "C = np.zeros_like(S)\n",
    "C = iterate(S, H, G, C, Vnn, Nelectrons, tol=1e-8)"
   ]
  },
  {
   "cell_type": "markdown",
   "metadata": {},
   "source": [
    "Construct the molecular orbitals and plot isocontours of each in the $x-y$ plane."
   ]
  },
  {
   "cell_type": "code",
   "execution_count": null,
   "metadata": {
    "collapsed": true
   },
   "outputs": [],
   "source": []
  }
 ],
 "metadata": {
  "kernelspec": {
   "display_name": "Python 3",
   "language": "python",
   "name": "python3"
  },
  "language_info": {
   "codemirror_mode": {
    "name": "ipython",
    "version": 3
   },
   "file_extension": ".py",
   "mimetype": "text/x-python",
   "name": "python",
   "nbconvert_exporter": "python",
   "pygments_lexer": "ipython3",
   "version": "3.5.1"
  }
 },
 "nbformat": 4,
 "nbformat_minor": 0
}
